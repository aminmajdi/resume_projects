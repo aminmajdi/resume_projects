{
 "cells": [
  {
   "cell_type": "code",
   "execution_count": 1,
   "metadata": {},
   "outputs": [],
   "source": [
    "import numpy as np\n",
    "import pandas as pd #pip3 install pandas\n",
    "import matplotlib.pyplot as plt\n",
    "\n",
    "from cam_to_trajectory import get_index_finger_pose\n",
    "from cam_to_trajectory import plot_positions\n",
    "from cam_to_trajectory import get_all_link_poses"
   ]
  },
  {
   "cell_type": "code",
   "execution_count": 63,
   "metadata": {},
   "outputs": [],
   "source": [
    "def get_link_lengths(keypoint_poses):\n",
    "    \"\"\" keypoint_poses is a dictionary of 5 keys, each with a list of associated poses;\n",
    "        each associated pose in the list is a triple: (x position, y position)\n",
    "        \n",
    "        poses = {\n",
    "            'neck': [(x,y), ...],          # <=> theta_4\n",
    "            'shoulder': [(x,y), ...],      # <=> theta_3\n",
    "            'elbow': [(x,y), ...],         # <=> theta_2\n",
    "            'wrist': [(x,y), ...],         # <=> theta_1\n",
    "            'finger': [(x,y), ...]         # <=> \n",
    "        }\n",
    "    \n",
    "        e.g.,\n",
    "        the first entry for link 'neck':\n",
    "        \n",
    "        keypoint_poses['neck'][0] ==> (265.403, 257.642)\n",
    "    \n",
    "    \"\"\"\n",
    "    ### create imaginary links b1, b2\n",
    "    # get first pose of neck keypoint\n",
    "    theta_4 = keypoint_poses['neck'][0]\n",
    "    # then draw a straight line below it (-100 pixels) and to the left (-100 pixels)\n",
    "    # to represent base link b1\n",
    "    theta_b1 = np.array((theta_4[0] - 200, theta_4[1] - 100))\n",
    "    # b1 is now defined by endpoints theta_4 and theta_b1\n",
    "    \n",
    "    #for be, draw a straight line below it (-100 pixels) and to the right (+100 pixels)\n",
    "    theta_b2 = np.array((theta_b1[0] + 200, theta_b1[1] - 100))\n",
    "    # b2 is now defined by endpoints theta_b1 and theta_b2\n",
    "    \n",
    "    initial_neck = keypoint_poses['neck'][0]\n",
    "    initial_shoulder = keypoint_poses['shoulder'][0]\n",
    "    initial_elbow = keypoint_poses['elbow'][0]\n",
    "    initial_wrist = keypoint_poses['wrist'][0]\n",
    "    initial_finger = keypoint_poses['finger'][0]\n",
    "    b1_len = np.linalg.norm(theta_b1 - initial_neck)\n",
    "    b2_len = np.linalg.norm(theta_b1 - theta_b2)\n",
    "    #print(\"keypoint_poses\",theta_b2,theta_b1,initial_neck,initial_shoulder,initial_elbow,initial_wrist,initial_finger)\n",
    "    \n",
    "    neck_shoulder = np.linalg.norm(initial_neck - initial_shoulder) \n",
    "    shoulder_elbow = np.linalg.norm(initial_shoulder - initial_elbow)\n",
    "    elbow_wrist = np.linalg.norm(initial_elbow - initial_wrist)\n",
    "    wrist_finger = np.linalg.norm(initial_wrist - initial_finger)\n",
    "    L_list=[b1_len, b2_len, neck_shoulder, shoulder_elbow, elbow_wrist, wrist_finger]\n",
    "    fixed_home_joint_pose=theta_b2\n",
    "    return L_list , fixed_home_joint_pose\n",
    "\n",
    "#################\n",
    "#This function extracts thetas  for each link (joint rotation) based on base cordinate \n",
    "#################\n",
    "def extract_theta_s_list_and_finger_points(keypoint_poses):\n",
    "    all_theta_s_list=np.empty((0,4))#'4' for the rotary joints\n",
    "    finger_poses=np.empty((0,2))\n",
    "    for i in range(len(keypoint_poses['neck'])):\n",
    "        joints_pose=np.array([keypoint_poses['neck'][i],keypoint_poses['shoulder'][i],keypoint_poses['elbow'][i],\n",
    "                    keypoint_poses['wrist'][i],keypoint_poses['finger'][i]])\n",
    "        theta_list=[]\n",
    "        for j in range(len(joints_pose)-1):\n",
    "            dx=joints_pose[j+1][0]-joints_pose[j][0]\n",
    "            dy=joints_pose[j+1][1]-joints_pose[j][1]\n",
    "            theta=np.arctan(dy/dx)\n",
    "            if dx<0:# to have theta between (-pi,pi)\n",
    "                if theta<0:\n",
    "                    theta+=np.pi\n",
    "                else:\n",
    "                    theta-=np.pi\n",
    "            theta_list.append(theta)\n",
    "        all_theta_s_list=np.append(all_theta_s_list,[np.array(theta_list)],axis=0)\n",
    "        finger_poses=np.append(finger_poses,[keypoint_poses['finger'][i]],axis=0)\n",
    "    return all_theta_s_list , finger_poses\n",
    "\n",
    "\n",
    "########\n",
    "#This function makes sure that the thetas are always between (-pi,pi)\n",
    "########\n",
    "def check_theta(theta):\n",
    "    while theta>np.pi:\n",
    "        theta-= 2*np.pi\n",
    "    while theta<=-np.pi:\n",
    "        theta+= 2*np.pi\n",
    "    return theta \n",
    "\n",
    "################\n",
    "#In this function we calculate positions for fixed link and \n",
    "# joint rotations( rotated angles with respect to previous link )\n",
    "################\n",
    "def real_pose_and_joint_thetas(theta_s_list,L_list,fixed_point,finger_poses):\n",
    "    \n",
    "    real_poses=np.empty((0,len(L_list)+1,2))\n",
    "    all_joint_rotation_angles=np.empty((0,len(L_list)))\n",
    "    for i in range(len(theta_s_list)):\n",
    "        end=finger_poses[i]\n",
    "        poses=[]\n",
    "        for j in reversed(range(2,len(L_list))):#skip 2 imaginary links\n",
    "            new=[end[0]-L_list[j]*np.cos(theta_s_list[i][j-2]),end[1]-L_list[j]*np.sin(theta_s_list[i][j-2])]\n",
    "            #if i ==0: print(new)\n",
    "            poses.insert(0,new)\n",
    "            end=new\n",
    "            \n",
    "        # now we calculte the imaginary joint's position\n",
    "        L_prime=np.linalg.norm(np.array(poses[0]) - np.array(fixed_point))# distance betwin first joint to neck\n",
    "        if (poses[0][0]-fixed_point[0])==0:\n",
    "            if ((poses[0][1]-fixed_point[1]))>=0:\n",
    "                theta_prime = 1.57079632\n",
    "            elif ((poses[0][1]-fixed_point[1]))<0:\n",
    "                theta_prime = -1.57079632\n",
    "        else:\n",
    "            theta_prime=np.arctan((poses[0][1]-fixed_point[1])/(poses[0][0]-fixed_point[0]))#theta corespond to L_prime\n",
    "        \n",
    "        if (poses[0][0]-fixed_point[0])<0:# to have theta between (-pi,pi)\n",
    "            if theta_prime<0:\n",
    "                theta_prime+=np.pi\n",
    "            else:\n",
    "                theta_prime-=np.pi\n",
    "                     \n",
    "        L1=L_list[0] \n",
    "        L2=L_list[1]\n",
    "        L3=L_prime\n",
    "        #print(\"cos\",(L1**2+L3**2-L2**2)/(2*L1*L3) , L1,L3)\n",
    "        theta=np.arccos((L1**2+L3**2-L2**2)/(2*L1*L3)) #cosign low in triangle\n",
    "        theta_base=theta_prime + theta # the (+) forces the imaginary point to always be on the left side of L3\n",
    "        theta_base=check_theta(theta_base)\n",
    "        imaginary_joint_pose=np.array([fixed_point[0]+L1*np.cos(theta_base),fixed_point[1]+L1*np.sin(theta_base)])\n",
    "        #if 737<i<745 : \n",
    "        #    print(\"imaginary_joint_pose\",imaginary_joint_pose,theta,theta_base)\n",
    "        \n",
    "        \n",
    "        ###### creating the real pose for all joints:\n",
    "        \n",
    "        poses.insert(0,imaginary_joint_pose)\n",
    "        poses.insert(0,fixed_point)\n",
    "        poses.append(finger_poses[i])\n",
    "        real_poses=np.append(real_poses,[np.array(poses)],axis=0)\n",
    "        \n",
    "        theta2_s = np.arcsin((poses[2][1]-poses[1][1])/L2)\n",
    "        if (poses[2][1]-poses[1][1]) <  0:\n",
    "            theta2_s=np.pi -theta2_s\n",
    "        theta2_s=check_theta(theta2_s)\n",
    "        \n",
    "        \n",
    "        ######creating the joints theta rotations:\n",
    "        \n",
    "        new_theta_list = theta_s_list[i] \n",
    "        new_theta_list = np.insert(new_theta_list,0,[theta_base,theta2_s])# 'new_theta_list' contains all thetas with respect to base fram\n",
    "        joint_angles=[]# 'joint_angles' shows the rotation related to each revolute joint\n",
    "        previous_joint_angle=0\n",
    "        for k in range(len(new_theta_list)):\n",
    "            joint_theta=new_theta_list[k]-previous_joint_angle\n",
    "            joint_theta=check_theta(joint_theta)\n",
    "            joint_angles.append(joint_theta)\n",
    "            previous_joint_angle=new_theta_list[k]\n",
    "            \n",
    "        all_joint_rotation_angles=np.append(all_joint_rotation_angles,[np.array(joint_angles)],axis=0)\n",
    "        \n",
    "        \n",
    "    return real_poses , all_joint_rotation_angles\n",
    "\n",
    "################\n",
    "#Calculate dthetas based on the thetas and dt\n",
    "#the last dtheta is equal to last-1\n",
    "################\n",
    "\n",
    "\n",
    "def calculate_dthetas(thetas,dt):\n",
    "    dtheta_list=np.empty((0,len(thetas[0])))\n",
    "    for i in range(len(thetas)-1):\n",
    "        dthetas=(thetas[i+1]-thetas[i])/dt\n",
    "        dtheta_list=np.append(dtheta_list,[dthetas],axis=0)\n",
    "    dtheta_list=np.append(dtheta_list,[dtheta_list[-1]],axis=0)# to make thetas and dthetas the same size\n",
    "    return dtheta_list\n",
    "    \n",
    "###########\n",
    "##This is the main function that based on the path to the json files, returns real positions, thetas ,dthetas and L_list\n",
    "###########\n",
    "def mapping(path,dt=0.1):\n",
    "    keypoint_poses = get_all_link_poses(path)\n",
    "    L_list , fixed_home_joint_pose=get_link_lengths(keypoint_poses)\n",
    "    all_theta_s_list , finger_poses= extract_theta_s_list_and_finger_points(keypoint_poses)\n",
    "    real_poses , thetas= real_pose_and_joint_thetas(all_theta_s_list,L_list,fixed_home_joint_pose,finger_poses)\n",
    "    dthetas=calculate_dthetas(thetas,dt=0.1)\n",
    "    return real_poses , thetas , dthetas , L_list\n"
   ]
  },
  {
   "cell_type": "code",
   "execution_count": 12,
   "metadata": {},
   "outputs": [],
   "source": [
    "def position_from_angle(thetas,L_list,base_pose):\n",
    "    pose=[base_pose]\n",
    "    x_old=base_pose[0]\n",
    "    y_old=base_pose[1]\n",
    "    for i in range(len(thetas)):\n",
    "        x=L_list[i]*np.cos(thetas[i])\n",
    "        y=L_list[i]*np.sin(thetas[i])\n",
    "        x_old+=x\n",
    "        y_old+=y\n",
    "        pose=np.append(pose,[[x_old,y_old]],axis=0)\n",
    "    return pose\n",
    "\n"
   ]
  },
  {
   "cell_type": "code",
   "execution_count": 13,
   "metadata": {},
   "outputs": [
    {
     "name": "stdout",
     "output_type": "stream",
     "text": [
      "[[0. 0.]\n",
      " [1. 0.]\n",
      " [2. 0.]\n",
      " [3. 0.]]\n"
     ]
    }
   ],
   "source": [
    "print(position_from_angle([0,0,0],[1,1,1],[0,0]))"
   ]
  },
  {
   "cell_type": "code",
   "execution_count": 51,
   "metadata": {},
   "outputs": [
    {
     "name": "stdout",
     "output_type": "stream",
     "text": [
      "[[-4.52513343e-02 -6.27978852e-02  2.67153481e-01 -8.44783790e-02\n",
      "  -2.23269330e-02 -2.70375734e-01]\n",
      " [ 3.39403832e-02 -2.60324144e-02  1.83686932e-01 -2.43752681e-01\n",
      "   4.85951648e-02 -8.86938549e-05]\n",
      " [-8.61394286e-02 -1.80085708e-03  8.81671358e-02 -2.54316022e-02\n",
      "  -1.27310707e-01  1.96764918e-01]\n",
      " ...\n",
      " [ 9.05359040e-03  1.08749582e-01 -4.63455326e-01  2.95601438e-01\n",
      "  -2.22371045e-02  2.41126695e-01]\n",
      " [-9.68043191e-04  3.69242592e-03 -1.03926687e-02  9.15530377e-03\n",
      "   1.17972452e-01 -3.14632946e-01]\n",
      " [ 2.27531402e-02 -3.64010035e-02  9.27005068e-02 -1.34760030e-01\n",
      "   5.46752631e-02 -2.81000155e-02]]\n"
     ]
    }
   ],
   "source": [
    "r , angles ,dtheta=mapping('c2poc')\n",
    "print(dtheta)"
   ]
  },
  {
   "cell_type": "code",
   "execution_count": 61,
   "metadata": {},
   "outputs": [
    {
     "data": {
      "text/plain": [
       "[<matplotlib.lines.Line2D at 0x7f6daddff358>]"
      ]
     },
     "execution_count": 61,
     "metadata": {},
     "output_type": "execute_result"
    },
    {
     "data": {
      "image/png": "[encoded data removed]",
      "text/plain": [
       "<Figure size 432x288 with 1 Axes>"
      ]
     },
     "metadata": {
      "needs_background": "light"
     },
     "output_type": "display_data"
    }
   ],
   "source": [
    "x=dtheta[:,5]\n",
    "plt.plot(x)"
   ]
  },
  {
   "cell_type": "code",
   "execution_count": 52,
   "metadata": {},
   "outputs": [
    {
     "data": {
      "image/png": "[encoded data removed]",
      "text/plain": [
       "<Figure size 432x288 with 1 Axes>"
      ]
     },
     "metadata": {
      "needs_background": "light"
     },
     "output_type": "display_data"
    }
   ],
   "source": [
    "plot_positions(r[:,1])\n"
   ]
  },
  {
   "cell_type": "code",
   "execution_count": null,
   "metadata": {},
   "outputs": [],
   "source": []
  }
 ],
 "metadata": {
  "kernelspec": {
   "display_name": "Python 3",
   "language": "python",
   "name": "python3"
  },
  "language_info": {
   "codemirror_mode": {
    "name": "ipython",
    "version": 3
   },
   "file_extension": ".py",
   "mimetype": "text/x-python",
   "name": "python",
   "nbconvert_exporter": "python",
   "pygments_lexer": "ipython3",
   "version": "3.6.9"
  }
 },
 "nbformat": 4,
 "nbformat_minor": 2
}
