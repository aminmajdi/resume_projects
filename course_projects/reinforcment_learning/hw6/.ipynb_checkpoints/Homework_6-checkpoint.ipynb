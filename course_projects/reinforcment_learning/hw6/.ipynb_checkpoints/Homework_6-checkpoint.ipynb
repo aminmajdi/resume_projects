{
 "cells": [
  {
   "cell_type": "markdown",
   "metadata": {},
   "source": [
    "<center>\n",
    "    COMP4600/5300 - Reinforcement Learning\n",
    "\n",
    "# Homework 6 - On-policy Control with Approximation\n",
    "\n",
    "### Due: Wednesday, November 11th 11:59 pm\n",
    "    \n",
    "</center>"
   ]
  },
  {
   "cell_type": "markdown",
   "metadata": {},
   "source": [
    "Student Name: ______________________ "
   ]
  },
  {
   "cell_type": "markdown",
   "metadata": {},
   "source": [
    "The purpose of this project is to study different properties of Function Approximation with on-policy control methods.  "
   ]
  },
  {
   "cell_type": "code",
   "execution_count": 1,
   "metadata": {},
   "outputs": [
    {
     "name": "stdout",
     "output_type": "stream",
     "text": [
      "pygame 1.9.6\n",
      "Hello from the pygame community. https://www.pygame.org/contribute.html\n"
     ]
    }
   ],
   "source": [
    "# You are allowed to use the following modules\n",
    "import numpy as np\n",
    "import matplotlib.pyplot as plt\n",
    "from mountain_car import MountainCar\n",
    "import pygame as pg\n",
    "from pygame import gfxdraw"
   ]
  },
  {
   "attachments": {
    "mc.png": {
     "image/png": "[encoded data removed]"
    }
   },
   "cell_type": "markdown",
   "metadata": {},
   "source": [
    "## Task description\n",
    "Consider the task of driving an underpowered car up a steep mountain road, as suggested by the diagram in the upper left of the following figure. The difficulty is that gravity is stronger than the car's engine, and even at full throttle the car cannot accelerate up the steep slope. The only solution is to first move away from the goal and up the opposite slope on the left. Then by applying full throttle the car can build up enough inertia to carry it up the steep slope even though it is slowing down the whole way.\n",
    "\n",
    "\n",
    "![mc.png](attachment:mc.png)\n",
    "\n",
    "\n",
    "This is a continuous control task where things have to get worse in a sense (farther from the goal) before they can get better. The reward in this problem is -1 on all time steps until the car moves past its goal position at the top of the mountain, which ends the episode. There are three possible actions: full throttle forward (+1), full throttle reverse (-1), and zero throttle (0). The car moves according to a simplified physics. Its position $x_t$ and velocity $\\dot{x}_t$ are updated by\n",
    "\n",
    "$x_{t+1} \\doteq \\text{bound}[x_t + \\dot{x}_{t+1}]$\n",
    "\n",
    "$\\dot{x}_{t+1} \\doteq \\text{bound}[\\dot{x}_t + 0.001 A_t - 0.0025 \\cos(3x_t)]$\n",
    "\n",
    "\n",
    "where the \\textit{bound} operation enforces $-1.2 \\le x_{t+1} \\le 0.5$ and $-0.07 \\le \\dot{x}_{t+1} \\le 0.07$. In addition, when $x_{t+1}$ reached the left bound, $\\dot{x}_{t+1}$ was reset to zero. When it reached the right bound, the goal was reached and the episode was terminated. Each episode starts from a random position $x_t \\in [-0.6, -0.4)$ and zero velocity.\n"
   ]
  },
  {
   "cell_type": "markdown",
   "metadata": {},
   "source": [
    "## Part I\n",
    "\n",
    "You have been given a simple implementation of the Mountain Car task. \n",
    "\n",
    "1. Your first task is to check and confirm that the given code simulates the above formulae and task description. Then write a function that generates random episodes for this task. You should use the given code for the Mountain Car task. \n"
   ]
  },
  {
   "cell_type": "code",
   "execution_count": 20,
   "metadata": {},
   "outputs": [
    {
     "name": "stdout",
     "output_type": "stream",
     "text": [
      "-0.2679015803161316\n",
      "-0.0009549083026736507\n",
      "-1.0\n",
      "False\n",
      "100001\n"
     ]
    }
   ],
   "source": [
    "# Your code here\n",
    "xp= -0.5\n",
    "vp= 0 \n",
    "goal_reached=False\n",
    "car = MountainCar()\n",
    "counter = 0\n",
    "while  not goal_reached:\n",
    "    counter +=1\n",
    "    xp, vp, r, goal_reached = car.move(xp, vp, 1)\n",
    "    if counter> 100000:\n",
    "        print(xp)\n",
    "        print(vp)\n",
    "        print(r)\n",
    "        print(goal_reached)\n",
    "        print (counter)\n",
    "        goal_reached = True"
   ]
  },
  {
   "cell_type": "code",
   "execution_count": 3,
   "metadata": {},
   "outputs": [
    {
     "name": "stdout",
     "output_type": "stream",
     "text": [
      "11576\n"
     ]
    }
   ],
   "source": [
    "def play():\n",
    "    xp=(np.random.rand()*0.2)-0.6 #[-0.6,-0.4)\n",
    "    vp=0\n",
    "    goal_reached=False\n",
    "    car = MountainCar()\n",
    "    counter = 0\n",
    "    x=[]\n",
    "    y=[]\n",
    "    while  not goal_reached:\n",
    "        counter +=1\n",
    "        xp, vp, r, goal_reached = car.move(xp, vp, np.random.choice([-1,0,1]))\n",
    "        x.append(xp)\n",
    "        c=0.45*np.sin(3*xp)+0.55\n",
    "        y.append(c)\n",
    "        #print(xp)\n",
    "        #print(vp)\n",
    "        #print(r)\n",
    "        #print(goal_reached)\n",
    "        if goal_reached:\n",
    "            print (counter)\n",
    "    return x , y\n",
    "            \n",
    "xp,yp = play()\n"
   ]
  },
  {
   "cell_type": "markdown",
   "metadata": {},
   "source": [
    "2. Use the Pygame library to develop a simple function that animates a given episode/trajectory. The equation for the mountain is $y = 0.45\\sin(3x) + 0.55$. Use a randomly generated episode from the function you developed above and pass it to your animation function, then plot the results."
   ]
  },
  {
   "cell_type": "code",
   "execution_count": 4,
   "metadata": {},
   "outputs": [],
   "source": [
    "def animation(xp,yp):\n",
    "\n",
    "    for i in range(len(xp)):\n",
    "        xp[i]=int(xp[i]*100)+135\n",
    "        yp[i]=100 - yp[i]*100\n",
    "\n",
    "    x= np.linspace(-120, 50, 171)\n",
    "    y=[]\n",
    "    for i in x:\n",
    "        c=0.45*np.sin(3*i/100)+0.55\n",
    "        y.append(int(100-100*c))\n",
    "    x = np.linspace(15, 185, 171)\n",
    "    \n",
    "    pg.init()\n",
    "\n",
    "    win_x = 200\n",
    "    win_y = 100\n",
    "    win = pg.display.set_mode((win_x, win_y))\n",
    "    pg.display.set_caption(\"mountain car\")\n",
    "    clock = pg.time.Clock()\n",
    "    win.fill((0, 0, 0))\n",
    "    for i in range(len(x)):\n",
    "        pg.gfxdraw.pixel(win,int(x[i]),y[i],(255,255,255))\n",
    "    pg.display.update()\n",
    "\n",
    "    for k in range(len(xp)):\n",
    "        clock.tick(1000)\n",
    "        for event in pg.event.get():\n",
    "            if event.type == pg.QUIT:\n",
    "                break\n",
    "        win.fill((0, 0, 0))\n",
    "        for i in range(len(x)):\n",
    "            pg.gfxdraw.pixel(win,int(x[i]),y[i],(255,255,255))\n",
    "        pg.draw.rect(win, (255,255,0), (xp[k]-5, yp[k]-2, 10, 4))\n",
    "        pg.display.update()\n",
    "    pg.quit()\n",
    "\n",
    "animation(xp,yp)"
   ]
  },
  {
   "cell_type": "markdown",
   "metadata": {},
   "source": [
    "## Part II\n",
    "\n",
    "Develop a function approximation procedure based on either **Polynomials** or **Fourier basis** (recommended). Given the current $\\bar{w}$, the developed function approximation method should return the value for each specific state."
   ]
  },
  {
   "cell_type": "code",
   "execution_count": 14,
   "metadata": {},
   "outputs": [
    {
     "name": "stdout",
     "output_type": "stream",
     "text": [
      "6.0\n"
     ]
    }
   ],
   "source": [
    "# Your code here\n",
    "\n",
    "def fourier_basis(w,s):\n",
    "    k=len(s)\n",
    "    n=int(np.power(len(w),1/k)-1)\n",
    "    c=[[] for j in range(k)]\n",
    "    for i in range(k):\n",
    "        for j in range(int(np.power(n+1,i))):\n",
    "            for p in range(n+1):\n",
    "                for r in range(int(np.power(n+1,k-i-1))):\n",
    "                    c[i].append(p)\n",
    "    x_i=[]\n",
    "    for i in range(int(np.power(n+1,k))):\n",
    "        mul=1\n",
    "        for j in range(k):\n",
    "            mul=mul*np.cos(np.pi*s[j]*c[j][i])\n",
    "        x_i.append(mul)\n",
    "    v=0\n",
    "    for i in range(int(np.power(n+1,k))):\n",
    "        v+=w[i]*x_i[i]\n",
    "    return v , x_i\n",
    "\n",
    "            \n",
    "        \n"
   ]
  },
  {
   "cell_type": "markdown",
   "metadata": {},
   "source": [
    "## Part III\n",
    "\n",
    "1. Implement the **Episodic Semi-gradient $n$-step SARSA** (pp. 247)."
   ]
  },
  {
   "cell_type": "code",
   "execution_count": 21,
   "metadata": {},
   "outputs": [
    {
     "ename": "NameError",
     "evalue": "name 's_next' is not defined",
     "output_type": "error",
     "traceback": [
      "\u001b[0;31m---------------------------------------------------------------------------\u001b[0m",
      "\u001b[0;31mNameError\u001b[0m                                 Traceback (most recent call last)",
      "\u001b[0;32m<ipython-input-21-478fcbc0e93a>\u001b[0m in \u001b[0;36m<module>\u001b[0;34m\u001b[0m\n\u001b[1;32m     55\u001b[0m \u001b[0;34m\u001b[0m\u001b[0m\n\u001b[1;32m     56\u001b[0m \u001b[0;34m\u001b[0m\u001b[0m\n\u001b[0;32m---> 57\u001b[0;31m \u001b[0mstep\u001b[0m\u001b[0;34m,\u001b[0m\u001b[0mstates\u001b[0m\u001b[0;34m=\u001b[0m\u001b[0mEpisodic_Semi_gradient_n_step_SARSA\u001b[0m\u001b[0;34m(\u001b[0m\u001b[0;36m1\u001b[0m\u001b[0;34m,\u001b[0m\u001b[0;36m0.3\u001b[0m\u001b[0;34m/\u001b[0m\u001b[0;36m8\u001b[0m\u001b[0;34m,\u001b[0m\u001b[0;36m5\u001b[0m\u001b[0;34m,\u001b[0m\u001b[0;36m1\u001b[0m\u001b[0;34m,\u001b[0m\u001b[0;36m0\u001b[0m\u001b[0;34m)\u001b[0m\u001b[0;34m\u001b[0m\u001b[0;34m\u001b[0m\u001b[0m\n\u001b[0m\u001b[1;32m     58\u001b[0m \u001b[0;34m\u001b[0m\u001b[0m\n\u001b[1;32m     59\u001b[0m \u001b[0;34m\u001b[0m\u001b[0m\n",
      "\u001b[0;32m<ipython-input-21-478fcbc0e93a>\u001b[0m in \u001b[0;36mEpisodic_Semi_gradient_n_step_SARSA\u001b[0;34m(n, alpha, n_order, gamma, epsilon)\u001b[0m\n\u001b[1;32m     26\u001b[0m                     \u001b[0mT\u001b[0m\u001b[0;34m=\u001b[0m\u001b[0mt\u001b[0m\u001b[0;34m+\u001b[0m\u001b[0;36m1\u001b[0m\u001b[0;34m\u001b[0m\u001b[0;34m\u001b[0m\u001b[0m\n\u001b[1;32m     27\u001b[0m                 \u001b[0;32melse\u001b[0m\u001b[0;34m:\u001b[0m\u001b[0;34m\u001b[0m\u001b[0;34m\u001b[0m\u001b[0m\n\u001b[0;32m---> 28\u001b[0;31m                     \u001b[0mleft_value\u001b[0m\u001b[0;34m,\u001b[0m\u001b[0m_\u001b[0m\u001b[0;34m=\u001b[0m\u001b[0mfourier_basis\u001b[0m\u001b[0;34m(\u001b[0m\u001b[0mw\u001b[0m\u001b[0;34m[\u001b[0m\u001b[0;36m0\u001b[0m\u001b[0;34m]\u001b[0m\u001b[0;34m,\u001b[0m\u001b[0ms_next\u001b[0m\u001b[0;34m)\u001b[0m\u001b[0;34m\u001b[0m\u001b[0;34m\u001b[0m\u001b[0m\n\u001b[0m\u001b[1;32m     29\u001b[0m                     \u001b[0mstop_value\u001b[0m\u001b[0;34m,\u001b[0m\u001b[0m_\u001b[0m\u001b[0;34m=\u001b[0m\u001b[0mfourier_basis\u001b[0m\u001b[0;34m(\u001b[0m\u001b[0mw\u001b[0m\u001b[0;34m[\u001b[0m\u001b[0;36m1\u001b[0m\u001b[0;34m]\u001b[0m\u001b[0;34m,\u001b[0m\u001b[0ms_next\u001b[0m\u001b[0;34m)\u001b[0m\u001b[0;34m\u001b[0m\u001b[0;34m\u001b[0m\u001b[0m\n\u001b[1;32m     30\u001b[0m                     \u001b[0mright_value\u001b[0m\u001b[0;34m,\u001b[0m\u001b[0m_\u001b[0m\u001b[0;34m=\u001b[0m\u001b[0mfourier_basis\u001b[0m\u001b[0;34m(\u001b[0m\u001b[0mw\u001b[0m\u001b[0;34m[\u001b[0m\u001b[0;36m2\u001b[0m\u001b[0;34m]\u001b[0m\u001b[0;34m,\u001b[0m\u001b[0ms_next\u001b[0m\u001b[0;34m)\u001b[0m\u001b[0;34m\u001b[0m\u001b[0;34m\u001b[0m\u001b[0m\n",
      "\u001b[0;31mNameError\u001b[0m: name 's_next' is not defined"
     ]
    }
   ],
   "source": [
    "# Your code here\n",
    "def Episodic_Semi_gradient_n_step_SARSA(n,alpha,n_order,gamma,epsilon):\n",
    "    k=2 #number of states\n",
    "    w = [[0 for i in range(int(np.power(n_order+1,k)))] for i in range(k)]\n",
    "    act_vector=[-1,0,1]\n",
    "    car = MountainCar()\n",
    "    s=[[0,0]]\n",
    "    action=[]\n",
    "    reward=[0]\n",
    "    episode=1\n",
    "    step=[]\n",
    "    while episode!=501:\n",
    "        episode+=1\n",
    "        s[0]=[(np.random.rand()*0.2)-0.6,0]#[x,v] initialize\n",
    "        action.append(np.random.choice(act_vector))\n",
    "        t=0\n",
    "        T=np.inf\n",
    "        loop=True\n",
    "        while loop:\n",
    "            if t<T:\n",
    "                next_pos, next_vel, r_next, goal_reached = car.move(s[t][0], s[t][1], action[t])\n",
    "                reward.append(r_next)\n",
    "                s.append([next_pos,next_vel])\n",
    "                \n",
    "                if goal_reached:\n",
    "                    T=t+1\n",
    "                else:\n",
    "                    left_value,_=fourier_basis(w[0],s[t+1])\n",
    "                    stop_value,_=fourier_basis(w[1],s_next)\n",
    "                    right_value,_=fourier_basis(w[2],s_next)\n",
    "                    q_all_action=[left_value,stop_value,right_value]\n",
    "                    if np.random.rand(1)> epsilon:\n",
    "                        next_action=act_vector[np.argmax(q_all_action)]                    \n",
    "                    else:\n",
    "                        next_action=np.random.choice(act_vector)\n",
    "                    action.append(next_action)\n",
    "                    \n",
    "            taw=t-n+1\n",
    "            if taw>=0:\n",
    "                G=0\n",
    "                for i in range(taw+1,1+min(taw+n,T)):\n",
    "                    G+=np.power(gamma,i-taw-1)*reward[i]\n",
    "                if taw+n <T:\n",
    "                    q_,_=fourier_basis(w[action[taw+n]+1],s[taw+n])#act_value+1 === action index : [-1,0,1]+1===[0,1,2]\n",
    "                    G+=np.power(gamma,n)*q_\n",
    "                q,x_i=fourier_basis(w[action[taw]+1],s[taw])\n",
    "                for i in range(len(w[0])):\n",
    "                    w[action[taw]+1][i]+=alpha*[G-q]*x_i[i]\n",
    "            t+=1\n",
    "            if taw==T-1:\n",
    "                loop=False\n",
    "        \n",
    "        step.append(T)\n",
    "    return step , s\n",
    "                \n",
    "            \n",
    "step,states=Episodic_Semi_gradient_n_step_SARSA(1,0.3/8,5,1,0)\n",
    "                        \n",
    "                        \n",
    "                    \n",
    "                \n",
    "            \n",
    "        \n",
    "    \n",
    "    \n",
    "    \n",
    "    "
   ]
  },
  {
   "cell_type": "markdown",
   "metadata": {},
   "source": [
    "2. Use the algorithm to learn the Mountain Car task with $n \\in \\{1, 8, 16\\}$. Tune the step-size parameter ($\\alpha$), select a proper Function Approximation order, discount factor ($\\gamma$), exploration probability ($\\varepsilon$). Plot step-per-episode (in log scale) vs. number of episodes. This plot should be averaged over 50-100 runs.    "
   ]
  },
  {
   "cell_type": "code",
   "execution_count": 6,
   "metadata": {},
   "outputs": [],
   "source": [
    "# Your code here"
   ]
  },
  {
   "cell_type": "markdown",
   "metadata": {},
   "source": [
    "3. Show an animation of the task for each $n$."
   ]
  },
  {
   "cell_type": "code",
   "execution_count": 7,
   "metadata": {},
   "outputs": [],
   "source": [
    "# Your code here"
   ]
  },
  {
   "cell_type": "markdown",
   "metadata": {},
   "source": [
    "4. Which value of $n$ results in faster learning? Why?\n",
    "> Answer"
   ]
  }
 ],
 "metadata": {
  "kernelspec": {
   "display_name": "Python 3",
   "language": "python",
   "name": "python3"
  },
  "language_info": {
   "codemirror_mode": {
    "name": "ipython",
    "version": 3
   },
   "file_extension": ".py",
   "mimetype": "text/x-python",
   "name": "python",
   "nbconvert_exporter": "python",
   "pygments_lexer": "ipython3",
   "version": "3.6.9"
  }
 },
 "nbformat": 4,
 "nbformat_minor": 2
}
