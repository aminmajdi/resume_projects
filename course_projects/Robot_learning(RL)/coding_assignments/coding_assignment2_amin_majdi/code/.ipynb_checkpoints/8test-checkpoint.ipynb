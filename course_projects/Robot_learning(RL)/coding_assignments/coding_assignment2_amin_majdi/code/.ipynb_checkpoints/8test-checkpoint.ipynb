{
 "cells": [
  {
   "cell_type": "code",
   "execution_count": 1,
   "metadata": {},
   "outputs": [
    {
     "name": "stdout",
     "output_type": "stream",
     "text": [
      "pygame 1.9.6\n",
      "Hello from the pygame community. https://www.pygame.org/contribute.html\n"
     ]
    }
   ],
   "source": [
    "# You are allowed to use the following modules\n",
    "import numpy as np\n",
    "import matplotlib.pyplot as plt\n",
    "from dynamics_pendulum import pendulum\n",
    "import pygame as pg\n",
    "from scipy.optimize import minimize \n",
    "from pygame import gfxdraw\n",
    "import cma"
   ]
  },
  {
   "cell_type": "code",
   "execution_count": 2,
   "metadata": {},
   "outputs": [],
   "source": [
    "# Your code here\n",
    "state_num=3\n",
    "action_num=100\n",
    "order=3\n",
    "d=(order+1)**state_num\n",
    "d_a=d*action_num\n",
    "f_min=-2.5\n",
    "f_max=2.5\n",
    "\n",
    "def scale(state_):\n",
    "    a_ = np.array([state_[0] ,0.5*(state_[1]+1) ,0.5*(state_[2]+1)])\n",
    "    return a_\n",
    "\n",
    "def create_c(k_,n_):#number of states, order\n",
    "    c_ = [[] for j in range(k_)]\n",
    "    for i in range(k_):\n",
    "        for j in range(int(np.power(n_ + 1,i))):\n",
    "            for p in range(n_ + 1):\n",
    "                for r in range(int(np.power(n_ + 1,k_- i - 1))):\n",
    "                    c_[i].append(p)\n",
    "    c_ = np.array(c_,dtype = np.int8)\n",
    "    return c_\n",
    "c=create_c(state_num,order)\n",
    "\n",
    "\n",
    "def create_x_i_v(s_): #for v_hat\n",
    "    state = scale(s_)\n",
    "    x_i_=np.cos(np.pi*(np.matmul(state,c)))\n",
    "    return x_i_\n",
    "\n",
    "\n",
    "def policy(st,theta_mu,theta_sigma):\n",
    "    \n",
    "    mu=np.matmul(theta_mu,create_x_i_v(st))\n",
    "    sigma=np.exp(np.matmul(theta_sigma,create_x_i_v(st)))\n",
    "    #density=np.empty(0)\n",
    "    #actions=np.linspace(-2.5, 2.5, num=action_num, endpoint=True, retstep=False, dtype=None, axis=0)\n",
    "    #exp_arg=-(actions-mu)**2/(2*sigma**2)\n",
    "    #density=(1/sigma*np.sqrt(2*np.pi))*np.exp(exp_arg-np.max(exp_arg))\n",
    "    #soft_=density/sum(density)\n",
    "    action=np.random.normal(mu,sigma,1)\n",
    "    action=np.clip(action,f_min,f_max)\n",
    "    \n",
    "    return action\n"
   ]
  },
  {
   "cell_type": "code",
   "execution_count": 3,
   "metadata": {},
   "outputs": [],
   "source": [
    "def reward(cos,sin):\n",
    "    if cos>0:\n",
    "            theta=np.arctan(sin/cos)\n",
    "    else:\n",
    "        if sin>=0:\n",
    "            theta=np.arctan(sin/cos)+np.pi\n",
    "        else:\n",
    "            theta=np.arctan(sin/cos)-np.pi\n",
    "    return np.exp((np.absolute(theta)-(np.pi))**2/(2*(2**2)))\n",
    "\n",
    "def new(theta):\n",
    "    theta_mu = theta[0:d]\n",
    "    theta_sigma=theta[d:]\n",
    "    episode = 0\n",
    "    step = np.empty(0)\n",
    "    state_list = []\n",
    "    step_per_episode = []\n",
    "    reward_sum = []\n",
    "    pend = pendulum()\n",
    "    t = 0\n",
    "    action = np.empty(0)\n",
    "    s = np.zeros((1,3))# states\n",
    "    s[0] = [0,1,0]# \n",
    "    pend.goal_reached = False\n",
    "    b=1\n",
    "    total_cost=0\n",
    "    while not pend.goal_reached :\n",
    "        theta=np.append(theta_mu,theta_sigma)\n",
    "        real_action=policy(s[t],theta_mu,theta_sigma)\n",
    "        next_a_v, next_t_cos, next_t_sin = pend.move(s[t][0], s[t][1],s[t][2], real_action)\n",
    "        #print(next_a_v,np.arctan(next_t_sin/next_t_cos))\n",
    "        s = np.append(s,[[next_a_v,next_t_cos,next_t_sin]],axis=0)\n",
    "        cost_=reward(next_t_cos,next_t_sin)\n",
    "        total_cost+=cost_\n",
    "        t += 1   \n",
    "        if t>2000:\n",
    "            break\n",
    "    step_per_episode.append(t)\n",
    "    state_list.append(s)\n",
    "    reward_sum.append(-t)\n",
    "\n",
    "    #return state_list,step_per_episode , reward_sum\n",
    "    return total_cost #, state_list\n"
   ]
  },
  {
   "cell_type": "code",
   "execution_count": 4,
   "metadata": {},
   "outputs": [
    {
     "name": "stdout",
     "output_type": "stream",
     "text": [
      "3398.5379049899484\n"
     ]
    }
   ],
   "source": [
    "cost=new(2*d*[0])\n",
    "print(cost)"
   ]
  },
  {
   "cell_type": "code",
   "execution_count": 5,
   "metadata": {},
   "outputs": [
    {
     "name": "stdout",
     "output_type": "stream",
     "text": [
      "(9_w,18)-aCMA-ES (mu_w=5.4,w_1=30%) in dimension 128 (seed=270749, Tue Mar 30 21:33:14 2021)\n",
      "Iterat #Fevals   function value  axis ratio  sigma  min&max std  t[m:s]\n",
      "    1     18 3.181951770654279e+03 1.0e+00 2.42e-01  2e-01  2e-01 1:17.9\n",
      "(9_w,18)-aCMA-ES (mu_w=5.4,w_1=30%) in dimension 128 (seed=273760, Tue Mar 30 21:34:32 2021)\n",
      "Iterat #Fevals   function value  axis ratio  sigma  min&max std  t[m:s]\n",
      "    1     18 3.214094527812239e+03 1.0e+00 2.33e-01  2e-01  2e-01 1:28.8\n",
      "(9_w,18)-aCMA-ES (mu_w=5.4,w_1=30%) in dimension 128 (seed=219182, Tue Mar 30 21:36:01 2021)\n",
      "Iterat #Fevals   function value  axis ratio  sigma  min&max std  t[m:s]\n",
      "    1     18 3.178452423434944e+03 1.0e+00 2.25e-01  2e-01  2e-01 1:38.7\n",
      "(9_w,18)-aCMA-ES (mu_w=5.4,w_1=30%) in dimension 128 (seed=294926, Tue Mar 30 21:37:39 2021)\n",
      "Iterat #Fevals   function value  axis ratio  sigma  min&max std  t[m:s]\n",
      "    1     18 3.177723074194284e+03 1.0e+00 2.18e-01  2e-01  2e-01 1:27.7\n",
      "(9_w,18)-aCMA-ES (mu_w=5.4,w_1=30%) in dimension 128 (seed=245274, Tue Mar 30 21:39:07 2021)\n",
      "Iterat #Fevals   function value  axis ratio  sigma  min&max std  t[m:s]\n",
      "    1     18 3.178077441586349e+03 1.0e+00 2.10e-01  2e-01  2e-01 1:21.6\n",
      "[3181.951770654279, 3214.0945278122394, 3178.452423434944, 3177.7230741942835, 3178.077441586349]\n"
     ]
    }
   ],
   "source": [
    "def eval():\n",
    "    theta=2*d*[0]\n",
    "    sigma0=0.25\n",
    "    costs=[]\n",
    "    for i in range(5):\n",
    "        res = cma.CMAEvolutionStrategy(theta, sigma0).optimize(new,iterations=1).result\n",
    "        #res=minimize(new,theta,method='Nelder-Mead')\n",
    "        theta=res[0]\n",
    "        sigma0=np.average(res[-2])\n",
    "        costs.append(res[1])\n",
    "    #cost,states=new(theta)\n",
    "    return costs #, states\n",
    "#costs , states=eval()\n",
    "costs=eval()\n",
    "print(costs)\n",
    "#plt.plot(states[:,1])"
   ]
  },
  {
   "cell_type": "code",
   "execution_count": 10,
   "metadata": {},
   "outputs": [
    {
     "name": "stdout",
     "output_type": "stream",
     "text": [
      "<class 'numpy.ndarray'>\n",
      "(1, 2002, 3)\n"
     ]
    },
    {
     "data": {
      "text/plain": [
       "[<matplotlib.lines.Line2D at 0x7fabc70ffa58>]"
      ]
     },
     "execution_count": 10,
     "metadata": {},
     "output_type": "execute_result"
    },
    {
     "data": {
      "image/png": "[encoded data removed]",
      "text/plain": [
       "<Figure size 432x288 with 1 Axes>"
      ]
     },
     "metadata": {
      "needs_background": "light"
     },
     "output_type": "display_data"
    }
   ],
   "source": [
    "print(type(np.array(states)))\n",
    "aaa=np.array(states)\n",
    "print(aaa.shape)\n",
    "plt.plot(aaa[0,:20,1])"
   ]
  },
  {
   "cell_type": "code",
   "execution_count": 6,
   "metadata": {},
   "outputs": [
    {
     "data": {
      "text/plain": [
       "Text(0.5, 0, 'iteration')"
      ]
     },
     "execution_count": 6,
     "metadata": {},
     "output_type": "execute_result"
    },
    {
     "data": {
      "image/png": "[encoded data removed]",
      "text/plain": [
       "<Figure size 432x288 with 1 Axes>"
      ]
     },
     "metadata": {
      "needs_background": "light"
     },
     "output_type": "display_data"
    }
   ],
   "source": [
    "plt.plot(costs)\n",
    "plt.ylabel(\"Cost\")\n",
    "plt.xlabel(\"iteration\")"
   ]
  },
  {
   "cell_type": "code",
   "execution_count": null,
   "metadata": {},
   "outputs": [],
   "source": []
  }
 ],
 "metadata": {
  "kernelspec": {
   "display_name": "Python 3",
   "language": "python",
   "name": "python3"
  },
  "language_info": {
   "codemirror_mode": {
    "name": "ipython",
    "version": 3
   },
   "file_extension": ".py",
   "mimetype": "text/x-python",
   "name": "python",
   "nbconvert_exporter": "python",
   "pygments_lexer": "ipython3",
   "version": "3.6.9"
  }
 },
 "nbformat": 4,
 "nbformat_minor": 2
}
