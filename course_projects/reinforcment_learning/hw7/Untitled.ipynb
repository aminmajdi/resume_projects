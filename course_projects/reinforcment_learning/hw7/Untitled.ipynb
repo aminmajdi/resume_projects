{
 "cells": [
  {
   "cell_type": "code",
   "execution_count": 1,
   "metadata": {},
   "outputs": [
    {
     "name": "stdout",
     "output_type": "stream",
     "text": [
      "πr²¹\n",
      "Θr₂¹\n",
      "['Θr₂']\n"
     ]
    }
   ],
   "source": [
    "import numpy as np\n",
    "aa=[]\n",
    "bb=[1,2,3,4]\n",
    "print('\\N{GREEK SMALL LETTER PI}r\\N{SUPERSCRIPT TWO}'+chr(0x00b9))\n",
    "print('\\N{GREEK CAPITAL LETTER THETA}r\\N{SUBSCRIPT TWO}'+chr(0x00b9))\n",
    "aa.append('\\N{GREEK CAPITAL LETTER THETA}r\\N{SUBSCRIPT TWO}')\n",
    "print(aa)"
   ]
  },
  {
   "cell_type": "code",
   "execution_count": 4,
   "metadata": {},
   "outputs": [
    {
     "name": "stdout",
     "output_type": "stream",
     "text": [
      "['S₁¹S₂²S₃³', 'S₁¹S₂²S₃³']\n"
     ]
    },
    {
     "ename": "TypeError",
     "evalue": "'<=' not supported between instances of 'int' and 'str'",
     "output_type": "error",
     "traceback": [
      "\u001b[0;31m---------------------------------------------------------------------------\u001b[0m",
      "\u001b[0;31mTypeError\u001b[0m                                 Traceback (most recent call last)",
      "\u001b[0;32m<ipython-input-4-da4c1d1a36ac>\u001b[0m in \u001b[0;36m<module>\u001b[0;34m\u001b[0m\n\u001b[1;32m     14\u001b[0m \u001b[0mprint\u001b[0m\u001b[0;34m(\u001b[0m\u001b[0ma\u001b[0m\u001b[0;34m)\u001b[0m\u001b[0;34m\u001b[0m\u001b[0;34m\u001b[0m\u001b[0m\n\u001b[1;32m     15\u001b[0m \u001b[0;34m\u001b[0m\u001b[0m\n\u001b[0;32m---> 16\u001b[0;31m \u001b[0mprint\u001b[0m\u001b[0;34m(\u001b[0m\u001b[0;34m'S'\u001b[0m\u001b[0;34m+\u001b[0m\u001b[0mchr\u001b[0m\u001b[0;34m(\u001b[0m\u001b[0;36m0x2080\u001b[0m \u001b[0;34m+\u001b[0m \u001b[0;36m1\u001b[0m\u001b[0;34m)\u001b[0m\u001b[0;34m+\u001b[0m \u001b[0msup\u001b[0m\u001b[0;34m(\u001b[0m\u001b[0mb\u001b[0m\u001b[0;34m[\u001b[0m\u001b[0;36m0\u001b[0m\u001b[0;34m]\u001b[0m\u001b[0;34m)\u001b[0m\u001b[0;34m+\u001b[0m\u001b[0;34m'S'\u001b[0m\u001b[0;34m+\u001b[0m\u001b[0mchr\u001b[0m\u001b[0;34m(\u001b[0m\u001b[0;36m0x2080\u001b[0m \u001b[0;34m+\u001b[0m \u001b[0;36m2\u001b[0m\u001b[0;34m)\u001b[0m \u001b[0;34m+\u001b[0m\u001b[0msup\u001b[0m\u001b[0;34m(\u001b[0m\u001b[0mb\u001b[0m\u001b[0;34m[\u001b[0m\u001b[0;36m1\u001b[0m\u001b[0;34m]\u001b[0m\u001b[0;34m)\u001b[0m\u001b[0;34m+\u001b[0m \u001b[0;34m'S'\u001b[0m\u001b[0;34m+\u001b[0m\u001b[0mchr\u001b[0m\u001b[0;34m(\u001b[0m\u001b[0;36m0x2080\u001b[0m \u001b[0;34m+\u001b[0m \u001b[0;36m3\u001b[0m\u001b[0;34m)\u001b[0m\u001b[0;34m+\u001b[0m\u001b[0msup\u001b[0m\u001b[0;34m(\u001b[0m\u001b[0mb\u001b[0m\u001b[0;34m[\u001b[0m\u001b[0;36m2\u001b[0m\u001b[0;34m]\u001b[0m\u001b[0;34m)\u001b[0m\u001b[0;34m)\u001b[0m\u001b[0;34m\u001b[0m\u001b[0;34m\u001b[0m\u001b[0m\n\u001b[0m",
      "\u001b[0;32m<ipython-input-4-da4c1d1a36ac>\u001b[0m in \u001b[0;36msup\u001b[0;34m(i)\u001b[0m\n\u001b[1;32m      2\u001b[0m     \u001b[0;32mif\u001b[0m \u001b[0mi\u001b[0m \u001b[0;34m==\u001b[0m \u001b[0;36m1\u001b[0m\u001b[0;34m:\u001b[0m\u001b[0;34m\u001b[0m\u001b[0;34m\u001b[0m\u001b[0m\n\u001b[1;32m      3\u001b[0m         \u001b[0ma\u001b[0m\u001b[0;34m=\u001b[0m\u001b[0mchr\u001b[0m\u001b[0;34m(\u001b[0m\u001b[0;36m0x00b9\u001b[0m\u001b[0;34m)\u001b[0m\u001b[0;34m\u001b[0m\u001b[0;34m\u001b[0m\u001b[0m\n\u001b[0;32m----> 4\u001b[0;31m     \u001b[0;32melif\u001b[0m \u001b[0;36m2\u001b[0m \u001b[0;34m<=\u001b[0m \u001b[0mi\u001b[0m \u001b[0;34m<=\u001b[0m \u001b[0;36m3\u001b[0m\u001b[0;34m:\u001b[0m\u001b[0;34m\u001b[0m\u001b[0;34m\u001b[0m\u001b[0m\n\u001b[0m\u001b[1;32m      5\u001b[0m         \u001b[0ma\u001b[0m\u001b[0;34m=\u001b[0m\u001b[0mchr\u001b[0m\u001b[0;34m(\u001b[0m\u001b[0;36m0x00b0\u001b[0m \u001b[0;34m+\u001b[0m \u001b[0mi\u001b[0m\u001b[0;34m)\u001b[0m\u001b[0;34m\u001b[0m\u001b[0;34m\u001b[0m\u001b[0m\n\u001b[1;32m      6\u001b[0m     \u001b[0;32melse\u001b[0m\u001b[0;34m:\u001b[0m\u001b[0;34m\u001b[0m\u001b[0;34m\u001b[0m\u001b[0m\n",
      "\u001b[0;31mTypeError\u001b[0m: '<=' not supported between instances of 'int' and 'str'"
     ]
    }
   ],
   "source": [
    "def sup(i):\n",
    "    if i == 1:\n",
    "        a=chr(0x00b9)\n",
    "    elif 2 <= i <= 3:\n",
    "        a=chr(0x00b0 + i)\n",
    "    else:\n",
    "        a=chr(0x2070 + i)\n",
    "    return a\n",
    "\n",
    "def sub(i):\n",
    "    a=chr(0x2080 + i)\n",
    "    return a\n",
    "\n",
    "a=[]\n",
    "b='S'+chr(0x2080 + 1)+ sup(bb[0])+'S'+chr(0x2080 + 2) +sup(bb[1])+ 'S'+chr(0x2080 + 3)+sup(bb[2])\n",
    "a.append(b)\n",
    "a.append(b)\n",
    "print(a)\n",
    "\n",
    "print('S'+chr(0x2080 + 1)-+ sup(bb[0])+'S'+chr(0x2080 + 2) +sup(bb[1])+ 'S'+chr(0x2080 + 3)+sup(bb[2]))"
   ]
  },
  {
   "cell_type": "code",
   "execution_count": 42,
   "metadata": {},
   "outputs": [
    {
     "name": "stdout",
     "output_type": "stream",
     "text": [
      "⁰\n",
      "cos(π(S₁⁰S₂⁰S₃⁰))\n",
      "¹\n",
      "cos(π(S₁¹S₂¹S₃¹))\n",
      "²\n",
      "cos(π(S₁²S₂²S₃²))\n",
      "³\n",
      "cos(π(S₁³S₂³S₃³))\n",
      "⁴\n",
      "cos(π(S₁⁴S₂⁴S₃⁴))\n",
      "⁵\n",
      "cos(π(S₁⁵S₂⁵S₃⁵))\n",
      "⁶\n",
      "cos(π(S₁⁶S₂⁶S₃⁶))\n",
      "⁷\n",
      "cos(π(S₁⁷S₂⁷S₃⁷))\n",
      "⁸\n",
      "cos(π(S₁⁸S₂⁸S₃⁸))\n",
      "⁹\n",
      "cos(π(S₁⁹S₂⁹S₃⁹))\n",
      "⁰\n",
      "ⁱ\n",
      "⁲\n",
      "⁳\n",
      "⁴\n",
      "⁵\n",
      "⁶\n",
      "⁷\n",
      "⁸\n",
      "⁹\n"
     ]
    }
   ],
   "source": [
    "for i in range(10):\n",
    "    if i == 1:\n",
    "        print(chr(0x00b9))\n",
    "        a=chr(0x00b9)\n",
    "        print('cos('+'\\N{GREEK SMALL LETTER PI}'+'(S'+chr(0x2080 + 1)+a+'S'+chr(0x2080 + 2)+a+'S'+chr(0x2080 + 3)+a+')'+')')\n",
    "    elif 2 <= i <= 3:\n",
    "        print(chr(0x00b0 + i))\n",
    "        a=chr(0x00b0 + i)\n",
    "        print('cos('+'\\N{GREEK SMALL LETTER PI}'+'(S'+chr(0x2080 + 1)+a+'S'+chr(0x2080 + 2)+a+'S'+chr(0x2080 + 3)+a+')'+')')\n",
    "    else:\n",
    "        print(chr(0x2070 + i))\n",
    "        a=chr(0x2070 + i)\n",
    "        print('cos('+'\\N{GREEK SMALL LETTER PI}'+'(S'+chr(0x2080 + 1)+a+'S'+chr(0x2080 + 2)+a+'S'+chr(0x2080 + 3)+a+')'+')')\n",
    "        \n",
    "for i in range(10):\n",
    "    print(chr(0x2070 + i))\n"
   ]
  },
  {
   "cell_type": "code",
   "execution_count": 5,
   "metadata": {},
   "outputs": [
    {
     "name": "stdout",
     "output_type": "stream",
     "text": [
      "asdjfk\n"
     ]
    }
   ],
   "source": [
    "c='asd'\n",
    "d='jfk'\n",
    "s=c+d\n",
    "print(s)"
   ]
  },
  {
   "cell_type": "code",
   "execution_count": 6,
   "metadata": {},
   "outputs": [
    {
     "name": "stdout",
     "output_type": "stream",
     "text": [
      "0\n"
     ]
    }
   ],
   "source": [
    "s=\"\"\n",
    "print(len(s))"
   ]
  },
  {
   "cell_type": "code",
   "execution_count": 11,
   "metadata": {},
   "outputs": [
    {
     "name": "stdout",
     "output_type": "stream",
     "text": [
      "cos(π(2*S2+3*S3))\n"
     ]
    }
   ],
   "source": [
    "a='cos(\\u03C0(2*S2+3*S3))'\n",
    "print(a)"
   ]
  },
  {
   "cell_type": "code",
   "execution_count": null,
   "metadata": {},
   "outputs": [],
   "source": []
  }
 ],
 "metadata": {
  "kernelspec": {
   "display_name": "Python 3",
   "language": "python",
   "name": "python3"
  },
  "language_info": {
   "codemirror_mode": {
    "name": "ipython",
    "version": 3
   },
   "file_extension": ".py",
   "mimetype": "text/x-python",
   "name": "python",
   "nbconvert_exporter": "python",
   "pygments_lexer": "ipython3",
   "version": "3.6.9"
  }
 },
 "nbformat": 4,
 "nbformat_minor": 4
}
