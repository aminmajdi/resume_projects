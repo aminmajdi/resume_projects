{
 "cells": [
  {
   "cell_type": "code",
   "execution_count": 1,
   "metadata": {},
   "outputs": [],
   "source": [
    "# Write a function that generates one k-armed bandit problem\n",
    "# that returns Q*(a) for that problem\n",
    "import numpy as np\n",
    "import matplotlib.pyplot as plt\n",
    "# Your code here\n",
    "def k_armed_bandit():\n",
    "    k=7\n",
    "    q_star= np.random.normal(0,1,k)\n",
    "    return q_star\n",
    "\n"
   ]
  },
  {
   "cell_type": "code",
   "execution_count": 4,
   "metadata": {},
   "outputs": [],
   "source": [
    "def play_k_armed_bandit(Q_t,e):\n",
    "    q_star=k_armed_bandit()\n",
    "    #greedy\n",
    "    if np.random.rand(1)> e:\n",
    "            selected_action_greedy=np.argmax(Q_t)\n",
    "    else:\n",
    "            selected_action_greedy= Q_t.index(np.random.choice(Q_t))\n",
    "        \n",
    "    reward_greedy = np.random.normal(q_star[selected_action],1)\n",
    "    return selected_action_greedy , reward_greedy\n",
    "    \n",
    "    "
   ]
  },
  {
   "cell_type": "code",
   "execution_count": null,
   "metadata": {},
   "outputs": [],
   "source": [
    "def play_all():\n",
    "    "
   ]
  }
 ],
 "metadata": {
  "kernelspec": {
   "display_name": "Python 3",
   "language": "python",
   "name": "python3"
  },
  "language_info": {
   "codemirror_mode": {
    "name": "ipython",
    "version": 3
   },
   "file_extension": ".py",
   "mimetype": "text/x-python",
   "name": "python",
   "nbconvert_exporter": "python",
   "pygments_lexer": "ipython3",
   "version": "3.6.9"
  }
 },
 "nbformat": 4,
 "nbformat_minor": 4
}
