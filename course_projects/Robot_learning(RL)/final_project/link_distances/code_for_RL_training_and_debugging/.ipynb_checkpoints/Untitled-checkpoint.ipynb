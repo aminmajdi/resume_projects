{
 "cells": [
  {
   "cell_type": "code",
   "execution_count": 1,
   "metadata": {},
   "outputs": [
    {
     "name": "stdout",
     "output_type": "stream",
     "text": [
      "(4, 4, 4)\n",
      "[[ 1.     0.     0.   ]\n",
      " [ 0.     1.     1.   ]\n",
      " [ 1.     0.     0.   ]\n",
      " [ 0.    -0.089 -0.089]\n",
      " [ 1.     0.     0.   ]\n",
      " [ 0.     0.     0.425]]\n",
      "(6, 3)\n",
      "list [1 1 1] [0. 0. 0.]\n",
      "mat [1. 1. 1.] [ 0.00412524 -0.05685275  0.6172123 ]\n"
     ]
    },
    {
     "data": {
      "image/png": "[encoded data removed]",
      "text/plain": [
       "<Figure size 432x288 with 1 Axes>"
      ]
     },
     "metadata": {
      "needs_background": "light"
     },
     "output_type": "display_data"
    }
   ],
   "source": [
    "from __future__ import print_function\n",
    "import numpy as np\n",
    "import modern_robotics as mr\n",
    "\n",
    "thetalist = np.array([1, 1, 1])\n",
    "dthetalist = np.array([0.0, 0.0, 0.0])\n",
    "taumat = np.array([[1,1,1],[0,0 , 0],[0,0 , 0],[0,0 , 0],[0,0 , 0],[0,0 , 0],[0,0 , 0]])\n",
    "# Initialize robot description (Example with 3 links)\n",
    "g = np.array([0, 0, 0])\n",
    "Ftipmat = np.zeros((np.array(taumat).shape[0], 6))\n",
    "M01 = np.array([[1, 0, 0,        0],\n",
    "                [0, 1, 0,        0],\n",
    "                [0, 0, 1, 0.089159],\n",
    "                [0, 0, 0,        1]])\n",
    "M12 = np.array([[ 0, 0, 1,    0.28],\n",
    "                [ 0, 1, 0, 0.13585],\n",
    "                [-1, 0, 0,       0],\n",
    "                [ 0, 0, 0,       1]])\n",
    "M23 = np.array([[1, 0, 0,       0],\n",
    "                [0, 1, 0, -0.1197],\n",
    "                [0, 0, 1,   0.395],\n",
    "                [0, 0, 0,       1]])\n",
    "M34 = np.array([[1, 0, 0,       0],\n",
    "                [0, 1, 0,       0],\n",
    "                [0, 0, 1, 0.14225],\n",
    "                [0, 0, 0,       1]])\n",
    "G1 = np.diag([0.010267, 0.010267, 0.00666, 3.7, 3.7, 3.7])\n",
    "G2 = np.diag([0.22689, 0.22689, 0.0151074, 8.393, 8.393, 8.393])\n",
    "G3 = np.diag([0.0494433, 0.0494433, 0.004095, 2.275, 2.275, 2.275])\n",
    "Glist = np.array([G1, G2, G3])\n",
    "Mlist = np.array([M01, M12, M23, M34])\n",
    "print(np.shape(Mlist))\n",
    "Slist = np.array([[1, 0, 1,      0, 1,     0],\n",
    "                  [0, 1, 0, -0.089, 0,     0],\n",
    "                  [0, 1, 0, -0.089, 0, 0.425]]).T\n",
    "print(Slist)\n",
    "print(np.shape(Slist))\n",
    "dt = 0.1\n",
    "intRes = 1\n",
    "thetamat,dthetamat \\\n",
    "= mr.ForwardDynamicsTrajectory(thetalist, dthetalist, taumat, g, \\\n",
    "                               Ftipmat, Mlist, Glist, Slist, dt, \\\n",
    "                               intRes)\n",
    "print(\"list\",thetalist, dthetalist)\n",
    "print(\"mat\",thetamat[1],dthetamat[1])\n",
    "# Output using matplotlib to plot the joint angle/velocities\n",
    "theta1 = thetamat[:, 0]\n",
    "theta2 = thetamat[:, 1]\n",
    "theta3 = thetamat[:, 2]\n",
    "dtheta1 = dthetamat[:, 0]\n",
    "dtheta2 = dthetamat[:, 1]\n",
    "dtheta3 = dthetamat[:, 2]\n",
    "N = np.array(taumat).shape[0]\n",
    "Tf = np.array(taumat).shape[0] * dt\n",
    "timestamp = np.linspace(0, Tf, N)\n",
    "try:\n",
    "    import matplotlib.pyplot as plt\n",
    "except:\n",
    "    print('The result will not be plotted due to a lack of package matplotlib')\n",
    "else:\n",
    "    plt.plot(timestamp, theta1, label = \"Theta1\")\n",
    "    plt.plot(timestamp, theta2, label = \"Theta2\")\n",
    "    plt.plot(timestamp, theta3, label = \"Theta3\")\n",
    "    plt.plot(timestamp, dtheta1, label = \"DTheta1\")\n",
    "    plt.plot(timestamp, dtheta2, label = \"DTheta2\")\n",
    "    plt.plot(timestamp, dtheta3, label = \"DTheta3\")\n",
    "    plt.ylim (-12, 10)\n",
    "    plt.legend(loc = 'lower right')\n",
    "    plt.xlabel(\"Time\")\n",
    "    plt.ylabel(\"Joint Angles/Velocities\")\n",
    "    plt.title(\"Plot of Joint Angles and Joint Velocities\")\n",
    "    plt.show()"
   ]
  },
  {
   "cell_type": "code",
   "execution_count": 2,
   "metadata": {},
   "outputs": [],
   "source": [
    "from robot_model import Model\n",
    "L=[1,1,1]"
   ]
  },
  {
   "cell_type": "code",
   "execution_count": 3,
   "metadata": {},
   "outputs": [
    {
     "name": "stdout",
     "output_type": "stream",
     "text": [
      "[[[1.  0.  0.  0.5]\n",
      "  [0.  1.  0.  0. ]\n",
      "  [0.  0.  1.  0. ]\n",
      "  [0.  0.  0.  1. ]]\n",
      "\n",
      " [[1.  0.  0.  1. ]\n",
      "  [0.  1.  0.  0. ]\n",
      "  [0.  0.  1.  0. ]\n",
      "  [0.  0.  0.  1. ]]\n",
      "\n",
      " [[1.  0.  0.  1. ]\n",
      "  [0.  1.  0.  0. ]\n",
      "  [0.  0.  1.  0. ]\n",
      "  [0.  0.  0.  1. ]]\n",
      "\n",
      " [[1.  0.  0.  0.5]\n",
      "  [0.  1.  0.  0. ]\n",
      "  [0.  0.  1.  0. ]\n",
      "  [0.  0.  0.  1. ]]]\n"
     ]
    },
    {
     "ename": "ValueError",
     "evalue": "shapes (6,6) and (4,) not aligned: 6 (dim 1) != 4 (dim 0)",
     "output_type": "error",
     "traceback": [
      "\u001b[0;31m---------------------------------------------------------------------------\u001b[0m",
      "\u001b[0;31mValueError\u001b[0m                                Traceback (most recent call last)",
      "\u001b[0;32m<ipython-input-3-afc792202cec>\u001b[0m in \u001b[0;36m<module>\u001b[0;34m\u001b[0m\n\u001b[0;32m----> 1\u001b[0;31m \u001b[0ma\u001b[0m\u001b[0;34m,\u001b[0m\u001b[0mb\u001b[0m\u001b[0;34m=\u001b[0m\u001b[0mModel\u001b[0m\u001b[0;34m(\u001b[0m\u001b[0mthetalist\u001b[0m \u001b[0;34m,\u001b[0m\u001b[0mdthetalist\u001b[0m \u001b[0;34m,\u001b[0m\u001b[0mtaumat\u001b[0m\u001b[0;34m,\u001b[0m\u001b[0mL\u001b[0m \u001b[0;34m)\u001b[0m\u001b[0;34m\u001b[0m\u001b[0;34m\u001b[0m\u001b[0m\n\u001b[0m",
      "\u001b[0;32m~/my_grad_courses/Robot_Learning/hw/final_project/link_distances/code_for_RL_training_and_debugging/robot_model.py\u001b[0m in \u001b[0;36mModel\u001b[0;34m(thetalist, dthetalist, taumat, L_list)\u001b[0m\n\u001b[1;32m     76\u001b[0m     \u001b[0;31m#taumat=np.append(np.array(taumat),[[0 for i in range(len(taumat[0])) ]],axis=0)\u001b[0m\u001b[0;34m\u001b[0m\u001b[0;34m\u001b[0m\u001b[0;34m\u001b[0m\u001b[0m\n\u001b[1;32m     77\u001b[0m     \u001b[0;31m#next_thetas, next_dthetas=mr.ForwardDynamicsTrajectory(thetalist, dthetalist, taumat,g,Ftipmat,Mlist, G_list, S_list, dt=0.1, intRes=1)\u001b[0m\u001b[0;34m\u001b[0m\u001b[0;34m\u001b[0m\u001b[0;34m\u001b[0m\u001b[0m\n\u001b[0;32m---> 78\u001b[0;31m     \u001b[0mddthetalist\u001b[0m\u001b[0;34m=\u001b[0m\u001b[0mmr\u001b[0m\u001b[0;34m.\u001b[0m\u001b[0mForwardDynamics\u001b[0m\u001b[0;34m(\u001b[0m\u001b[0mthetalist\u001b[0m\u001b[0;34m,\u001b[0m \u001b[0mdthetalist\u001b[0m\u001b[0;34m,\u001b[0m \u001b[0mtaumat\u001b[0m\u001b[0;34m,\u001b[0m \u001b[0mg\u001b[0m\u001b[0;34m,\u001b[0m \u001b[0mFtipmat\u001b[0m\u001b[0;34m,\u001b[0m \u001b[0mMlist\u001b[0m\u001b[0;34m,\u001b[0m\u001b[0mG_list\u001b[0m\u001b[0;34m,\u001b[0m \u001b[0mS_list\u001b[0m\u001b[0;34m)\u001b[0m\u001b[0;34m\u001b[0m\u001b[0;34m\u001b[0m\u001b[0m\n\u001b[0m\u001b[1;32m     79\u001b[0m     \u001b[0mnext_thetas\u001b[0m\u001b[0;34m,\u001b[0m \u001b[0mnext_dthetas\u001b[0m\u001b[0;34m=\u001b[0m\u001b[0mmr\u001b[0m\u001b[0;34m.\u001b[0m\u001b[0mEulerStep\u001b[0m\u001b[0;34m(\u001b[0m\u001b[0mthetalist\u001b[0m\u001b[0;34m,\u001b[0m \u001b[0mdthetalist\u001b[0m\u001b[0;34m,\u001b[0m \u001b[0mddthetalist\u001b[0m\u001b[0;34m,\u001b[0m \u001b[0mdt\u001b[0m\u001b[0;34m)\u001b[0m\u001b[0;34m\u001b[0m\u001b[0;34m\u001b[0m\u001b[0m\n\u001b[1;32m     80\u001b[0m     \u001b[0;32mreturn\u001b[0m \u001b[0mnext_thetas\u001b[0m\u001b[0;34m,\u001b[0m \u001b[0mnext_dthetas\u001b[0m\u001b[0;34m\u001b[0m\u001b[0;34m\u001b[0m\u001b[0m\n",
      "\u001b[0;32m~/.local/lib/python3.6/site-packages/modern_robotics/core.py\u001b[0m in \u001b[0;36mForwardDynamics\u001b[0;34m(thetalist, dthetalist, taulist, g, Ftip, Mlist, Glist, Slist)\u001b[0m\n\u001b[1;32m   1193\u001b[0m     \"\"\"\n\u001b[1;32m   1194\u001b[0m     return np.dot(np.linalg.inv(MassMatrix(thetalist, Mlist, Glist, \\\n\u001b[0;32m-> 1195\u001b[0;31m                                            Slist)), \\\n\u001b[0m\u001b[1;32m   1196\u001b[0m                   \u001b[0mnp\u001b[0m\u001b[0;34m.\u001b[0m\u001b[0marray\u001b[0m\u001b[0;34m(\u001b[0m\u001b[0mtaulist\u001b[0m\u001b[0;34m)\u001b[0m\u001b[0;31m \u001b[0m\u001b[0;31m\\\u001b[0m\u001b[0;34m\u001b[0m\u001b[0;34m\u001b[0m\u001b[0m\n\u001b[1;32m   1197\u001b[0m                   - VelQuadraticForces(thetalist, dthetalist, Mlist, \\\n",
      "\u001b[0;32m~/.local/lib/python3.6/site-packages/modern_robotics/core.py\u001b[0m in \u001b[0;36mMassMatrix\u001b[0;34m(thetalist, Mlist, Glist, Slist)\u001b[0m\n\u001b[1;32m    989\u001b[0m         M[:, i] = InverseDynamics(thetalist, [0] * n, ddthetalist, \\\n\u001b[1;32m    990\u001b[0m                                   \u001b[0;34m[\u001b[0m\u001b[0;36m0\u001b[0m\u001b[0;34m,\u001b[0m \u001b[0;36m0\u001b[0m\u001b[0;34m,\u001b[0m \u001b[0;36m0\u001b[0m\u001b[0;34m]\u001b[0m\u001b[0;34m,\u001b[0m \u001b[0;34m[\u001b[0m\u001b[0;36m0\u001b[0m\u001b[0;34m,\u001b[0m \u001b[0;36m0\u001b[0m\u001b[0;34m,\u001b[0m \u001b[0;36m0\u001b[0m\u001b[0;34m,\u001b[0m \u001b[0;36m0\u001b[0m\u001b[0;34m,\u001b[0m \u001b[0;36m0\u001b[0m\u001b[0;34m,\u001b[0m \u001b[0;36m0\u001b[0m\u001b[0;34m]\u001b[0m\u001b[0;34m,\u001b[0m \u001b[0mMlist\u001b[0m\u001b[0;34m,\u001b[0m\u001b[0;31m \u001b[0m\u001b[0;31m\\\u001b[0m\u001b[0;34m\u001b[0m\u001b[0;34m\u001b[0m\u001b[0m\n\u001b[0;32m--> 991\u001b[0;31m                                   Glist, Slist)\n\u001b[0m\u001b[1;32m    992\u001b[0m     \u001b[0;32mreturn\u001b[0m \u001b[0mM\u001b[0m\u001b[0;34m\u001b[0m\u001b[0;34m\u001b[0m\u001b[0m\n\u001b[1;32m    993\u001b[0m \u001b[0;34m\u001b[0m\u001b[0m\n",
      "\u001b[0;32m~/.local/lib/python3.6/site-packages/modern_robotics/core.py\u001b[0m in \u001b[0;36mInverseDynamics\u001b[0;34m(thetalist, dthetalist, ddthetalist, g, Ftip, Mlist, Glist, Slist)\u001b[0m\n\u001b[1;32m    918\u001b[0m     \u001b[0;32mfor\u001b[0m \u001b[0mi\u001b[0m \u001b[0;32min\u001b[0m \u001b[0mrange\u001b[0m\u001b[0;34m(\u001b[0m\u001b[0mn\u001b[0m\u001b[0;34m)\u001b[0m\u001b[0;34m:\u001b[0m\u001b[0;34m\u001b[0m\u001b[0;34m\u001b[0m\u001b[0m\n\u001b[1;32m    919\u001b[0m         \u001b[0mMi\u001b[0m \u001b[0;34m=\u001b[0m \u001b[0mnp\u001b[0m\u001b[0;34m.\u001b[0m\u001b[0mdot\u001b[0m\u001b[0;34m(\u001b[0m\u001b[0mMi\u001b[0m\u001b[0;34m,\u001b[0m\u001b[0mMlist\u001b[0m\u001b[0;34m[\u001b[0m\u001b[0mi\u001b[0m\u001b[0;34m]\u001b[0m\u001b[0;34m)\u001b[0m\u001b[0;34m\u001b[0m\u001b[0;34m\u001b[0m\u001b[0m\n\u001b[0;32m--> 920\u001b[0;31m         \u001b[0mAi\u001b[0m\u001b[0;34m[\u001b[0m\u001b[0;34m:\u001b[0m\u001b[0;34m,\u001b[0m \u001b[0mi\u001b[0m\u001b[0;34m]\u001b[0m \u001b[0;34m=\u001b[0m \u001b[0mnp\u001b[0m\u001b[0;34m.\u001b[0m\u001b[0mdot\u001b[0m\u001b[0;34m(\u001b[0m\u001b[0mAdjoint\u001b[0m\u001b[0;34m(\u001b[0m\u001b[0mTransInv\u001b[0m\u001b[0;34m(\u001b[0m\u001b[0mMi\u001b[0m\u001b[0;34m)\u001b[0m\u001b[0;34m)\u001b[0m\u001b[0;34m,\u001b[0m \u001b[0mnp\u001b[0m\u001b[0;34m.\u001b[0m\u001b[0marray\u001b[0m\u001b[0;34m(\u001b[0m\u001b[0mSlist\u001b[0m\u001b[0;34m)\u001b[0m\u001b[0;34m[\u001b[0m\u001b[0;34m:\u001b[0m\u001b[0;34m,\u001b[0m \u001b[0mi\u001b[0m\u001b[0;34m]\u001b[0m\u001b[0;34m)\u001b[0m\u001b[0;34m\u001b[0m\u001b[0;34m\u001b[0m\u001b[0m\n\u001b[0m\u001b[1;32m    921\u001b[0m         AdTi[i] = Adjoint(np.dot(MatrixExp6(VecTose3(Ai[:, i] * \\\n\u001b[1;32m    922\u001b[0m                                             -thetalist[i])), \\\n",
      "\u001b[0;32m<__array_function__ internals>\u001b[0m in \u001b[0;36mdot\u001b[0;34m(*args, **kwargs)\u001b[0m\n",
      "\u001b[0;31mValueError\u001b[0m: shapes (6,6) and (4,) not aligned: 6 (dim 1) != 4 (dim 0)"
     ]
    }
   ],
   "source": [
    "a,b=Model(thetalist ,dthetalist ,taumat,L ,Slist)"
   ]
  },
  {
   "cell_type": "code",
   "execution_count": null,
   "metadata": {},
   "outputs": [],
   "source": []
  }
 ],
 "metadata": {
  "kernelspec": {
   "display_name": "Python 3",
   "language": "python",
   "name": "python3"
  },
  "language_info": {
   "codemirror_mode": {
    "name": "ipython",
    "version": 3
   },
   "file_extension": ".py",
   "mimetype": "text/x-python",
   "name": "python",
   "nbconvert_exporter": "python",
   "pygments_lexer": "ipython3",
   "version": "3.6.9"
  }
 },
 "nbformat": 4,
 "nbformat_minor": 4
}
