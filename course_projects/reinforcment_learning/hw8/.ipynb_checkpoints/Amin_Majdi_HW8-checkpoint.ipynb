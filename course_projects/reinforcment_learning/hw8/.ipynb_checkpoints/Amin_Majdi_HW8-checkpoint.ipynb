{
 "cells": [
  {
   "cell_type": "markdown",
   "metadata": {},
   "source": [
    "<center>\n",
    "    COMP4600/5300 - Reinforcement Learning\n",
    "\n",
    "# Homework 8 - Policy Gradient\n",
    "\n",
    "### Due: Wednesday, December 2nd 11:59 pm\n",
    "    \n",
    "</center>"
   ]
  },
  {
   "cell_type": "markdown",
   "metadata": {},
   "source": [
    "Student Name: Amin Majdi "
   ]
  },
  {
   "cell_type": "markdown",
   "metadata": {},
   "source": [
    "The purpose of this project is to study different properties of Policy Gradient algorithms with Function Approximation."
   ]
  },
  {
   "cell_type": "code",
   "execution_count": 1,
   "metadata": {},
   "outputs": [
    {
     "name": "stdout",
     "output_type": "stream",
     "text": [
      "pygame 1.9.6\n",
      "Hello from the pygame community. https://www.pygame.org/contribute.html\n"
     ]
    }
   ],
   "source": [
    "# You are allowed to use the following modules\n",
    "import numpy as np\n",
    "import matplotlib.pyplot as plt\n",
    "from mountain_car import MountainCar\n",
    "import pygame as pg\n",
    "from pygame import gfxdraw"
   ]
  },
  {
   "attachments": {
    "mc.png": {
     "image/png": "[encoded data removed]"
    }
   },
   "cell_type": "markdown",
   "metadata": {},
   "source": [
    "## Task description\n",
    "Consider the task of driving an underpowered car up a steep mountain road, as suggested by the diagram in the upper left of the following figure. The difficulty is that gravity is stronger than the car's engine, and even at full throttle the car cannot accelerate up the steep slope. The only solution is to first move away from the goal and up the opposite slope on the left. Then by applying full throttle the car can build up enough inertia to carry it up the steep slope even though it is slowing down the whole way.\n",
    "\n",
    "\n",
    "![mc.png](attachment:mc.png)\n",
    "\n",
    "\n",
    "This is a continuous control task where things have to get worse in a sense (farther from the goal) before they can get better. The reward in this problem is -1 on all time steps until the car moves past its goal position at the top of the mountain, which ends the episode. There are three possible actions: full throttle forward (+1), full throttle reverse (-1), and zero throttle (0). The car moves according to a simplified physics. Its position $x_t$ and velocity $\\dot{x}_t$ are updated by\n",
    "\n",
    "$x_{t+1} \\doteq \\text{bound}[x_t + \\dot{x}_{t+1}]$\n",
    "\n",
    "$\\dot{x}_{t+1} \\doteq \\text{bound}[\\dot{x}_t + 0.001 A_t - 0.0025 \\cos(3x_t)]$\n",
    "\n",
    "\n",
    "where the \\textit{bound} operation enforces $-1.2 \\le x_{t+1} \\le 0.5$ and $-0.07 \\le \\dot{x}_{t+1} \\le 0.07$. In addition, when $x_{t+1}$ reached the left bound, $\\dot{x}_{t+1}$ was reset to zero. When it reached the right bound, the goal was reached and the episode was terminated. Each episode starts from a random position $x_t \\in [-0.6, -0.4)$ and zero velocity.\n",
    "\n",
    "\n",
    "\n",
    "\n",
    "**Note:** You have been given a simple implementation of the Mountain Car task. You can use your implementation of the function approximation from Homework 6, or implement a new one. \n"
   ]
  },
  {
   "cell_type": "markdown",
   "metadata": {},
   "source": [
    "## Part I\n",
    "\n",
    "Select and implement of the following algorithms (+10 for implementing both):\n",
    "\n",
    "1.\tREINFORCE with Baseline (p. 330)\n",
    "2.\tActor-Critic with Eligibility Traces (p. 332)\n"
   ]
  },
  {
   "cell_type": "code",
   "execution_count": 2,
   "metadata": {},
   "outputs": [],
   "source": [
    "# Your code here\n",
    "state_num=2\n",
    "action_num=3\n",
    "order=3\n",
    "d=(order+1)**state_num\n",
    "d_a=d*action_num\n",
    "\n",
    "def scale(state_):\n",
    "    a_ = np.array([(state_[0] + 1.2) / 1.7,(state_[1] + 0.07) / 0.14])\n",
    "    return a_\n",
    "\n",
    "def create_c(k_,n_):#number of states, order\n",
    "    c_ = [[] for j in range(k_)]\n",
    "    for i in range(k_):\n",
    "        for j in range(int(np.power(n_ + 1,i))):\n",
    "            for p in range(n_ + 1):\n",
    "                for r in range(int(np.power(n_ + 1,k_- i - 1))):\n",
    "                    c_[i].append(p)\n",
    "    c_ = np.array(c_,dtype = np.int8)\n",
    "    return c_\n",
    "c=create_c(state_num,order)\n",
    "\n",
    "def create_x_i(s_,action_index_): #for theta\n",
    "    state = scale(s_)\n",
    "    x_i=np.cos(np.pi*(np.matmul(state,c)))\n",
    "    zero = np.zeros((1,d))\n",
    "    X_ = np.empty(0)\n",
    "    for i in range(action_num):\n",
    "        if i == action_index_:\n",
    "            X_ = np.append(X_,x_i)\n",
    "        else:\n",
    "            X_ = np.append(X_,zero)\n",
    "\n",
    "    return X_\n",
    "\n",
    "def create_x_i_v(s_): #for v_hat\n",
    "    state = scale(s_)\n",
    "    x_i_=np.cos(np.pi*(np.matmul(state,c)))\n",
    "    return x_i_\n",
    "\n",
    "\n",
    "def policy(st,theta):\n",
    "    h = np.empty(0)\n",
    "    for i in range(action_num):\n",
    "        h = np.append(h,np.matmul(theta,create_x_i(st,i)))#theta * x(A_t,S_t\n",
    "    exp = np.exp(h - np.max(h))\n",
    "    soft_ = exp / np.sum(exp)\n",
    "\n",
    "    return soft_\n",
    "\n",
    "def creat_v_hat(s_in,w_in):\n",
    "    x_ = create_x_i_v(s_in)\n",
    "    v_ = np.matmul(w_in,x_)\n",
    "    return v_ , x_\n",
    "\n",
    "def nubla_ln_policy(s_,action_index_,theta_):\n",
    "    x_i_ = create_x_i(s_,action_index_)\n",
    "    soft_ = policy(s_,theta_)\n",
    "    sum_ = np.zeros((1,len(x_i_)))\n",
    "    for i in range(action_num):\n",
    "        sum_ += soft_[i] * create_x_i(s_,i)\n",
    "    nubla = x_i_ - sum_\n",
    "    return nubla\n",
    "    \n"
   ]
  },
  {
   "cell_type": "code",
   "execution_count": 75,
   "metadata": {},
   "outputs": [
    {
     "name": "stdout",
     "output_type": "stream",
     "text": [
      "episode=_________________________________________________ 1\n",
      "[-0.09430859 -0.0087724 ]\n",
      "[0.33333333 0.33333333 0.33333333]\n",
      "[-0.45315472 -0.04872687]\n",
      "[0.33333333 0.33333333 0.33333333]\n",
      "[-0.10186504  0.00515295]\n",
      "[0.33333333 0.33333333 0.33333333]\n",
      "[-0.15044945  0.01489744]\n",
      "[0.33333333 0.33333333 0.33333333]\n",
      "[-0.60540024 -0.00614247]\n",
      "[0.33333333 0.33333333 0.33333333]\n",
      "[-1.06395885  0.01227297]\n",
      "[0.33333333 0.33333333 0.33333333]\n",
      "[-0.41195972  0.02121901]\n",
      "[0.33333333 0.33333333 0.33333333]\n",
      "[-0.49283308  0.04245052]\n",
      "[0.33333333 0.33333333 0.33333333]\n",
      "episode length= 84657\n",
      "episode=_________________________________________________ 2\n",
      "episode length= 1391\n",
      "episode=_________________________________________________ 3\n",
      "episode length= 1185\n",
      "episode=_________________________________________________ 4\n",
      "episode length= 236\n",
      "episode=_________________________________________________ 5\n",
      "episode length= 758\n",
      "episode=_________________________________________________ 6\n",
      "episode length= 1095\n",
      "episode=_________________________________________________ 7\n",
      "episode length= 318\n",
      "episode=_________________________________________________ 8\n",
      "episode length= 243\n",
      "episode=_________________________________________________ 9\n",
      "episode length= 1612\n",
      "episode=_________________________________________________ 10\n",
      "[-0.34157581  0.01303433]\n",
      "[4.15974507e-05 5.15717266e-05 9.99906831e-01]\n",
      "episode length= 10307\n",
      "episode=_________________________________________________ 11\n",
      "[-0.31522545 -0.00138948]\n",
      "[1.60163295e-04 2.85640368e-05 9.99811273e-01]\n",
      "episode length= 12502\n",
      "episode=_________________________________________________ 12\n",
      "episode length= 476\n",
      "episode=_________________________________________________ 13\n",
      "episode length= 331\n",
      "episode=_________________________________________________ 14\n",
      "episode length= 1776\n",
      "episode=_________________________________________________ 15\n",
      "episode length= 406\n",
      "episode=_________________________________________________ 16\n",
      "[-0.36914176 -0.00319247]\n",
      "[3.49542799e-04 5.46568704e-05 9.99595800e-01]\n",
      "[-0.36782085  0.00518951]\n",
      "[5.93754997e-05 2.11928350e-05 9.99919432e-01]\n",
      "[-0.31897066 -0.00741591]\n",
      "[6.71432524e-04 7.64272339e-05 9.99252140e-01]\n",
      "episode length= 30733\n",
      "episode=_________________________________________________ 17\n",
      "episode length= 310\n",
      "episode=_________________________________________________ 18\n",
      "[-0.41128045 -0.00278572]\n",
      "[5.15128688e-04 9.12206237e-05 9.99393651e-01]\n",
      "episode length= 18855\n",
      "episode=_________________________________________________ 19\n",
      "episode length= 242\n",
      "episode=_________________________________________________ 20\n",
      "episode length= 942\n",
      "__\n"
     ]
    }
   ],
   "source": [
    "def REINFORCE_with_Baseline(alpha_theta,alpha_w):\n",
    "    w = np.zeros((1,d))\n",
    "    theta = np.zeros((1,action_num * d))\n",
    "    episode = 0\n",
    "    step = np.empty(0)\n",
    "    state_list_ = []\n",
    "    step_per_episode_ = []\n",
    "    reward_sum_ = []\n",
    "    car2 = MountainCar()\n",
    "    while episode != 20:\n",
    "        episode += 1\n",
    "        print(\"episode=_________________________________________________\",episode)\n",
    "        s = np.zeros((1,2))# states\n",
    "        action = np.empty(0)\n",
    "        s[0] = [(np.random.rand()*0.2)-0.6,0]# create the first state in [-.6 -0.4]\n",
    "        car2.goal_reached = False\n",
    "        t = 0\n",
    "        aaa=1\n",
    "        while not car2.goal_reached:\n",
    "            soft_vector=policy(s[t],theta)\n",
    "            action_index = np.random.choice(action_num,p=soft_vector)\n",
    "            action = np.append(action,action_index)\n",
    "            next_pos, next_vel, r_next, goal_reached = car2.move(s[t][0], s[t][1], action[t]-1)#-1 is for changing index to real action \n",
    "            s = np.append(s,[[next_pos,next_vel]],axis = 0)\n",
    "            soft_vector=policy(s[t + 1],theta)\n",
    "            if t==aaa*10000:\n",
    "                print(s[t + 1])\n",
    "                print(soft_vector)\n",
    "                aaa+=1\n",
    "            \n",
    "            t+=1\n",
    "        T = t\n",
    "        print(\"episode length=\",T)\n",
    "        for t_ in range(T):\n",
    "            G = -1*(T-t_)\n",
    "            v  , x_v= creat_v_hat(s[t_],w)\n",
    "            delta = G - v\n",
    "            \n",
    "            w += alpha_w * delta * x_v\n",
    "            theta += alpha_theta * delta * nubla_ln_policy(s[t_],action[t_],theta)\n",
    "        step_per_episode_.append(T)\n",
    "        state_list_.append(s)\n",
    "        reward_sum_.append(-T)\n",
    "    print(\"__\")\n",
    "    return state_list_,step_per_episode_ , reward_sum_ \n",
    "\n",
    "state_list_R,step_per_episode_R , reward_sum_R = REINFORCE_with_Baseline(0.000001,0.0016)#t,w"
   ]
  },
  {
   "cell_type": "code",
   "execution_count": 59,
   "metadata": {},
   "outputs": [],
   "source": [
    "def Actor_Critic(alpha_theta,alpha_w,Lambda_theta,Lambda_w):\n",
    "    w = np.zeros((1,d))\n",
    "    theta = np.zeros((1,d_a))\n",
    "    episode = 0\n",
    "    step = np.empty(0)\n",
    "    state_list = []\n",
    "    step_per_episode = []\n",
    "    reward_sum = []\n",
    "    car1 = MountainCar()\n",
    "    \n",
    "    while episode != 100:\n",
    "        episode += 1\n",
    "        z_theta = np.zeros((1,d_a))\n",
    "        z_w = np.zeros((1,d))\n",
    "        t = 0\n",
    "        action = np.empty(0)\n",
    "        s = np.zeros((1,2))# states\n",
    "        s[0] = [(np.random.rand()*0.2)-0.6,0]# create the first state in [-.6 -0.4]\n",
    "        car1.goal_reached = False\n",
    "        b=1\n",
    "        while not car1.goal_reached:\n",
    "            soft_vector = policy(s[t],theta)\n",
    "            action_index = np.random.choice(action_num,p=soft_vector)\n",
    "            next_pos, next_vel, r_next, goal_reached = car1.move(s[t][0], s[t][1], action_index-1)\n",
    "            s = np.append(s,[[next_pos,next_vel]],axis=0)\n",
    "            v_s , x_s= creat_v_hat(s[t],w)\n",
    "            v_next , _=creat_v_hat(s[t+1],w)\n",
    "            delta = -1 + v_next - v_s\n",
    "            z_w = Lambda_w * z_w + x_s\n",
    "            z_theta = Lambda_theta * z_theta + nubla_ln_policy(s[t],action_index,theta)\n",
    "            w += alpha_w * delta * z_w\n",
    "            theta += alpha_theta * delta * z_theta\n",
    "            t += 1\n",
    "        step_per_episode.append(t)\n",
    "        state_list.append(s)\n",
    "        reward_sum.append(-t)\n",
    "    return state_list,step_per_episode , reward_sum\n"
   ]
  },
  {
   "cell_type": "markdown",
   "metadata": {},
   "source": [
    "## Part II\n",
    "\n",
    "Use the algorithm to learn the Mountain Car task. Tune the step-size parameter ($\\alpha$), the Function Approximation order, the discount factor ($\\gamma$), and the $\\lambda$-value. **Note:** you can consider the problem to be undiscounted.\n",
    " \n",
    "1. Plot step-per-episode (in log scale) vs. number of episodes. This plot should be averaged over 50-100 runs. \n",
    "2. Plot total reward on episode vs. number of episodes. This plot should be averaged over 50-100 runs.\n",
    "3. Show an animation of the task for the final episode.\n"
   ]
  },
  {
   "cell_type": "code",
   "execution_count": 5,
   "metadata": {},
   "outputs": [
    {
     "name": "stdout",
     "output_type": "stream",
     "text": [
      "runing\n",
      "runing\n",
      "runing\n",
      "runing\n",
      "runing\n",
      "runing\n",
      "runing\n",
      "runing\n",
      "runing\n"
     ]
    }
   ],
   "source": [
    "step_list=[]\n",
    "rewards=[]\n",
    "checher=1\n",
    "for i in range(50):\n",
    "    if i == 5 *checher:\n",
    "        print(\"runing\")\n",
    "        checher+=1\n",
    "    state_list , step_per_episode, reward_per_episode=Actor_Critic(0.0015,0.0009,0.6,0.6)\n",
    "    step_list.append(step_per_episode)\n",
    "    rewards.append(reward_per_episode)"
   ]
  },
  {
   "cell_type": "code",
   "execution_count": 6,
   "metadata": {},
   "outputs": [],
   "source": [
    "St_av = np.average(step_list,axis=0)\n",
    "R_av= np.average(rewards,axis=0)"
   ]
  },
  {
   "cell_type": "code",
   "execution_count": 7,
   "metadata": {},
   "outputs": [
    {
     "data": {
      "text/plain": [
       "[<matplotlib.lines.Line2D at 0x7f5ac48615c0>]"
      ]
     },
     "execution_count": 7,
     "metadata": {},
     "output_type": "execute_result"
    },
    {
     "data": {
      "image/png": "[encoded data removed]",
      "text/plain": [
       "<Figure size 432x288 with 1 Axes>"
      ]
     },
     "metadata": {
      "needs_background": "light"
     },
     "output_type": "display_data"
    }
   ],
   "source": [
    "\n",
    "plt.title('steps per episode')\n",
    "plt.xlabel(\"episode\")\n",
    "plt.ylabel(\"steps\")\n",
    "plt.yscale(\"log\")\n",
    "plt.plot(St_av)\n",
    "\n"
   ]
  },
  {
   "cell_type": "code",
   "execution_count": 13,
   "metadata": {},
   "outputs": [
    {
     "data": {
      "text/plain": [
       "[<matplotlib.lines.Line2D at 0x7f5ac4834ba8>]"
      ]
     },
     "execution_count": 13,
     "metadata": {},
     "output_type": "execute_result"
    },
    {
     "data": {
      "image/png": "[encoded data removed]",
      "text/plain": [
       "<Figure size 432x288 with 1 Axes>"
      ]
     },
     "metadata": {
      "needs_background": "light"
     },
     "output_type": "display_data"
    }
   ],
   "source": [
    "plt.title('reward per episode')\n",
    "plt.ylabel(\"rewards\")\n",
    "plt.xlabel(\"episode\")\n",
    "plt.ylabel(\"reward\")\n",
    "plt.plot(R_av)\n"
   ]
  },
  {
   "cell_type": "code",
   "execution_count": 14,
   "metadata": {},
   "outputs": [],
   "source": [
    "def y_x(x):\n",
    "    y=0.45*np.sin(3*x)+0.55\n",
    "    return y \n",
    "\n",
    "def animation_function(x_car,y_car,r):\n",
    "    pg.init()\n",
    "    scale=300\n",
    "    win_x = 600\n",
    "    win_y = 300\n",
    "    x_car*=scale\n",
    "    x_car+=405\n",
    "    y_car*=-scale\n",
    "    y_car+=win_y\n",
    "    x_arr= np.linspace(-1.2, 0.5, 511)\n",
    "    y_arr=np.empty(0,dtype=np.int8)\n",
    "    y_arr=y_x(x_arr)\n",
    "    y_screen=-scale*y_arr+win_y\n",
    "    x_screen = np.linspace(45, 555, 511)\n",
    "    win = pg.display.set_mode((win_x, win_y))\n",
    "    clock = pg.time.Clock()\n",
    "    win.fill((0, 0, 0))\n",
    "    for i in range(len(x_arr)):\n",
    "        pg.gfxdraw.pixel(win,int(x_screen[i]),int(y_screen[i]),(255,255,255))\n",
    "    pg.display.update()\n",
    "    for i in range(len(x_car)):\n",
    "        for event in pg.event.get():\n",
    "            if event.type == pg.QUIT:\n",
    "                pg.quit()\n",
    "        clock.tick(r)\n",
    "        win.fill((0, 0, 0))\n",
    "        for j in range(len(x_arr)):\n",
    "            pg.gfxdraw.pixel(win,int(x_screen[j]),int(y_screen[j]),(0,255,0))\n",
    "        pg.draw.rect(win,(255,255,0),(x_car[i]-10, y_car[i]-5, 20, 10))\n",
    "        pg.display.update()\n",
    "    pg.quit()"
   ]
  },
  {
   "cell_type": "code",
   "execution_count": 15,
   "metadata": {},
   "outputs": [],
   "source": [
    "x1=np.empty(0)\n",
    "y1=np.empty(0)\n",
    "states=state_list[-1]\n",
    "for i in range(len(states)):\n",
    "    x1=np.append(x1,states[i][0])\n",
    "    y1=np.append(y1,y_x(states[i][0]))\n",
    "\n",
    "animation_function(x1,y1,50)"
   ]
  },
  {
   "cell_type": "code",
   "execution_count": null,
   "metadata": {},
   "outputs": [],
   "source": []
  }
 ],
 "metadata": {
  "kernelspec": {
   "display_name": "Python 3",
   "language": "python",
   "name": "python3"
  },
  "language_info": {
   "codemirror_mode": {
    "name": "ipython",
    "version": 3
   },
   "file_extension": ".py",
   "mimetype": "text/x-python",
   "name": "python",
   "nbconvert_exporter": "python",
   "pygments_lexer": "ipython3",
   "version": "3.6.9"
  }
 },
 "nbformat": 4,
 "nbformat_minor": 2
}
