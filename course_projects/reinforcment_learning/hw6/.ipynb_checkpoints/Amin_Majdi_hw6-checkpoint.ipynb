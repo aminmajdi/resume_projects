{
 "cells": [
  {
   "cell_type": "markdown",
   "metadata": {},
   "source": [
    "<center>\n",
    "    COMP4600/5300 - Reinforcement Learning\n",
    "\n",
    "# Homework 6 - On-policy Control with Approximation\n",
    "\n",
    "### Due: Wednesday, November 11th 11:59 pm\n",
    "    \n",
    "</center>"
   ]
  },
  {
   "cell_type": "markdown",
   "metadata": {},
   "source": [
    "Student Name: Amin Majdi "
   ]
  },
  {
   "cell_type": "markdown",
   "metadata": {},
   "source": [
    "The purpose of this project is to study different properties of Function Approximation with on-policy control methods.  "
   ]
  },
  {
   "cell_type": "code",
   "execution_count": 1,
   "metadata": {},
   "outputs": [
    {
     "name": "stdout",
     "output_type": "stream",
     "text": [
      "pygame 1.9.6\n",
      "Hello from the pygame community. https://www.pygame.org/contribute.html\n"
     ]
    }
   ],
   "source": [
    "# You are allowed to use the following modules\n",
    "import numpy as np\n",
    "import matplotlib.pyplot as plt\n",
    "from mountain_car import MountainCar\n",
    "import pygame as pg\n",
    "from pygame import gfxdraw"
   ]
  },
  {
   "attachments": {
    "mc.png": {
     "image/png": "[encoded data removed]"
    }
   },
   "cell_type": "markdown",
   "metadata": {},
   "source": [
    "## Task description\n",
    "Consider the task of driving an underpowered car up a steep mountain road, as suggested by the diagram in the upper left of the following figure. The difficulty is that gravity is stronger than the car's engine, and even at full throttle the car cannot accelerate up the steep slope. The only solution is to first move away from the goal and up the opposite slope on the left. Then by applying full throttle the car can build up enough inertia to carry it up the steep slope even though it is slowing down the whole way.\n",
    "\n",
    "\n",
    "![mc.png](attachment:mc.png)\n",
    "\n",
    "\n",
    "This is a continuous control task where things have to get worse in a sense (farther from the goal) before they can get better. The reward in this problem is -1 on all time steps until the car moves past its goal position at the top of the mountain, which ends the episode. There are three possible actions: full throttle forward (+1), full throttle reverse (-1), and zero throttle (0). The car moves according to a simplified physics. Its position $x_t$ and velocity $\\dot{x}_t$ are updated by\n",
    "\n",
    "$x_{t+1} \\doteq \\text{bound}[x_t + \\dot{x}_{t+1}]$\n",
    "\n",
    "$\\dot{x}_{t+1} \\doteq \\text{bound}[\\dot{x}_t + 0.001 A_t - 0.0025 \\cos(3x_t)]$\n",
    "\n",
    "\n",
    "where the \\textit{bound} operation enforces $-1.2 \\le x_{t+1} \\le 0.5$ and $-0.07 \\le \\dot{x}_{t+1} \\le 0.07$. In addition, when $x_{t+1}$ reached the left bound, $\\dot{x}_{t+1}$ was reset to zero. When it reached the right bound, the goal was reached and the episode was terminated. Each episode starts from a random position $x_t \\in [-0.6, -0.4)$ and zero velocity.\n"
   ]
  },
  {
   "cell_type": "markdown",
   "metadata": {},
   "source": [
    "## Part I\n",
    "\n",
    "You have been given a simple implementation of the Mountain Car task. \n",
    "\n",
    "1. Your first task is to check and confirm that the given code simulates the above formulae and task description. Then write a function that generates random episodes for this task. You should use the given code for the Mountain Car task. \n"
   ]
  },
  {
   "cell_type": "code",
   "execution_count": 2,
   "metadata": {},
   "outputs": [
    {
     "name": "stdout",
     "output_type": "stream",
     "text": [
      "-0.2679015803161316\n",
      "-0.0009549083026736507\n",
      "goal_reached= False\n",
      "100001\n",
      "As you can see, in the chech_engine function I used full throttle forward (+1)\n",
      "with the initial velocity equal to zero.Even after 100k steps it does not reach\n",
      "the goal so it is clear that the car's engine does not have enough power to overcome\n",
      "the gravity and reach the goal\n"
     ]
    }
   ],
   "source": [
    "# Your code here\n",
    "#### Explanation\n",
    "#As you can see, in the chech_engine function I used full throttle forward (+1) \n",
    "#with the initial velocity equal to zero.Even after 100k steps it doesent reach \n",
    "#the goal so it is clear that the car's engine does not have enough power to overcome\n",
    "#the gravity and reach the goal. \n",
    "####\n",
    "\n",
    "def check_engine():\n",
    "    x_car= -0.5\n",
    "    v_car= 0 \n",
    "    goal_reached=False\n",
    "    car = MountainCar()\n",
    "    t = 0\n",
    "    while  not goal_reached:\n",
    "        t +=1\n",
    "        x_car, v_car, _, goal_reached = car.move(x_car, v_car, 1)\n",
    "        if t> 100000:\n",
    "            print(x_car)\n",
    "            print(v_car)\n",
    "            print(\"goal_reached=\" ,goal_reached)\n",
    "            print (t)\n",
    "            print('As you can see, in the chech_engine function I used full throttle forward (+1)') \n",
    "            print('with the initial velocity equal to zero.Even after 100k steps it does not reach') \n",
    "            print(\"the goal so it is clear that the car's engine does not have enough power to overcome\")\n",
    "            print('the gravity and reach the goal')\n",
    "            goal_reached = True\n",
    "check_engine()"
   ]
  },
  {
   "cell_type": "code",
   "execution_count": 3,
   "metadata": {},
   "outputs": [
    {
     "name": "stdout",
     "output_type": "stream",
     "text": [
      "given code simulates the formulae\n",
      "x left boundery confirmed\n",
      "x right boundery confirmed\n",
      "velocity left boundery confirmed\n",
      "velocity right boundery confirmed\n"
     ]
    }
   ],
   "source": [
    "def equation(x,v,a):\n",
    "    vel=v+0.001*a-0.0025*np.cos(3*x)\n",
    "    pos=x+vel\n",
    "    return pos , vel\n",
    "def chech_code():\n",
    "    x_in_bound=1.7*np.random.rand()-1.2\n",
    "    vel_in_bound=0.14*np.random.rand()-0.07\n",
    "    action=np.random.choice([-1,0,1])\n",
    "    \n",
    "    my_new_pos , my_new_vel=equation(x_in_bound,vel_in_bound,action)\n",
    "    car = MountainCar()\n",
    "    code_new_pos , code_new_vel,_,goal=car.move(x_in_bound, vel_in_bound, action)\n",
    "    if not goal:\n",
    "        if my_new_pos==code_new_pos and my_new_vel == code_new_vel:\n",
    "            print('given code simulates the formulae')\n",
    "        else:\n",
    "            print('given code does not simulate the formulae')\n",
    "chech_code()\n",
    "\n",
    "\n",
    "def boundry_check():\n",
    "    car = MountainCar()\n",
    "    x_out_left_bound=np.random.rand()-2.2\n",
    "    x_out_right_bound=np.random.rand()+0.5\n",
    "    x_in_bound=1.7*np.random.rand()-1.2\n",
    "    \n",
    "    vel_out_right_bound=np.random.rand()+0.07\n",
    "    vel_out_left_bound=np.random.rand()-1.07\n",
    "    vel_in_bound=0.14*np.random.rand()-0.07\n",
    "    \n",
    "    \n",
    "    \n",
    "    #check x left boundery\n",
    "    action=np.random.choice([-1,0,1])\n",
    "    my_pos,my_vel=equation(x_out_left_bound,vel_in_bound,action)\n",
    "    code_pos , code_vel,_,goal=car.move(x_out_left_bound, vel_in_bound, action)\n",
    "    if my_pos<=-1.2:\n",
    "        if code_pos==-1.2 and code_vel==0:\n",
    "            print('x left boundery confirmed')\n",
    "        else:\n",
    "            print('x left boundery not works')\n",
    "    else:\n",
    "        print(\"try again\")\n",
    "            \n",
    "    #check x right boundery\n",
    "    action=np.random.choice([-1,0,1])\n",
    "    my_pos,my_vel=equation(x_out_right_bound,vel_in_bound,action)\n",
    "    code_pos , code_vel,_,goal=car.move(x_out_right_bound, vel_in_bound, action)\n",
    "    if my_pos>=0.5:\n",
    "        if code_pos==0.5 and goal:\n",
    "            print('x right boundery confirmed')\n",
    "        else:\n",
    "            print('x right boundery not works')\n",
    "    else:\n",
    "        print(\"try again\")\n",
    "    \n",
    "    #check vel left boundery\n",
    "    action=np.random.choice([-1,0,1])\n",
    "    my_pos,my_vel=equation(x_in_bound,vel_out_left_bound,action)\n",
    "    code_pos , code_vel,_,goal=car.move(x_in_bound, vel_out_left_bound, action) \n",
    "    if my_vel<=-0.07:\n",
    "        if code_vel==-0.07:\n",
    "            print('velocity left boundery confirmed')\n",
    "        else:\n",
    "            print('velocity left boundery not works')\n",
    "    else:\n",
    "        print(\"try again\")\n",
    "        \n",
    "    #check vel right boundery\n",
    "    action=np.random.choice([-1,0,1])\n",
    "    my_pos,my_vel=equation(x_in_bound,vel_out_right_bound,action)\n",
    "    code_pos , code_vel,_,goal=car.move(x_in_bound, vel_out_right_bound, action)    \n",
    "    if my_vel>=0.07:\n",
    "        if code_vel==0.07:\n",
    "            print('velocity right boundery confirmed')\n",
    "        else:\n",
    "            print('velocity right boundery not works')\n",
    "    else:\n",
    "        print(\"try again\")   \n",
    "\n",
    "boundry_check()"
   ]
  },
  {
   "cell_type": "code",
   "execution_count": 4,
   "metadata": {},
   "outputs": [
    {
     "name": "stdout",
     "output_type": "stream",
     "text": [
      "episode length =  3310\n"
     ]
    }
   ],
   "source": [
    "#this function creates a random episode\n",
    "def random_():\n",
    "    pos=0.2*np.random.rand()-0.6 #[-0.6,-0.4)\n",
    "    vel=0\n",
    "    car = MountainCar()\n",
    "    t = 0\n",
    "    pos_arr=np.empty(0,dtype=np.float16)\n",
    "    vel_arr=np.empty(0,dtype=np.float16)\n",
    "\n",
    "    goal_reached=False\n",
    "    while  not goal_reached:\n",
    "        t +=1\n",
    "        pos, vel, _, goal_reached = car.move(pos, vel, np.random.choice([-1,0,1]))\n",
    "        pos_arr=np.append(pos_arr,pos)\n",
    "        vel_arr=np.append(vel_arr,vel)\n",
    "        if goal_reached:\n",
    "            print ('episode length = ',t)\n",
    "            \n",
    "    return pos_arr , vel_arr\n",
    "            \n",
    "x, vel=random_()\n",
    "\n"
   ]
  },
  {
   "cell_type": "markdown",
   "metadata": {},
   "source": [
    "2. Use the Pygame library to develop a simple function that animates a given episode/trajectory. The equation for the mountain is $y = 0.45\\sin(3x) + 0.55$. Use a randomly generated episode from the function you developed above and pass it to your animation function, then plot the results."
   ]
  },
  {
   "cell_type": "code",
   "execution_count": 5,
   "metadata": {},
   "outputs": [],
   "source": [
    "def y_x(x):\n",
    "    y=0.45*np.sin(3*x)+0.55\n",
    "    return y \n",
    "y=y_x(x)"
   ]
  },
  {
   "cell_type": "code",
   "execution_count": 6,
   "metadata": {},
   "outputs": [],
   "source": [
    "\n",
    "\n",
    "def animation_function(x_car,y_car,r):\n",
    "    pg.init()\n",
    "    scale=300\n",
    "    win_x = 600\n",
    "    win_y = 300\n",
    "    x_car*=scale\n",
    "    x_car+=405\n",
    "    y_car*=-scale\n",
    "    y_car+=win_y\n",
    "    x_arr= np.linspace(-1.2, 0.5, 511)\n",
    "    y_arr=np.empty(0,dtype=np.int8)\n",
    "    y_arr=y_x(x_arr)\n",
    "    y_screen=-scale*y_arr+win_y\n",
    "    x_screen = np.linspace(45, 555, 511)\n",
    "    win = pg.display.set_mode((win_x, win_y))\n",
    "    clock = pg.time.Clock()\n",
    "    win.fill((0, 0, 0))\n",
    "    for i in range(len(x_arr)):\n",
    "        pg.gfxdraw.pixel(win,int(x_screen[i]),int(y_screen[i]),(255,255,255))\n",
    "    pg.display.update()\n",
    "    for i in range(len(x_car)):\n",
    "        for event in pg.event.get():\n",
    "            if event.type == pg.QUIT:\n",
    "                pg.quit()\n",
    "        clock.tick(r)\n",
    "        win.fill((0, 0, 0))\n",
    "        for j in range(len(x_arr)):\n",
    "            pg.gfxdraw.pixel(win,int(x_screen[j]),int(y_screen[j]),(0,255,0))\n",
    "        pg.draw.rect(win,(255,255,0),(x_car[i]-10, y_car[i]-5, 20, 10))\n",
    "        pg.display.update()\n",
    "    pg.quit()\n",
    "\n"
   ]
  },
  {
   "cell_type": "code",
   "execution_count": null,
   "metadata": {},
   "outputs": [],
   "source": [
    "animation_function(x,y,1000)"
   ]
  },
  {
   "cell_type": "markdown",
   "metadata": {},
   "source": [
    "## Part II\n",
    "\n",
    "Develop a function approximation procedure based on either **Polynomials** or **Fourier basis** (recommended). Given the current $\\bar{w}$, the developed function approximation method should return the value for each specific state."
   ]
  },
  {
   "cell_type": "code",
   "execution_count": 7,
   "metadata": {},
   "outputs": [],
   "source": [
    "# Your code here\n",
    "\n",
    "#this function scales states\n",
    "def scale(state):\n",
    "    a=np.array([(state[0]+1.2)/1.7,(state[1]+0.07)/0.14])\n",
    "    return a\n",
    "\n",
    "#this function create c matrix\n",
    "def create_c(k,n):\n",
    "    c=[[] for j in range(k)]\n",
    "    for i in range(k):\n",
    "        for j in range(int(np.power(n+1,i))):\n",
    "            for p in range(n+1):\n",
    "                for r in range(int(np.power(n+1,k-i-1))):\n",
    "                    c[i].append(p)\n",
    "    c=np.array(c,dtype=np.int8)\n",
    "    return c\n",
    "#This function creates specific alpha for each feature\n",
    "def create_alpha(k,n,alpha,c):\n",
    "    alpha_vector=[]\n",
    "    for i in range(int(np.power(n+1,k))):\n",
    "        sum_=0\n",
    "        for j in range(k):\n",
    "            sum_+=np.power(c[j][i],2)\n",
    "        if sum_==0:\n",
    "            alpha_vector.append(alpha)\n",
    "        else:\n",
    "            alpha_vector.append(alpha/np.sqrt(sum_))\n",
    "    return alpha_vector\n",
    "\n",
    "\n",
    "#In the create_x_i(s,c) function, I created $X_i(.,s)$. So when I need $q(s,a,w)$, I use $w(a)*X_i(.,s)$\n",
    "def create_x_i(s,c): \n",
    "    state=scale(s)\n",
    "    k=len(state)\n",
    "    n=int(np.power(len(c[0]),1/k)-1)\n",
    "    x_i=np.empty(0)\n",
    "    for i in range(int(np.power(n+1,k))):\n",
    "        angle=0\n",
    "        for j in range(k):\n",
    "            angle +=np.pi*state[j]*c[j][i]\n",
    "        x_i=np.append(x_i,np.cos(angle))\n",
    "    return x_i\n"
   ]
  },
  {
   "cell_type": "markdown",
   "metadata": {},
   "source": [
    "In the create_x_i(s,c) function, I created $X_i(.,s)$. So when I need $q(s,a,w)$, I use $w(a)*X_i(.,s)$ "
   ]
  },
  {
   "cell_type": "markdown",
   "metadata": {},
   "source": [
    "## Part III\n",
    "\n",
    "1. Implement the **Episodic Semi-gradient $n$-step SARSA** (pp. 247)."
   ]
  },
  {
   "cell_type": "code",
   "execution_count": 9,
   "metadata": {},
   "outputs": [],
   "source": [
    "def Episodic_Semi_gradient_n_step_SARSA(n,alpha,n_order,gamma,epsilon):\n",
    "    k=2 \n",
    "    number_of_actions=3\n",
    "    w=np.zeros((number_of_actions,int(np.power(n_order+1,k))))\n",
    "    act_vector=[-1,0,1]\n",
    "    c=create_c(k,n_order)\n",
    "    alpha_arr=create_alpha(k,n_order,alpha,c)\n",
    "    episode=0\n",
    "    step=np.empty(0)\n",
    "    while episode!=200:\n",
    "        episode+=1\n",
    "        if episode>1:\n",
    "            epsilon=epsilon*0.1\n",
    "        car1 = MountainCar()\n",
    "        t=0\n",
    "        s=np.zeros((1,2))\n",
    "        s[0]=[(np.random.rand()*0.2)-0.6,0]\n",
    "        action=np.empty(0,dtype=np.int8)\n",
    "        x_i_s=create_x_i(s[t],c)        \n",
    "        left_value=np.dot(w[0],x_i_s)\n",
    "        stop_value=np.dot(w[1],x_i_s)\n",
    "        right_value=np.dot(w[2],x_i_s)\n",
    "        q_all_action=[left_value,stop_value,right_value]\n",
    "        if np.random.rand(1)> epsilon:\n",
    "            max_list_index=np.argwhere(q_all_action == np.amax(q_all_action))\n",
    "            first_action=act_vector[np.random.choice(max_list_index.flatten().tolist())]\n",
    "        else:\n",
    "            first_action=np.random.choice(act_vector)\n",
    "        action=np.append(action,first_action)\n",
    "        reward=np.array(0)\n",
    "        T=np.inf\n",
    "        loop=True\n",
    "        time_counter=1\n",
    "        while loop:\n",
    "            if t<T:\n",
    "                next_pos, next_vel, r_next, goal_reached = car1.move(s[t][0], s[t][1], action[t])                \n",
    "                reward=np.append(reward,r_next)\n",
    "                s=np.append(s,[[next_pos,next_vel]],axis=0)\n",
    "\n",
    "                if goal_reached:\n",
    "                    T=t+1\n",
    "                else:\n",
    "                    next_t=t+1\n",
    "                    x_i_s=create_x_i(s[next_t],c)\n",
    "                    left_value=np.dot(w[0],x_i_s)\n",
    "                    stop_value=np.dot(w[1],x_i_s)\n",
    "                    right_value=np.dot(w[2],x_i_s)\n",
    "                    q_all_action=[left_value,stop_value,right_value]\n",
    "                    if np.random.rand(1)> epsilon:\n",
    "                        max_list_index=np.argwhere(q_all_action == np.amax(q_all_action))\n",
    "                        next_action=act_vector[np.random.choice(max_list_index.flatten().tolist())]\n",
    "                    else:\n",
    "                        next_action=np.random.choice(act_vector)\n",
    "                    action=np.append(action,next_action)\n",
    "            taw=t-n+1\n",
    "            if taw>=0:\n",
    "                G=0\n",
    "                for i in range(taw+1,1+min(taw+n,T)):\n",
    "                    G+=np.power(gamma,i-taw-1)*reward[i]\n",
    "                if taw+n <T:\n",
    "                    x_i_s=create_x_i(s[taw+n],c)\n",
    "                    q_=np.dot(w[action[taw+n]+1],x_i_s)\n",
    "                    G+=np.power(gamma,n)*q_\n",
    "                x_i_s=create_x_i(s[taw],c)\n",
    "                q=np.dot(w[action[taw]+1],x_i_s)\n",
    "                w[action[taw]+1]+=(G-q)*np.multiply(alpha_arr,x_i_s)\n",
    "            t+=1\n",
    "            if taw==T-1:\n",
    "                loop=False\n",
    "        step=np.append(step,T)\n",
    "    return step , s \n",
    "            \n"
   ]
  },
  {
   "cell_type": "markdown",
   "metadata": {},
   "source": [
    "2. Use the algorithm to learn the Mountain Car task with $n \\in \\{1, 8, 16\\}$. Tune the step-size parameter ($\\alpha$), select a proper Function Approximation order, discount factor ($\\gamma$), exploration probability ($\\varepsilon$). Plot step-per-episode (in log scale) vs. number of episodes. This plot should be averaged over 50-100 runs.    "
   ]
  },
  {
   "cell_type": "markdown",
   "metadata": {},
   "source": [
    "# Do not run this cell again"
   ]
  },
  {
   "cell_type": "code",
   "execution_count": 12,
   "metadata": {},
   "outputs": [
    {
     "name": "stdout",
     "output_type": "stream",
     "text": [
      "Stored 'ave1' (ndarray)\n",
      "Stored 'ave8' (ndarray)\n",
      "Stored 'ave16' (ndarray)\n",
      "Stored 'ave1_05' (ndarray)\n",
      "Stored 'ave1_005' (ndarray)\n",
      "Stored 'states1' (ndarray)\n",
      "Stored 'states8' (ndarray)\n",
      "Stored 'states16' (ndarray)\n"
     ]
    }
   ],
   "source": [
    "# Your code here\n",
    "run_number=50\n",
    "number_of_episodes=200\n",
    "steps_1=np.empty((0,number_of_episodes))\n",
    "steps_1_05=np.empty((0,number_of_episodes))\n",
    "steps_1_005=np.empty((0,number_of_episodes))\n",
    "steps_8=np.empty((0,number_of_episodes))\n",
    "steps_16=np.empty((0,number_of_episodes))\n",
    "\n",
    "\n",
    "\n",
    "for i in range(run_number):\n",
    "    step1,states1=Episodic_Semi_gradient_n_step_SARSA(1,0.01,3,1,0.1)\n",
    "    step1_05,states1_05=Episodic_Semi_gradient_n_step_SARSA(1,0.05,3,1,0.1)\n",
    "    step1_005,states1_005=Episodic_Semi_gradient_n_step_SARSA(1,0.005,3,1,0.1)\n",
    "    step8,states8=Episodic_Semi_gradient_n_step_SARSA(8,0.01,3,1,0.1)\n",
    "    step16,states16=Episodic_Semi_gradient_n_step_SARSA(16,0.01,3,1,0.1)\n",
    "    steps_1=np.append(steps_1,np.array([step1]),axis=0)\n",
    "    steps_1_05=np.append(steps_1_05,np.array([step1_05]),axis=0)\n",
    "    steps_1_005=np.append(steps_1_005,np.array([step1_005]),axis=0)\n",
    "    steps_8=np.append(steps_8,np.array([step8]),axis=0)\n",
    "    steps_16=np.append(steps_16,np.array([step16]),axis=0)\n",
    "\n",
    "    \n",
    "ave1=steps_1.mean(axis=0)\n",
    "ave8=steps_8.mean(axis=0)\n",
    "ave16=steps_16.mean(axis=0)    \n",
    "\n",
    "ave1_05=steps_1_05.mean(axis=0)\n",
    "ave1_005=steps_1_005.mean(axis=0)\n",
    "\n",
    "%store ave1\n",
    "%store ave8\n",
    "%store ave16\n",
    "%store ave1_05\n",
    "%store ave1_005\n",
    "\n",
    "%store states1\n",
    "%store states8\n",
    "%store states16"
   ]
  },
  {
   "cell_type": "markdown",
   "metadata": {},
   "source": [
    "# Run this cell to restore the values"
   ]
  },
  {
   "cell_type": "code",
   "execution_count": 13,
   "metadata": {},
   "outputs": [],
   "source": [
    "%store -r ave1\n",
    "%store -r ave8\n",
    "%store -r ave16\n",
    "%store -r ave1_05\n",
    "%store -r ave1_005\n",
    "\n",
    "%store -r states1\n",
    "%store -r states8\n",
    "%store -r states16"
   ]
  },
  {
   "cell_type": "code",
   "execution_count": 14,
   "metadata": {},
   "outputs": [
    {
     "data": {
      "text/plain": [
       "<matplotlib.legend.Legend at 0x7f614d9c4b38>"
      ]
     },
     "execution_count": 14,
     "metadata": {},
     "output_type": "execute_result"
    },
    {
     "data": {
      "image/png": "[encoded data removed]",
      "text/plain": [
       "<Figure size 432x288 with 1 Axes>"
      ]
     },
     "metadata": {
      "needs_background": "light"
     },
     "output_type": "display_data"
    }
   ],
   "source": [
    "plt.plot(ave1,label='n=1')\n",
    "plt.plot(ave8,label='n=8')\n",
    "plt.plot(ave16,label='n=16')\n",
    "plt.xlabel(\"Episode\")\n",
    "plt.ylabel(\"Steps per episode\")\n",
    "plt.yscale(\"log\")\n",
    "plt.legend()"
   ]
  },
  {
   "cell_type": "code",
   "execution_count": 15,
   "metadata": {},
   "outputs": [
    {
     "data": {
      "text/plain": [
       "<matplotlib.legend.Legend at 0x7f6147157da0>"
      ]
     },
     "execution_count": 15,
     "metadata": {},
     "output_type": "execute_result"
    },
    {
     "data": {
      "image/png": "[encoded data removed]",
      "text/plain": [
       "<Figure size 432x288 with 1 Axes>"
      ]
     },
     "metadata": {
      "needs_background": "light"
     },
     "output_type": "display_data"
    }
   ],
   "source": [
    "\n",
    "    \n",
    "\n",
    "plt.plot(ave1,label='n=1 alpha=0.01')\n",
    "plt.plot(ave1_05,label='n=1 alpha=0.05')\n",
    "plt.plot(ave1_005,label='n=1 alpha=0.005')\n",
    "plt.xlabel(\"Episode\")\n",
    "plt.ylabel(\"Steps per episode\")\n",
    "plt.yscale(\"log\")\n",
    "plt.legend()"
   ]
  },
  {
   "cell_type": "markdown",
   "metadata": {},
   "source": [
    "3. Show an animation of the task for each $n$."
   ]
  },
  {
   "cell_type": "code",
   "execution_count": 16,
   "metadata": {},
   "outputs": [],
   "source": [
    "# Your code here\n",
    "\n",
    "x1=np.empty(0)\n",
    "y1=np.empty(0)\n",
    "x8=np.empty(0)\n",
    "y8=np.empty(0)\n",
    "x16=np.empty(0)\n",
    "y16=np.empty(0)\n",
    "for i in range(len(states1)):\n",
    "    x1=np.append(x1,states1[i][0])\n",
    "    y1=np.append(y1,y_x(states1[i][0]))\n",
    "for i in range(len(states8)):\n",
    "    x8=np.append(x8,states8[i][0])\n",
    "    y8=np.append(y8,y_x(states8[i][0]))\n",
    "for i in range(len(states16)):\n",
    "    x16=np.append(x16,states16[i][0])\n",
    "    y16=np.append(y16,y_x(states16[i][0]))\n",
    "animation_function(x1,y1,50)#animation for n=1 last episode\n",
    "animation_function(x8,y8,50)#animation for n=8 last episode\n",
    "animation_function(x16,y16,50)#animation for n=16 last episode\n"
   ]
  },
  {
   "cell_type": "markdown",
   "metadata": {},
   "source": [
    "4. Which value of $n$ results in faster learning? Why?\n",
    "> Answer\n",
    "as you can see in the secound plot, learning speed depends on other parameters like alpha. Acording to the second plot, for the n=1, alpha=0.05 works better at the beginig , but as we go forward trough deep episodes, alpha=0.005 shows better results. If we assign reasonable values to all other parameters(e.g. alpha=0.01), n=16 results in faster learnig at the very first. "
   ]
  },
  {
   "cell_type": "code",
   "execution_count": null,
   "metadata": {},
   "outputs": [],
   "source": []
  }
 ],
 "metadata": {
  "kernelspec": {
   "display_name": "Python 3",
   "language": "python",
   "name": "python3"
  },
  "language_info": {
   "codemirror_mode": {
    "name": "ipython",
    "version": 3
   },
   "file_extension": ".py",
   "mimetype": "text/x-python",
   "name": "python",
   "nbconvert_exporter": "python",
   "pygments_lexer": "ipython3",
   "version": "3.6.9"
  }
 },
 "nbformat": 4,
 "nbformat_minor": 2
}
