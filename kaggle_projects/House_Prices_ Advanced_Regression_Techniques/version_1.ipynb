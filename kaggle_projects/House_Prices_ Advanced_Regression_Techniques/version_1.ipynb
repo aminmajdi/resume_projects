{
 "cells": [
  {
   "cell_type": "code",
   "execution_count": 1,
   "id": "30c7bcdd",
   "metadata": {
    "_cell_guid": "b1076dfc-b9ad-4769-8c92-a6c4dae69d19",
    "_uuid": "8f2839f25d086af736a60e9eeb907d3b93b6e0e5",
    "execution": {
     "iopub.execute_input": "2023-03-13T16:57:00.586362Z",
     "iopub.status.busy": "2023-03-13T16:57:00.585549Z",
     "iopub.status.idle": "2023-03-13T16:57:00.601857Z",
     "shell.execute_reply": "2023-03-13T16:57:00.600624Z"
    },
    "papermill": {
     "duration": 0.027048,
     "end_time": "2023-03-13T16:57:00.604700",
     "exception": false,
     "start_time": "2023-03-13T16:57:00.577652",
     "status": "completed"
    },
    "tags": []
   },
   "outputs": [
    {
     "name": "stdout",
     "output_type": "stream",
     "text": [
      "/kaggle/input/house-prices-advanced-regression-techniques/sample_submission.csv\n",
      "/kaggle/input/house-prices-advanced-regression-techniques/data_description.txt\n",
      "/kaggle/input/house-prices-advanced-regression-techniques/train.csv\n",
      "/kaggle/input/house-prices-advanced-regression-techniques/test.csv\n"
     ]
    }
   ],
   "source": [
    "# This Python 3 environment comes with many helpful analytics libraries installed\n",
    "# It is defined by the kaggle/python Docker image: https://github.com/kaggle/docker-python\n",
    "# For example, here's several helpful packages to load\n",
    "\n",
    "import numpy as np # linear algebra\n",
    "import pandas as pd # data processing, CSV file I/O (e.g. pd.read_csv)\n",
    "\n",
    "# Input data files are available in the read-only \"../input/\" directory\n",
    "# For example, running this (by clicking run or pressing Shift+Enter) will list all files under the input directory\n",
    "\n",
    "import os\n",
    "for dirname, _, filenames in os.walk('/kaggle/input'):\n",
    "    for filename in filenames:\n",
    "        print(os.path.join(dirname, filename))\n",
    "#/kaggle/input/house-prices-advanced-regression-techniques\n",
    "#import os\n",
    "#if not os.path.exists(\"../input/train.csv\"):\n",
    "    #os.symlink('/kaggle/input/house-prices-advanced-regression-techniques/train.csv', \"../input/train.csv\")  \n",
    "    #os.symlink(\"/kaggle/input/house-prices-advanced-regression-techniques/test.csv\", \"../input/test.csv\") \n",
    "\n",
    "# You can write up to 20GB to the current directory (/kaggle/working/) that gets preserved as output when you create a version using \"Save & Run All\" \n",
    "# You can also write temporary files to /kaggle/temp/, but they won't be saved outside of the current session"
   ]
  },
  {
   "cell_type": "code",
   "execution_count": 2,
   "id": "53a93b74",
   "metadata": {
    "execution": {
     "iopub.execute_input": "2023-03-13T16:57:00.617711Z",
     "iopub.status.busy": "2023-03-13T16:57:00.616975Z",
     "iopub.status.idle": "2023-03-13T16:57:02.117398Z",
     "shell.execute_reply": "2023-03-13T16:57:02.116204Z"
    },
    "papermill": {
     "duration": 1.510137,
     "end_time": "2023-03-13T16:57:02.120287",
     "exception": false,
     "start_time": "2023-03-13T16:57:00.610150",
     "status": "completed"
    },
    "tags": []
   },
   "outputs": [],
   "source": [
    "# Import helpful libraries\n",
    "import catboost\n",
    "import pandas as pd\n",
    "#from sklearn.ensemble import RandomForestRegressor\n",
    "#from sklearn.metrics import mean_absolute_error\n",
    "from sklearn.model_selection import train_test_split\n",
    "#from xgboost import XGBRegressor , XGBRFRegressor\n",
    "import numpy as np\n",
    "# Load the data, and separate the target\n",
    "iowa_file_path = '/kaggle/input/house-prices-advanced-regression-techniques/train.csv'\n",
    "home_data = pd.read_csv(iowa_file_path)\n",
    "#print(home_data.shape)\n",
    "#home_data.SalePrice.quantile(.25)"
   ]
  },
  {
   "cell_type": "code",
   "execution_count": 3,
   "id": "5b9de9a1",
   "metadata": {
    "execution": {
     "iopub.execute_input": "2023-03-13T16:57:02.132808Z",
     "iopub.status.busy": "2023-03-13T16:57:02.132304Z",
     "iopub.status.idle": "2023-03-13T16:57:02.136860Z",
     "shell.execute_reply": "2023-03-13T16:57:02.135955Z"
    },
    "papermill": {
     "duration": 0.013528,
     "end_time": "2023-03-13T16:57:02.139190",
     "exception": false,
     "start_time": "2023-03-13T16:57:02.125662",
     "status": "completed"
    },
    "tags": []
   },
   "outputs": [],
   "source": [
    "#home_data.columns"
   ]
  },
  {
   "cell_type": "code",
   "execution_count": 4,
   "id": "358cb257",
   "metadata": {
    "execution": {
     "iopub.execute_input": "2023-03-13T16:57:02.152402Z",
     "iopub.status.busy": "2023-03-13T16:57:02.151776Z",
     "iopub.status.idle": "2023-03-13T16:57:02.157615Z",
     "shell.execute_reply": "2023-03-13T16:57:02.156576Z"
    },
    "papermill": {
     "duration": 0.015734,
     "end_time": "2023-03-13T16:57:02.160322",
     "exception": false,
     "start_time": "2023-03-13T16:57:02.144588",
     "status": "completed"
    },
    "tags": []
   },
   "outputs": [],
   "source": [
    "def null_in_columns(df):\n",
    "    for column in df:\n",
    "        print(f'{column}: {df[column].isna().sum()}')\n",
    "\n",
    "def print_unique_col_values(df):\n",
    "       for column in df:\n",
    "            if df[column].dtypes=='object':\n",
    "                print(f'{column}: {df[column].unique()}') \n",
    "#print_unique_col_values(home_data)"
   ]
  },
  {
   "cell_type": "code",
   "execution_count": 5,
   "id": "2b0c1b4d",
   "metadata": {
    "execution": {
     "iopub.execute_input": "2023-03-13T16:57:02.172523Z",
     "iopub.status.busy": "2023-03-13T16:57:02.172110Z",
     "iopub.status.idle": "2023-03-13T16:57:02.196659Z",
     "shell.execute_reply": "2023-03-13T16:57:02.195423Z"
    },
    "papermill": {
     "duration": 0.033957,
     "end_time": "2023-03-13T16:57:02.199596",
     "exception": false,
     "start_time": "2023-03-13T16:57:02.165639",
     "status": "completed"
    },
    "tags": []
   },
   "outputs": [
    {
     "name": "stdout",
     "output_type": "stream",
     "text": [
      "1481.5 18483.1\n"
     ]
    }
   ],
   "source": [
    "'''\n",
    "IQR outlier removal\n",
    "'''\n",
    "IQR_LotArea = home_data.LotArea.quantile(.75) - home_data.LotArea.quantile(.25)\n",
    "LotArea_low = home_data.LotArea.quantile(.25) - 1.5*IQR_LotArea\n",
    "LotArea_high = home_data.LotArea.quantile(.75) + 1.7*IQR_LotArea\n",
    "print(LotArea_low,LotArea_high)\n",
    "out=home_data[(home_data.LotArea>LotArea_high)|(home_data.LotArea<LotArea_low)]\n",
    "out.shape\n",
    "\n",
    "#outlier removed\n",
    "h_data_clean = home_data[(home_data.LotArea<=LotArea_high)&(home_data.LotArea>=LotArea_low)]"
   ]
  },
  {
   "cell_type": "code",
   "execution_count": 6,
   "id": "38239387",
   "metadata": {
    "execution": {
     "iopub.execute_input": "2023-03-13T16:57:02.212185Z",
     "iopub.status.busy": "2023-03-13T16:57:02.211799Z",
     "iopub.status.idle": "2023-03-13T16:57:02.223271Z",
     "shell.execute_reply": "2023-03-13T16:57:02.222000Z"
    },
    "papermill": {
     "duration": 0.020954,
     "end_time": "2023-03-13T16:57:02.226035",
     "exception": false,
     "start_time": "2023-03-13T16:57:02.205081",
     "status": "completed"
    },
    "tags": []
   },
   "outputs": [],
   "source": [
    "LOT_mean = home_data.groupby(['Neighborhood'],group_keys=True)[\"LotFrontage\"].mean()\n",
    "#LOT_mean[\"Blueste\"]\n",
    "\n"
   ]
  },
  {
   "cell_type": "code",
   "execution_count": 7,
   "id": "5b9bcf5e",
   "metadata": {
    "execution": {
     "iopub.execute_input": "2023-03-13T16:57:02.238662Z",
     "iopub.status.busy": "2023-03-13T16:57:02.237984Z",
     "iopub.status.idle": "2023-03-13T16:57:02.583838Z",
     "shell.execute_reply": "2023-03-13T16:57:02.582618Z"
    },
    "papermill": {
     "duration": 0.356358,
     "end_time": "2023-03-13T16:57:02.587640",
     "exception": false,
     "start_time": "2023-03-13T16:57:02.231282",
     "status": "completed"
    },
    "tags": []
   },
   "outputs": [
    {
     "name": "stderr",
     "output_type": "stream",
     "text": [
      "/opt/conda/lib/python3.7/site-packages/ipykernel_launcher.py:18: SettingWithCopyWarning: \n",
      "A value is trying to be set on a copy of a slice from a DataFrame\n",
      "\n",
      "See the caveats in the documentation: https://pandas.pydata.org/pandas-docs/stable/user_guide/indexing.html#returning-a-view-versus-a-copy\n",
      "/opt/conda/lib/python3.7/site-packages/ipykernel_launcher.py:21: SettingWithCopyWarning: \n",
      "A value is trying to be set on a copy of a slice from a DataFrame\n",
      "\n",
      "See the caveats in the documentation: https://pandas.pydata.org/pandas-docs/stable/user_guide/indexing.html#returning-a-view-versus-a-copy\n",
      "/opt/conda/lib/python3.7/site-packages/ipykernel_launcher.py:22: SettingWithCopyWarning: \n",
      "A value is trying to be set on a copy of a slice from a DataFrame\n",
      "\n",
      "See the caveats in the documentation: https://pandas.pydata.org/pandas-docs/stable/user_guide/indexing.html#returning-a-view-versus-a-copy\n",
      "/opt/conda/lib/python3.7/site-packages/ipykernel_launcher.py:23: SettingWithCopyWarning: \n",
      "A value is trying to be set on a copy of a slice from a DataFrame\n",
      "\n",
      "See the caveats in the documentation: https://pandas.pydata.org/pandas-docs/stable/user_guide/indexing.html#returning-a-view-versus-a-copy\n",
      "/opt/conda/lib/python3.7/site-packages/ipykernel_launcher.py:24: SettingWithCopyWarning: \n",
      "A value is trying to be set on a copy of a slice from a DataFrame\n",
      "\n",
      "See the caveats in the documentation: https://pandas.pydata.org/pandas-docs/stable/user_guide/indexing.html#returning-a-view-versus-a-copy\n",
      "/opt/conda/lib/python3.7/site-packages/ipykernel_launcher.py:25: SettingWithCopyWarning: \n",
      "A value is trying to be set on a copy of a slice from a DataFrame\n",
      "\n",
      "See the caveats in the documentation: https://pandas.pydata.org/pandas-docs/stable/user_guide/indexing.html#returning-a-view-versus-a-copy\n",
      "/opt/conda/lib/python3.7/site-packages/ipykernel_launcher.py:4: SettingWithCopyWarning: \n",
      "A value is trying to be set on a copy of a slice from a DataFrame\n",
      "\n",
      "See the caveats in the documentation: https://pandas.pydata.org/pandas-docs/stable/user_guide/indexing.html#returning-a-view-versus-a-copy\n",
      "  after removing the cwd from sys.path.\n",
      "/opt/conda/lib/python3.7/site-packages/ipykernel_launcher.py:5: SettingWithCopyWarning: \n",
      "A value is trying to be set on a copy of a slice from a DataFrame\n",
      "\n",
      "See the caveats in the documentation: https://pandas.pydata.org/pandas-docs/stable/user_guide/indexing.html#returning-a-view-versus-a-copy\n",
      "  \"\"\"\n",
      "/opt/conda/lib/python3.7/site-packages/ipykernel_launcher.py:40: SettingWithCopyWarning: \n",
      "A value is trying to be set on a copy of a slice from a DataFrame\n",
      "\n",
      "See the caveats in the documentation: https://pandas.pydata.org/pandas-docs/stable/user_guide/indexing.html#returning-a-view-versus-a-copy\n",
      "/opt/conda/lib/python3.7/site-packages/ipykernel_launcher.py:32: SettingWithCopyWarning: \n",
      "A value is trying to be set on a copy of a slice from a DataFrame\n",
      "\n",
      "See the caveats in the documentation: https://pandas.pydata.org/pandas-docs/stable/user_guide/indexing.html#returning-a-view-versus-a-copy\n",
      "/opt/conda/lib/python3.7/site-packages/ipykernel_launcher.py:33: SettingWithCopyWarning: \n",
      "A value is trying to be set on a copy of a slice from a DataFrame\n",
      "\n",
      "See the caveats in the documentation: https://pandas.pydata.org/pandas-docs/stable/user_guide/indexing.html#returning-a-view-versus-a-copy\n"
     ]
    }
   ],
   "source": [
    "for i in h_data_clean.index:\n",
    "    if  h_data_clean.MasVnrType[i]!=h_data_clean.MasVnrType[i]:\n",
    "        if  h_data_clean.MasVnrArea[i]!=h_data_clean.MasVnrArea[i]:\n",
    "            h_data_clean.MasVnrType[i] = \"None\"\n",
    "            h_data_clean.MasVnrArea[i] = 0\n",
    "        elif h_data_clean.MasVnrArea[i]==0: \n",
    "            h_data_clean.MasVnrType[i] = \"None\"\n",
    "        else:\n",
    "            h_data_clean.MasVnrType[i] = \"BrkCmn\"\n",
    "    # MasVnrArea\n",
    "    if  h_data_clean.MasVnrArea[i]!=h_data_clean.MasVnrArea[i]:\n",
    "        if h_data_clean.MasVnrType[i]==\"None\":\n",
    "            h_data_clean.MasVnrArea[i]= 0\n",
    "        else:\n",
    "            h_data_clean.MasVnrArea[i]= round(h_data_clean.MasVnrArea.mean())\n",
    "    #MasVnrType\n",
    "    if  h_data_clean.LotFrontage[i]!=h_data_clean.LotFrontage[i]:\n",
    "        h_data_clean.LotFrontage[i] = LOT_mean[h_data_clean.Neighborhood[i]]\n",
    "        \n",
    "    if h_data_clean.BsmtQual[i]!=h_data_clean.BsmtQual[i]:\n",
    "        h_data_clean.BsmtQual[i] = \"NA\"\n",
    "        h_data_clean.BsmtCond[i] = \"NA\"\n",
    "        h_data_clean.BsmtExposure[i] = \"NA\"\n",
    "        h_data_clean.BsmtFinType1[i] = \"NA\"\n",
    "        h_data_clean.BsmtFinType2[i] = \"NA\"\n",
    "    if h_data_clean.BsmtExposure[i]!=h_data_clean.BsmtExposure[i]:\n",
    "        if  h_data_clean.BsmtQual[i] == \"NA\":\n",
    "            h_data_clean.BsmtExposure[i] =\"NA\"\n",
    "            h_data_clean.BsmtFinType2[i] =\"NA\"\n",
    "            \n",
    "        else:\n",
    "            h_data_clean.BsmtExposure[i] =\"No\"\n",
    "            h_data_clean.BsmtFinType2[i] =\"ALQ\"\n",
    "    if h_data_clean.BsmtFinType2[i]!=h_data_clean.BsmtFinType2[i]:\n",
    "        if  h_data_clean.BsmtQual[i] == \"NA\":\n",
    "            h_data_clean.BsmtExposure[i] =\"NA\"\n",
    "            h_data_clean.BsmtFinType2[i] =\"NA\"\n",
    "            \n",
    "        else:\n",
    "            h_data_clean.BsmtFinType2[i] =\"ALQ\"\n",
    "    # MasVnrArea\n",
    "    "
   ]
  },
  {
   "cell_type": "code",
   "execution_count": 8,
   "id": "3de946d8",
   "metadata": {
    "execution": {
     "iopub.execute_input": "2023-03-13T16:57:02.600913Z",
     "iopub.status.busy": "2023-03-13T16:57:02.600496Z",
     "iopub.status.idle": "2023-03-13T16:57:02.614371Z",
     "shell.execute_reply": "2023-03-13T16:57:02.612723Z"
    },
    "papermill": {
     "duration": 0.023293,
     "end_time": "2023-03-13T16:57:02.616947",
     "exception": false,
     "start_time": "2023-03-13T16:57:02.593654",
     "status": "completed"
    },
    "tags": []
   },
   "outputs": [
    {
     "name": "stderr",
     "output_type": "stream",
     "text": [
      "/opt/conda/lib/python3.7/site-packages/pandas/core/frame.py:4913: SettingWithCopyWarning: \n",
      "A value is trying to be set on a copy of a slice from a DataFrame\n",
      "\n",
      "See the caveats in the documentation: https://pandas.pydata.org/pandas-docs/stable/user_guide/indexing.html#returning-a-view-versus-a-copy\n",
      "  errors=errors,\n"
     ]
    }
   ],
   "source": [
    "\n",
    "h_data_clean.drop([\"Alley\",\"PoolQC\",\"MiscFeature\",\"Fence\",\"GarageYrBlt\"],axis ='columns' ,inplace=True)"
   ]
  },
  {
   "cell_type": "code",
   "execution_count": 9,
   "id": "7f4a74c2",
   "metadata": {
    "execution": {
     "iopub.execute_input": "2023-03-13T16:57:02.630855Z",
     "iopub.status.busy": "2023-03-13T16:57:02.629509Z",
     "iopub.status.idle": "2023-03-13T16:57:02.650175Z",
     "shell.execute_reply": "2023-03-13T16:57:02.648298Z"
    },
    "papermill": {
     "duration": 0.030128,
     "end_time": "2023-03-13T16:57:02.652621",
     "exception": false,
     "start_time": "2023-03-13T16:57:02.622493",
     "status": "completed"
    },
    "tags": []
   },
   "outputs": [
    {
     "name": "stdout",
     "output_type": "stream",
     "text": [
      "70\n"
     ]
    },
    {
     "name": "stderr",
     "output_type": "stream",
     "text": [
      "/opt/conda/lib/python3.7/site-packages/ipykernel_launcher.py:23: SettingWithCopyWarning: \n",
      "A value is trying to be set on a copy of a slice from a DataFrame\n",
      "\n",
      "See the caveats in the documentation: https://pandas.pydata.org/pandas-docs/stable/user_guide/indexing.html#returning-a-view-versus-a-copy\n"
     ]
    },
    {
     "data": {
      "text/plain": [
       "array(['RH', 'RL', 'RM', 'C (all)', 'FV'], dtype=object)"
      ]
     },
     "execution_count": 9,
     "metadata": {},
     "output_type": "execute_result"
    }
   ],
   "source": [
    "print(round(h_data_clean.LotFrontage.mean()))\n",
    "h_data_clean = h_data_clean.fillna({\n",
    "    #\"LotFrontage\" : round(h_data_clean.LotFrontage.mean()),\n",
    "    \"MasVnrType\" : \"None\",\n",
    "    \"MasVnrArea\": 0 , #can be learned by ML it is related to the MasVnrType if not None\n",
    "    #\"BsmtQual\": \"NA\" ,# can check to see if there is basement then estimate something\n",
    "    'BsmtCond': \"TA\" ,\n",
    "    #'BsmtExposure': \"NA\" ,\n",
    "    #'BsmtFinType1': \"NA\" ,\n",
    "    #'BsmtFinType2': \"NA\" ,\n",
    "    'Electrical' : \"Mix\",\n",
    "    'FireplaceQu': \"NA\",\n",
    "    'GarageType': \"NA\",\n",
    "    #'GarageYrBlt':round(h_data_clean.GarageYrBlt.mean()),\n",
    "    'GarageFinish': \"NA\",\n",
    "    'GarageQual': \"NA\",\n",
    "    'GarageCond': \"NA\",\n",
    "    #'PoolQC': \"NA\",\n",
    "    #'Fence': \"NA\",\n",
    "    #'Alley': \"NA\",\n",
    "    #\"MiscFeature\": \"NA\"\n",
    "})\n",
    "h_data_clean[\"MSZoning\"][0] = \"RH\"\n",
    "h_data_clean.MSZoning.unique()"
   ]
  },
  {
   "cell_type": "code",
   "execution_count": 10,
   "id": "3f5b1ebe",
   "metadata": {
    "execution": {
     "iopub.execute_input": "2023-03-13T16:57:02.666005Z",
     "iopub.status.busy": "2023-03-13T16:57:02.665580Z",
     "iopub.status.idle": "2023-03-13T16:57:02.728838Z",
     "shell.execute_reply": "2023-03-13T16:57:02.727456Z"
    },
    "papermill": {
     "duration": 0.072992,
     "end_time": "2023-03-13T16:57:02.731412",
     "exception": false,
     "start_time": "2023-03-13T16:57:02.658420",
     "status": "completed"
    },
    "tags": []
   },
   "outputs": [
    {
     "name": "stdout",
     "output_type": "stream",
     "text": [
      "[]\n"
     ]
    }
   ],
   "source": [
    "from sklearn.preprocessing import LabelEncoder\n",
    "X = h_data_clean.drop([\"SalePrice\",\"Id\"],axis='columns')\n",
    "y = h_data_clean.SalePrice\n",
    "cols_with_text = [col for col in X.columns #search for col with missing data\n",
    "                     if pd.api.types.is_string_dtype(X[col].dtype)]\n",
    "le_dic={}\n",
    "for i in cols_with_text:\n",
    "    le=LabelEncoder()\n",
    "    #print(X[i].unique())\n",
    "    X[i] = le.fit_transform(X[i])\n",
    "    le_dic[i]=le\n",
    "\n",
    "cols_with_missing = [col for col in X.columns #search for col with missing data\n",
    "                     if X[col].isnull().any()]\n",
    "print(cols_with_missing)\n",
    "features = list(h_data_clean.keys()[:-1])"
   ]
  },
  {
   "cell_type": "code",
   "execution_count": 11,
   "id": "b269d8b9",
   "metadata": {
    "execution": {
     "iopub.execute_input": "2023-03-13T16:57:02.744796Z",
     "iopub.status.busy": "2023-03-13T16:57:02.744341Z",
     "iopub.status.idle": "2023-03-13T16:57:02.762120Z",
     "shell.execute_reply": "2023-03-13T16:57:02.760813Z"
    },
    "papermill": {
     "duration": 0.027533,
     "end_time": "2023-03-13T16:57:02.764790",
     "exception": false,
     "start_time": "2023-03-13T16:57:02.737257",
     "status": "completed"
    },
    "tags": []
   },
   "outputs": [
    {
     "data": {
      "text/plain": [
       "(1398, 74)"
      ]
     },
     "execution_count": 11,
     "metadata": {},
     "output_type": "execute_result"
    }
   ],
   "source": [
    "from sklearn.preprocessing import StandardScaler\n",
    "from sklearn.preprocessing import MinMaxScaler\n",
    "#scaler_x = StandardScaler()\n",
    "scaler_x = MinMaxScaler()\n",
    "X_scaled = scaler_x.fit_transform(X)\n",
    "#y_scaled = scaler_y.fit_transform(y.reshape(1, -1))\n",
    "X_scaled.shape"
   ]
  },
  {
   "cell_type": "code",
   "execution_count": 12,
   "id": "60a3f153",
   "metadata": {
    "execution": {
     "iopub.execute_input": "2023-03-13T16:57:02.778781Z",
     "iopub.status.busy": "2023-03-13T16:57:02.777878Z",
     "iopub.status.idle": "2023-03-13T16:57:05.260050Z",
     "shell.execute_reply": "2023-03-13T16:57:05.258696Z"
    },
    "papermill": {
     "duration": 2.492241,
     "end_time": "2023-03-13T16:57:05.262925",
     "exception": false,
     "start_time": "2023-03-13T16:57:02.770684",
     "status": "completed"
    },
    "tags": []
   },
   "outputs": [
    {
     "data": {
      "text/plain": [
       "<catboost.core.CatBoostRegressor at 0x7f6907297550>"
      ]
     },
     "execution_count": 12,
     "metadata": {},
     "output_type": "execute_result"
    }
   ],
   "source": [
    "rf_model_on_full_data = catboost.CatBoostRegressor(depth=7,silent = True, iterations=500, learning_rate=0.1)\n",
    "rf_model_on_full_data.fit(X_scaled,y)\n"
   ]
  },
  {
   "cell_type": "code",
   "execution_count": 13,
   "id": "26864185",
   "metadata": {
    "execution": {
     "iopub.execute_input": "2023-03-13T16:57:05.277182Z",
     "iopub.status.busy": "2023-03-13T16:57:05.276757Z",
     "iopub.status.idle": "2023-03-13T16:57:05.751855Z",
     "shell.execute_reply": "2023-03-13T16:57:05.750284Z"
    },
    "papermill": {
     "duration": 0.485636,
     "end_time": "2023-03-13T16:57:05.754849",
     "exception": false,
     "start_time": "2023-03-13T16:57:05.269213",
     "status": "completed"
    },
    "tags": []
   },
   "outputs": [
    {
     "name": "stderr",
     "output_type": "stream",
     "text": [
      "/opt/conda/lib/python3.7/site-packages/ipykernel_launcher.py:27: SettingWithCopyWarning: \n",
      "A value is trying to be set on a copy of a slice from a DataFrame\n",
      "\n",
      "See the caveats in the documentation: https://pandas.pydata.org/pandas-docs/stable/user_guide/indexing.html#returning-a-view-versus-a-copy\n",
      "/opt/conda/lib/python3.7/site-packages/ipykernel_launcher.py:41: SettingWithCopyWarning: \n",
      "A value is trying to be set on a copy of a slice from a DataFrame\n",
      "\n",
      "See the caveats in the documentation: https://pandas.pydata.org/pandas-docs/stable/user_guide/indexing.html#returning-a-view-versus-a-copy\n",
      "/opt/conda/lib/python3.7/site-packages/ipykernel_launcher.py:42: SettingWithCopyWarning: \n",
      "A value is trying to be set on a copy of a slice from a DataFrame\n",
      "\n",
      "See the caveats in the documentation: https://pandas.pydata.org/pandas-docs/stable/user_guide/indexing.html#returning-a-view-versus-a-copy\n",
      "/opt/conda/lib/python3.7/site-packages/ipykernel_launcher.py:30: SettingWithCopyWarning: \n",
      "A value is trying to be set on a copy of a slice from a DataFrame\n",
      "\n",
      "See the caveats in the documentation: https://pandas.pydata.org/pandas-docs/stable/user_guide/indexing.html#returning-a-view-versus-a-copy\n",
      "/opt/conda/lib/python3.7/site-packages/ipykernel_launcher.py:31: SettingWithCopyWarning: \n",
      "A value is trying to be set on a copy of a slice from a DataFrame\n",
      "\n",
      "See the caveats in the documentation: https://pandas.pydata.org/pandas-docs/stable/user_guide/indexing.html#returning-a-view-versus-a-copy\n",
      "/opt/conda/lib/python3.7/site-packages/ipykernel_launcher.py:32: SettingWithCopyWarning: \n",
      "A value is trying to be set on a copy of a slice from a DataFrame\n",
      "\n",
      "See the caveats in the documentation: https://pandas.pydata.org/pandas-docs/stable/user_guide/indexing.html#returning-a-view-versus-a-copy\n",
      "/opt/conda/lib/python3.7/site-packages/ipykernel_launcher.py:33: SettingWithCopyWarning: \n",
      "A value is trying to be set on a copy of a slice from a DataFrame\n",
      "\n",
      "See the caveats in the documentation: https://pandas.pydata.org/pandas-docs/stable/user_guide/indexing.html#returning-a-view-versus-a-copy\n",
      "/opt/conda/lib/python3.7/site-packages/ipykernel_launcher.py:34: SettingWithCopyWarning: \n",
      "A value is trying to be set on a copy of a slice from a DataFrame\n",
      "\n",
      "See the caveats in the documentation: https://pandas.pydata.org/pandas-docs/stable/user_guide/indexing.html#returning-a-view-versus-a-copy\n",
      "/opt/conda/lib/python3.7/site-packages/ipykernel_launcher.py:13: SettingWithCopyWarning: \n",
      "A value is trying to be set on a copy of a slice from a DataFrame\n",
      "\n",
      "See the caveats in the documentation: https://pandas.pydata.org/pandas-docs/stable/user_guide/indexing.html#returning-a-view-versus-a-copy\n",
      "  del sys.path[0]\n",
      "/opt/conda/lib/python3.7/site-packages/ipykernel_launcher.py:14: SettingWithCopyWarning: \n",
      "A value is trying to be set on a copy of a slice from a DataFrame\n",
      "\n",
      "See the caveats in the documentation: https://pandas.pydata.org/pandas-docs/stable/user_guide/indexing.html#returning-a-view-versus-a-copy\n",
      "  \n",
      "/opt/conda/lib/python3.7/site-packages/ipykernel_launcher.py:18: SettingWithCopyWarning: \n",
      "A value is trying to be set on a copy of a slice from a DataFrame\n",
      "\n",
      "See the caveats in the documentation: https://pandas.pydata.org/pandas-docs/stable/user_guide/indexing.html#returning-a-view-versus-a-copy\n"
     ]
    }
   ],
   "source": [
    "test_data_path = '/kaggle/input/house-prices-advanced-regression-techniques/test.csv'\n",
    "\n",
    "# read test data file using pandas\n",
    "test_data = pd.read_csv(test_data_path)\n",
    "col =X.columns\n",
    "# create test_X which comes from test_data but includes only the columns you used for prediction.\n",
    "# The list of columns is stored in a variable called features\n",
    "#print(col)\n",
    "test_X =test_data[col]\n",
    "for i in test_X.index:\n",
    "    if  test_X.MasVnrType[i]!=test_X.MasVnrType[i]:\n",
    "        if  test_X.MasVnrArea[i]!=test_X.MasVnrArea[i]:\n",
    "            test_X.MasVnrType[i] = \"None\"\n",
    "            test_X.MasVnrArea[i] = 0\n",
    "        elif test_X.MasVnrArea[i]==0: \n",
    "            test_X.MasVnrType[i] = \"None\"\n",
    "        else:\n",
    "            test_X.MasVnrType[i] = \"BrkCmn\"\n",
    "    # MasVnrArea\n",
    "    if  test_X.MasVnrArea[i]!=test_X.MasVnrArea[i]:\n",
    "        if test_X.MasVnrType[i]==\"None\":\n",
    "            test_X.MasVnrArea[i]= 0\n",
    "        else:\n",
    "            test_X.MasVnrArea[i]= round(test_X.MasVnrArea.mean())\n",
    "    #MasVnrType\n",
    "    if  test_X.LotFrontage[i]!=test_X.LotFrontage[i]:\n",
    "        test_X.LotFrontage[i] = LOT_mean[test_X.Neighborhood[i]]\n",
    "        \n",
    "    if test_X.BsmtQual[i]!=test_X.BsmtQual[i]:\n",
    "        test_X.BsmtQual[i] = \"NA\"\n",
    "        test_X.BsmtCond[i] = \"NA\"\n",
    "        test_X.BsmtExposure[i] = \"NA\"\n",
    "        test_X.BsmtFinType1[i] = \"NA\"\n",
    "        test_X.BsmtFinType2[i] = \"NA\"\n",
    "    if test_X.BsmtExposure[i]!=test_X.BsmtExposure[i]:\n",
    "        if  test_X.BsmtQual[i] == \"NA\":\n",
    "            test_X.BsmtExposure[i] =\"NA\"\n",
    "            test_X.BsmtFinType2[i] =\"NA\"\n",
    "            \n",
    "        else:\n",
    "            test_X.BsmtExposure[i] =\"No\"\n",
    "            test_X.BsmtFinType2[i] =\"ALQ\"\n",
    "    if test_X.BsmtFinType2[i]!=test_X.BsmtFinType2[i]:\n",
    "        if  test_X.BsmtQual[i] == \"NA\":\n",
    "            test_X.BsmtExposure[i] =\"NA\"\n",
    "            test_X.BsmtFinType2[i] =\"NA\"\n",
    "            \n",
    "        else:\n",
    "            test_X.BsmtFinType2[i] =\"ALQ\"\n",
    "    # MasVnrArea\n",
    "#test_X.drop([\"Alley\",\"PoolQC\",\"MiscFeature\",\"Fence\",\"GarageYrBlt\"],axis ='columns' ,inplace=True)\n",
    "test_X = test_X.fillna({\n",
    "    \"Functional\" : \"Typ\",\n",
    "    \"MasVnrType\" : \"None\",\n",
    "    \"MasVnrArea\": 0 , #can be learned by ML it is related to the MasVnrType if not None\n",
    "    \"FireplaceQu\": \"NA\" ,# can check to see if there is basement then estimate something\n",
    "    'BsmtCond': \"TA\" ,\n",
    "    'GarageCars': 0 ,\n",
    "    'GarageArea': 0 ,\n",
    "    'Exterior2nd': \"Brk Cmn\" ,\n",
    "    'Electrical' : \"Mix\",\n",
    "    'Utilities': \"AllPub\",\n",
    "    'GarageType': \"NA\",\n",
    "    'MSZoning': \"RL\",\n",
    "    \n",
    "    'Exterior1st':\"BrkComm\",\n",
    "    'GarageFinish': \"NA\",\n",
    "    'GarageQual': \"NA\",\n",
    "    'GarageCond': \"NA\",\n",
    "    'BsmtFullBath': 0,\n",
    "    'BsmtHalfBath': 0,\n",
    "    'BsmtFinSF1': 0,\n",
    "    'BsmtFinSF2': 0,\n",
    "    'BsmtUnfSF': 0,\n",
    "    'TotalBsmtSF': 0,\n",
    "    'KitchenQual': \"TA\",\n",
    "    \"SaleType\": \"WD\"\n",
    "})\n",
    "test_X.RoofStyle.replace(\"Shed\",'Mansard',inplace=True)\n",
    "#test_X.MiscFeature.replace(\"Mansard\",'None',inplace=True)\n",
    "for i in cols_with_text:\n",
    "    #print(i)\n",
    "    test_X[i] = le_dic[i].transform(test_X[i])\n",
    "X_scaled1 = scaler_x.transform(test_X)\n",
    "#X_pca = pca.transform(X_scaled)\n",
    "test_preds = rf_model_on_full_data.predict(X_scaled1)\n",
    "\n",
    "\n",
    "#print_unique_col_values(test_X)"
   ]
  },
  {
   "cell_type": "code",
   "execution_count": 14,
   "id": "0e2dfdb8",
   "metadata": {
    "execution": {
     "iopub.execute_input": "2023-03-13T16:57:05.769228Z",
     "iopub.status.busy": "2023-03-13T16:57:05.768803Z",
     "iopub.status.idle": "2023-03-13T16:57:05.773987Z",
     "shell.execute_reply": "2023-03-13T16:57:05.772868Z"
    },
    "papermill": {
     "duration": 0.01537,
     "end_time": "2023-03-13T16:57:05.776371",
     "exception": false,
     "start_time": "2023-03-13T16:57:05.761001",
     "status": "completed"
    },
    "tags": []
   },
   "outputs": [],
   "source": [
    "#null_in_columns(test_X)\n",
    "#test_X[[\"BsmtFinSF1\",\"BsmtFinSF2\",\"BsmtUnfSF\",\"TotalBsmtSF\"]][test_X.BsmtFinSF1.isnull()]\n",
    "#h_data_clean.groupby([\"RoofStyle\"])[\"RoofStyle\"].count()\n",
    "#print_unique_col_values(h_data_clean)"
   ]
  },
  {
   "cell_type": "code",
   "execution_count": 15,
   "id": "76cf2346",
   "metadata": {
    "execution": {
     "iopub.execute_input": "2023-03-13T16:57:05.790107Z",
     "iopub.status.busy": "2023-03-13T16:57:05.789697Z",
     "iopub.status.idle": "2023-03-13T16:57:05.794738Z",
     "shell.execute_reply": "2023-03-13T16:57:05.793735Z"
    },
    "papermill": {
     "duration": 0.014788,
     "end_time": "2023-03-13T16:57:05.797198",
     "exception": false,
     "start_time": "2023-03-13T16:57:05.782410",
     "status": "completed"
    },
    "tags": []
   },
   "outputs": [],
   "source": [
    "#test_X.groupby([\"RoofStyle\"])[\"RoofStyle\"].count()"
   ]
  },
  {
   "cell_type": "code",
   "execution_count": 16,
   "id": "d53b306e",
   "metadata": {
    "execution": {
     "iopub.execute_input": "2023-03-13T16:57:05.811136Z",
     "iopub.status.busy": "2023-03-13T16:57:05.810754Z",
     "iopub.status.idle": "2023-03-13T16:57:05.815637Z",
     "shell.execute_reply": "2023-03-13T16:57:05.814455Z"
    },
    "papermill": {
     "duration": 0.014791,
     "end_time": "2023-03-13T16:57:05.818167",
     "exception": false,
     "start_time": "2023-03-13T16:57:05.803376",
     "status": "completed"
    },
    "tags": []
   },
   "outputs": [],
   "source": [
    "#test_X.Functional.replace(\"Sal\",'Maj2',inplace=True)\n",
    "#print(test_X.RoofStyle.unique())\n",
    "#\"\"\"\n",
    "#test_X = test_X[test_X.Functional != 'Sev']\n"
   ]
  },
  {
   "cell_type": "code",
   "execution_count": 17,
   "id": "23a5d36c",
   "metadata": {
    "execution": {
     "iopub.execute_input": "2023-03-13T16:57:05.832303Z",
     "iopub.status.busy": "2023-03-13T16:57:05.831878Z",
     "iopub.status.idle": "2023-03-13T16:57:05.847430Z",
     "shell.execute_reply": "2023-03-13T16:57:05.845923Z"
    },
    "papermill": {
     "duration": 0.025946,
     "end_time": "2023-03-13T16:57:05.850272",
     "exception": false,
     "start_time": "2023-03-13T16:57:05.824326",
     "status": "completed"
    },
    "tags": []
   },
   "outputs": [],
   "source": [
    "output = pd.DataFrame({'Id': test_data.Id,\n",
    "                       'SalePrice': test_preds})\n",
    "output.to_csv('submission.csv', index=False)"
   ]
  }
 ],
 "metadata": {
  "kernelspec": {
   "display_name": "Python 3",
   "language": "python",
   "name": "python3"
  },
  "language_info": {
   "codemirror_mode": {
    "name": "ipython",
    "version": 3
   },
   "file_extension": ".py",
   "mimetype": "text/x-python",
   "name": "python",
   "nbconvert_exporter": "python",
   "pygments_lexer": "ipython3",
   "version": "3.7.12"
  },
  "papermill": {
   "default_parameters": {},
   "duration": 16.209907,
   "end_time": "2023-03-13T16:57:06.680016",
   "environment_variables": {},
   "exception": null,
   "input_path": "__notebook__.ipynb",
   "output_path": "__notebook__.ipynb",
   "parameters": {},
   "start_time": "2023-03-13T16:56:50.470109",
   "version": "2.4.0"
  }
 },
 "nbformat": 4,
 "nbformat_minor": 5
}
