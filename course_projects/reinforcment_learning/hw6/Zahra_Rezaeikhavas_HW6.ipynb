{
 "cells": [
  {
   "cell_type": "markdown",
   "metadata": {},
   "source": [
    "<center>\n",
    "    COMP4600/5300 - Reinforcement Learning\n",
    "\n",
    "# Homework 6 - On-policy Control with Approximation\n",
    "\n",
    "### Due: Wednesday, November 11th 11:59 pm\n",
    "    \n",
    "</center>"
   ]
  },
  {
   "cell_type": "markdown",
   "metadata": {},
   "source": [
    "Student Name: Zahra Rezaei Khavas"
   ]
  },
  {
   "cell_type": "markdown",
   "metadata": {},
   "source": [
    "The purpose of this project is to study different properties of Function Approximation with on-policy control methods.  "
   ]
  },
  {
   "cell_type": "code",
   "execution_count": 2,
   "metadata": {},
   "outputs": [
    {
     "name": "stdout",
     "output_type": "stream",
     "text": [
      "pygame 1.9.6\n",
      "Hello from the pygame community. https://www.pygame.org/contribute.html\n"
     ]
    }
   ],
   "source": [
    "# You are allowed to use the following modules\n",
    "import numpy as np\n",
    "import matplotlib.pyplot as plt\n",
    "from mountain_car import MountainCar\n",
    "import pygame as pg\n",
    "from pygame import gfxdraw"
   ]
  },
  {
   "attachments": {
    "mc.png": {
     "image/png": "[encoded data removed]"
    }
   },
   "cell_type": "markdown",
   "metadata": {},
   "source": [
    "## Task description\n",
    "Consider the task of driving an underpowered car up a steep mountain road, as suggested by the diagram in the upper left of the following figure. The difficulty is that gravity is stronger than the car's engine, and even at full throttle the car cannot accelerate up the steep slope. The only solution is to first move away from the goal and up the opposite slope on the left. Then by applying full throttle the car can build up enough inertia to carry it up the steep slope even though it is slowing down the whole way.\n",
    "\n",
    "\n",
    "![mc.png](attachment:mc.png)\n",
    "\n",
    "\n",
    "This is a continuous control task where things have to get worse in a sense (farther from the goal) before they can get better. The reward in this problem is -1 on all time steps until the car moves past its goal position at the top of the mountain, which ends the episode. There are three possible actions: full throttle forward (+1), full throttle reverse (-1), and zero throttle (0). The car moves according to a simplified physics. Its position $x_t$ and velocity $\\dot{x}_t$ are updated by\n",
    "\n",
    "$x_{t+1} \\doteq \\text{bound}[x_t + \\dot{x}_{t+1}]$\n",
    "\n",
    "$\\dot{x}_{t+1} \\doteq \\text{bound}[\\dot{x}_t + 0.001 A_t - 0.0025 \\cos(3x_t)]$\n",
    "\n",
    "\n",
    "where the \\textit{bound} operation enforces $-1.2 \\le x_{t+1} \\le 0.5$ and $-0.07 \\le \\dot{x}_{t+1} \\le 0.07$. In addition, when $x_{t+1}$ reached the left bound, $\\dot{x}_{t+1}$ was reset to zero. When it reached the right bound, the goal was reached and the episode was terminated. Each episode starts from a random position $x_t \\in [-0.6, -0.4)$ and zero velocity.\n"
   ]
  },
  {
   "cell_type": "markdown",
   "metadata": {},
   "source": [
    "## Part I\n",
    "\n",
    "You have been given a simple implementation of the Mountain Car task. \n",
    "\n",
    "1. Your first task is to check and confirm that the given code simulates the above formulae and task description. Then write a function that generates random episodes for this task. You should use the given code for the Mountain Car task. \n"
   ]
  },
  {
   "cell_type": "markdown",
   "metadata": {},
   "source": [
    "to confirm that the given code simulates the above formulae I started with initial values for x(t) and v(t) and calculated the values of x(t+1) and v(t+1) using both formula and MountainCar, and I repeated that for five rounds (the number of rounds can be increaded) then I compared results and found out that estimated values by formula are the exact values generated by MountaineCar. I also checked some special case where with initial values of x and v calculated values for x(t+1) and v(t+1) by formula are higher than bound and generated results for x(t+1) and v(t+1) using MountainCar are set at 0.07. "
   ]
  },
  {
   "cell_type": "code",
   "execution_count": 3,
   "metadata": {},
   "outputs": [
    {
     "name": "stdout",
     "output_type": "stream",
     "text": [
      "generated values for x by MountainCar [-0.6877378847385003, -0.6732938759808426, -0.6567645129373528, -0.638262761907095, -0.6179178912196618, -0.5958750290066803]\n",
      "calculated values for x using the formula [-0.6877378847385003, -0.6732938759808426, -0.6567645129373528, -0.638262761907095, -0.6179178912196618, -0.5958750290066803]\n",
      "as you can see values in both of these arrays are exactly the same\n",
      "   \n",
      "generated values for v by MountainCar [0.012262115261499642, 0.014444008757657731, 0.01652936304348968, 0.01850175103025784, 0.020344870687433177, 0.02204286221298144]\n",
      "calculated values for v by using formula [0.012262115261499642, 0.014444008757657731, 0.01652936304348968, 0.01850175103025784, 0.020344870687433177, 0.02204286221298144]\n",
      "as you can see values in both of these arrays are exactly the same\n",
      "   \n",
      "special case where calculated vp by the formula for a special initial set of values for x and v is bigger than 0.07 and for that special set of values MountainCar returns the value of 0.07\n",
      "x(t+1) form MountainCar -0.4635987755982988, x(t+1) form formula -0.4635237868477926\n",
      "as you can see both values are the smae\n",
      "   \n",
      "v(t+1) form MountainCar 0.07,v(t+1) form formula 0.07007498875050625\n",
      "as you can see calculated value for V(t+1) is higher than 0.07 and is set at 0.07 by MountainCar\n",
      "   \n",
      "-0.07 -0.07050000000000001\n",
      "-0.07 -0.07050000000000001\n"
     ]
    }
   ],
   "source": [
    "# Your code here\n",
    "xp= -0.7  #random initial value for x\n",
    "vp= 0.01  # random initial value for v\n",
    "X=[]\n",
    "V=[]\n",
    "est_X=[]\n",
    "est_V=[]\n",
    "\n",
    "goal_reached=False\n",
    "car = MountainCar()\n",
    "counter = 0\n",
    "while  not goal_reached:    \n",
    "    counter +=1\n",
    "    vp_by_formula=vp+0.001*1-(0.0025*np.cos(3*xp))\n",
    "    est_V.append(vp_by_formula)\n",
    "    xp_by_formula=xp+vp_by_formula\n",
    "    est_X.append(xp_by_formula)\n",
    "    xp, vp, r, goal_reached = car.move(xp, vp, 1)\n",
    "    X.append(xp)\n",
    "    V.append(vp)\n",
    "    if counter> 5:\n",
    "        print(f'generated values for x by MountainCar {X}')\n",
    "        print(f'calculated values for x using the formula {est_X}')\n",
    "        print('as you can see values in both of these arrays are exactly the same')\n",
    "        print (\"   \")\n",
    "        print(f'generated values for v by MountainCar {V}')\n",
    "        print(f'calculated values for v by using formula {est_V}')\n",
    "        print('as you can see values in both of these arrays are exactly the same')\n",
    "        print (\"   \")\n",
    "\n",
    "        goal_reached = True\n",
    "        \n",
    "xp=-(np.pi/6)-0.01\n",
    "vp=0.069\n",
    "\n",
    "vp_by_formula=vp+0.001*1-(0.0025*np.cos(3*xp))\n",
    "xp_by_formula=xp+vp_by_formula\n",
    "\n",
    "xp, vp, r, goal_reached = car.move(xp, vp, 1)\n",
    "\n",
    "print(\"special case where calculated vp by the formula for a special initial set of values for x and v is bigger than 0.07 and for that special set of values MountainCar returns the value of 0.07\")\n",
    "print (f'x(t+1) form MountainCar {xp}, x(t+1) form formula {xp_by_formula}')\n",
    "print('as you can see both values are the smae')\n",
    "print (\"   \")\n",
    "print(f'v(t+1) form MountainCar {vp},v(t+1) form formula {vp_by_formula}')\n",
    "print('as you can see calculated value for V(t+1) is higher than 0.07 and is set at 0.07 by MountainCar')\n",
    "print (\"   \")\n",
    "xp=0\n",
    "vp=-0.069\n",
    "vp_by_formula=vp+0.001*1-(0.0025*np.cos(3*xp))\n",
    "xp_by_formula=xp+vp_by_formula\n",
    "\n",
    "xp, vp, r, goal_reached = car.move(xp, vp, -1)\n",
    "print(xp, xp_by_formula)\n",
    "print(vp, vp_by_formula)"
   ]
  },
  {
   "cell_type": "code",
   "execution_count": 7,
   "metadata": {},
   "outputs": [
    {
     "name": "stdout",
     "output_type": "stream",
     "text": [
      "39545\n"
     ]
    }
   ],
   "source": [
    "def play():\n",
    "    xp=(np.random.rand()*0.2)-0.6\n",
    "    vp=0\n",
    "    goal_reached=False\n",
    "    car = MountainCar()\n",
    "    counter = 0\n",
    "    x=[]\n",
    "    y=[]\n",
    "    while  not goal_reached:\n",
    "        counter +=1\n",
    "        xp, vp, r, goal_reached = car.move(xp, vp, np.random.choice([-1,0,1]))\n",
    "        x.append(xp)\n",
    "        c=0.45*np.sin(3*xp)+0.55\n",
    "        y.append(c)\n",
    "        if goal_reached:\n",
    "            print (counter)\n",
    "    return x , y\n",
    "            \n",
    "xp,yp = play()\n",
    "#print(xp,yp)"
   ]
  },
  {
   "cell_type": "markdown",
   "metadata": {},
   "source": [
    "2. Use the Pygame library to develop a simple function that animates a given episode/trajectory. The equation for the mountain is $y = 0.45\\sin(3x) + 0.55$. Use a randomly generated episode from the function you developed above and pass it to your animation function, then plot the results."
   ]
  },
  {
   "cell_type": "code",
   "execution_count": 5,
   "metadata": {},
   "outputs": [],
   "source": [
    "def animation(xp,yp,rate):\n",
    "\n",
    "    for i in range(len(xp)):\n",
    "        xp[i]=int(xp[i]*100)+135\n",
    "        yp[i]=100 - yp[i]*100\n",
    "\n",
    "    x= np.linspace(-120, 50, 171)\n",
    "    y=[]\n",
    "    for i in x:\n",
    "        c=0.45*np.sin(3*i/100)+0.55\n",
    "        y.append(int(100-100*c))\n",
    "    x = np.linspace(15, 185, 171)\n",
    "    \n",
    "    pg.init()\n",
    "\n",
    "    screen_x = 200\n",
    "    screen_y = 100\n",
    "    screen = pg.display.set_mode((screen_x, screen_y))\n",
    "    pg.display.set_caption(\"mountain car\")\n",
    "    clock = pg.time.Clock()\n",
    "    screen.fill((0, 0, 0))\n",
    "    for i in range(len(x)):\n",
    "        pg.gfxdraw.pixel(screen,int(x[i]),y[i],(255,255,255))\n",
    "    pg.display.update()\n",
    "\n",
    "    for k in range(len(xp)):\n",
    "        clock.tick(rate)\n",
    "        for event in pg.event.get():\n",
    "            if event.type == pg.QUIT:\n",
    "                break\n",
    "        screen.fill((0, 0, 0))\n",
    "        for i in range(len(x)):\n",
    "            pg.gfxdraw.pixel(screen,int(x[i]),y[i],(255,255,255))\n",
    "        pg.draw.rect(screen, (255,255,0), (int(xp[k])-5, int(yp[k])-2, 10, 4))\n",
    "        pg.display.update()\n",
    "    pg.quit()\n",
    "\n",
    "animation(xp,yp,1000)"
   ]
  },
  {
   "cell_type": "markdown",
   "metadata": {},
   "source": [
    "## Part II\n",
    "\n",
    "Develop a function approximation procedure based on either **Polynomials** or **Fourier basis** (recommended). Given the current $\\bar{w}$, the developed function approximation method should return the value for each specific state."
   ]
  },
  {
   "cell_type": "code",
   "execution_count": 6,
   "metadata": {},
   "outputs": [],
   "source": [
    "# Your code here\n",
    "def scale(s_):\n",
    "    a=s_[0]\n",
    "    b=s_[1]\n",
    "    d=[(a+1.2)*(1/1.7),(b+0.07)*(1/0.14)]\n",
    "    return d\n",
    "\n",
    "def fourier_basis(w,s,c):\n",
    "    state=scale(s)\n",
    "    k=len(state)\n",
    "    n=int(np.power(len(w),1/k)-1)\n",
    "    x_i=[]\n",
    "    for i in range(int(np.power(n+1,k))):\n",
    "        angle=0\n",
    "        for j in range(k):\n",
    "            angle +=np.pi*state[j]*c[j][i]\n",
    "        x_i.append(np.cos(angle))\n",
    "    q=0\n",
    "    for i in range(int(np.power(n+1,k))):\n",
    "        q+=w[i]*x_i[i]\n",
    "    return q , x_i\n",
    "\n",
    "\n"
   ]
  },
  {
   "cell_type": "markdown",
   "metadata": {},
   "source": [
    "## Part III\n",
    "\n",
    "1. Implement the **Episodic Semi-gradient $n$-step SARSA** (pp. 247)."
   ]
  },
  {
   "cell_type": "code",
   "execution_count": 7,
   "metadata": {},
   "outputs": [],
   "source": [
    "# Your code here\n",
    "def create_alpha_i_and_c (k,n,alpha):\n",
    "    c=[[] for j in range(k)]\n",
    "    alpha_vector=[]\n",
    "    for i in range(k):\n",
    "        for j in range(int(np.power(n+1,i))):\n",
    "            for p in range(n+1):\n",
    "                for r in range(int(np.power(n+1,k-i-1))):\n",
    "                    c[i].append(p)\n",
    "    \n",
    "    for i in range(int(np.power(n+1,k))):\n",
    "        sum_=0\n",
    "        for j in range(k):\n",
    "            sum_+=np.power(c[j][i],2)\n",
    "        if sum_==0:\n",
    "            alpha_vector.append(alpha)\n",
    "        else:\n",
    "            alpha_vector.append(alpha/np.sqrt(sum_))\n",
    "    return alpha_vector , c\n",
    "        \n",
    "\n",
    "def Episodic_Semi_gradient_n_step_SARSA(n,alpha,n_order,gamma,epsilon):\n",
    "    k=2 #number of states\n",
    "    number_of_actions=3\n",
    "    w = [[0 for i in range(int(np.power(n_order+1,k)))] for i in range(number_of_actions)]\n",
    "    act_vector=[-1,0,1]\n",
    "    alpha_v , c =create_alpha_i_and_c(k,n_order,alpha)# alpha vector and c matrix\n",
    "    episode=0\n",
    "    step=[]\n",
    "    \n",
    "    while episode!=100:\n",
    "        episode+=1\n",
    "        if episode>1:\n",
    "            epsilon=epsilon*0.1\n",
    "        car1 = MountainCar()\n",
    "        t=0\n",
    "        s=[[0,0]]\n",
    "        s[0]=[(np.random.rand()*0.2)-0.6,0]#[x,v] initialize\n",
    "        action=[]\n",
    "        \n",
    "        left_value,_=fourier_basis(w[0],s[t],c)\n",
    "        stop_value,_=fourier_basis(w[1],s[t],c)\n",
    "        right_value,_=fourier_basis(w[2],s[t],c)\n",
    "        q_all_action=[left_value,stop_value,right_value]\n",
    "        if np.random.rand(1)> epsilon:\n",
    "            max_list_index=np.argwhere(q_all_action == np.amax(q_all_action))\n",
    "            first_action=act_vector[np.random.choice(max_list_index.flatten().tolist())]\n",
    "        else:\n",
    "            first_action=np.random.choice(act_vector)\n",
    "        action.append(first_action)\n",
    "        reward=[0]       \n",
    "        T=np.inf\n",
    "        loop=True\n",
    "        check=1\n",
    "        while loop:\n",
    "            if t<T:\n",
    "                next_pos, next_vel, r_next, goal_reached = car1.move(s[t][0], s[t][1], action[t])                \n",
    "                reward.append(r_next)\n",
    "                s.append([next_pos,next_vel])\n",
    "\n",
    "                if goal_reached:\n",
    "                    T=t+1\n",
    "                else:\n",
    "                    next_t=t+1\n",
    "                    left_value,_=fourier_basis(w[0],s[next_t],c)\n",
    "                    stop_value,_=fourier_basis(w[1],s[next_t],c)\n",
    "                    right_value,_=fourier_basis(w[2],s[next_t],c)\n",
    "                    q_all_action=[left_value,stop_value,right_value]\n",
    "                    if np.random.rand(1)> epsilon:\n",
    "                        max_list_index=np.argwhere(q_all_action == np.amax(q_all_action))\n",
    "                        next_action=act_vector[np.random.choice(max_list_index.flatten().tolist())]\n",
    "\n",
    "                    else:\n",
    "                        next_action=np.random.choice(act_vector)\n",
    "                    action.append(next_action)\n",
    "            taw=t-n+1\n",
    "            if taw>=0:\n",
    "                G=0\n",
    "                for i in range(taw+1,1+min(taw+n,T)):\n",
    "                    G+=np.power(gamma,i-taw-1)*reward[i]\n",
    "                if taw+n <T:\n",
    "                    q_,_=fourier_basis(w[action[taw+n]+1],s[taw+n],c)#act_value+1 === action index : [-1,0,1]+1===[0,1,2]\n",
    "                    G+=np.power(gamma,n)*q_\n",
    "                q,x_i=fourier_basis(w[action[taw]+1],s[taw],c)\n",
    "                for i in range(len(w[0])):\n",
    "                    w[action[taw]+1][i]+=alpha_v[i]*(G-q)*x_i[i]\n",
    "            t+=1\n",
    "            if taw==T-1:\n",
    "                loop=False\n",
    "        step.append(T)\n",
    "        #print(episode)\n",
    "    return step , s , w\n",
    "            \n"
   ]
  },
  {
   "cell_type": "markdown",
   "metadata": {},
   "source": [
    "2. Use the algorithm to learn the Mountain Car task with $n \\in \\{1, 8, 16\\}$. Tune the step-size parameter ($\\alpha$), select a proper Function Approximation order, discount factor ($\\gamma$), exploration probability ($\\varepsilon$). Plot step-per-episode (in log scale) vs. number of episodes. This plot should be averaged over 50-100 runs.    "
   ]
  },
  {
   "cell_type": "markdown",
   "metadata": {},
   "source": [
    "# Do not play this cell"
   ]
  },
  {
   "cell_type": "code",
   "execution_count": 17,
   "metadata": {},
   "outputs": [],
   "source": [
    "# Your code here\n",
    "steps_1=[]\n",
    "states_1=[]\n",
    "w_1=[]\n",
    "steps_8=[]\n",
    "states_8=[]\n",
    "w_8=[]\n",
    "steps_16=[]\n",
    "states_16=[]\n",
    "w_16=[]\n",
    "for i in range(50):\n",
    "    step1,states1,w1=Episodic_Semi_gradient_n_step_SARSA(1,0.008,3,1,0.1)\n",
    "    steps_1.append(step1)\n",
    "    states_1.append(states1)\n",
    "    w_1.append(w1)\n",
    "    \n",
    "    step8,states8,w8=Episodic_Semi_gradient_n_step_SARSA(8,0.008,3,1,0.1)\n",
    "    steps_8.append(step8)\n",
    "    states_8.append(states8)\n",
    "    w_8.append(w8)\n",
    "    step16,states16,w16=Episodic_Semi_gradient_n_step_SARSA(16,0.008,3,1,0.1)\n",
    "    steps_16.append(step16)\n",
    "    states_16.append(states16)\n",
    "    w_16.append(w16)"
   ]
  },
  {
   "cell_type": "code",
   "execution_count": 19,
   "metadata": {},
   "outputs": [
    {
     "data": {
      "text/plain": [
       "<matplotlib.legend.Legend at 0xf387958>"
      ]
     },
     "execution_count": 19,
     "metadata": {},
     "output_type": "execute_result"
    },
    {
     "data": {
      "image/png": "[encoded data removed]",
      "text/plain": [
       "<Figure size 432x288 with 1 Axes>"
      ]
     },
     "metadata": {
      "needs_background": "light"
     },
     "output_type": "display_data"
    }
   ],
   "source": [
    "number_of_episodes=100\n",
    "run_number=50\n",
    "ave1=[]\n",
    "ave8=[]\n",
    "ave16=[]\n",
    "for i in range(number_of_episodes):\n",
    "    sum_1=0\n",
    "    sum_8=0\n",
    "    sum_16=0\n",
    "    for j in range(run_number):\n",
    "        sum_1+=steps_1[j][i]\n",
    "        sum_8+=steps_8[j][i]\n",
    "        sum_16+=steps_16[j][i]\n",
    "    ave1.append(sum_1/run_number)\n",
    "    ave8.append(sum_8/run_number)\n",
    "    ave16.append(sum_16/run_number)\n",
    "\n",
    "plt.plot(ave1,label='n=1')\n",
    "plt.plot(ave8,label='n=8')\n",
    "plt.plot(ave16,label='n=16')\n",
    "plt.xlabel(\"episode\")\n",
    "plt.ylabel(\"Steps per episode (log scale)\")\n",
    "plt.yscale(\"log\")\n",
    "plt.legend()"
   ]
  },
  {
   "cell_type": "markdown",
   "metadata": {},
   "source": [
    "# WARNING: do not run this cell"
   ]
  },
  {
   "cell_type": "code",
   "execution_count": 20,
   "metadata": {},
   "outputs": [
    {
     "name": "stdout",
     "output_type": "stream",
     "text": [
      "Stored 'ave1' (list)\n",
      "Stored 'ave8' (list)\n",
      "Stored 'ave16' (list)\n",
      "Stored 'states1' (list)\n",
      "Stored 'states8' (list)\n",
      "Stored 'states16' (list)\n"
     ]
    }
   ],
   "source": [
    "\n",
    "%store ave1\n",
    "%store ave8\n",
    "%store ave16\n",
    "%store states1\n",
    "%store states8\n",
    "%store states16"
   ]
  },
  {
   "cell_type": "code",
   "execution_count": 8,
   "metadata": {},
   "outputs": [
    {
     "data": {
      "text/plain": [
       "<matplotlib.legend.Legend at 0xf44a160>"
      ]
     },
     "execution_count": 8,
     "metadata": {},
     "output_type": "execute_result"
    },
    {
     "data": {
      "image/png": "[encoded data removed]",
      "text/plain": [
       "<Figure size 432x288 with 1 Axes>"
      ]
     },
     "metadata": {
      "needs_background": "light"
     },
     "output_type": "display_data"
    }
   ],
   "source": [
    "%store -r ave1\n",
    "%store -r ave8\n",
    "%store -r ave16\n",
    "%store -r states1\n",
    "%store -r states8\n",
    "%store -r states16\n",
    "\n",
    "plt.plot(ave1,label='n=1')\n",
    "plt.plot(ave8,label='n=8')\n",
    "plt.plot(ave16,label='n=16')\n",
    "plt.xlabel(\"episode\")\n",
    "plt.ylabel(\"Steps per episode (log scale)\")\n",
    "plt.yscale(\"log\")\n",
    "plt.legend()"
   ]
  },
  {
   "cell_type": "markdown",
   "metadata": {},
   "source": [
    "3. Show an animation of the task for each $n$."
   ]
  },
  {
   "cell_type": "code",
   "execution_count": 9,
   "metadata": {},
   "outputs": [
    {
     "name": "stdout",
     "output_type": "stream",
     "text": [
      "107\n",
      "139\n",
      "135\n"
     ]
    }
   ],
   "source": [
    "# Your code here\n",
    "x1=[]\n",
    "y1=[]\n",
    "x8=[]\n",
    "y8=[]\n",
    "x16=[]\n",
    "y16=[]\n",
    "for i in range(len(states1)):\n",
    "    x1.append(states1[i][0])\n",
    "    y1.append(0.45*np.sin(3*states1[i][0])+0.55)\n",
    "for i in range(len(states8)):\n",
    "    x8.append(states8[i][0])\n",
    "    y8.append(0.45*np.sin(3*states8[i][0])+0.55)\n",
    "for i in range(len(states16)):\n",
    "    x16.append(states16[i][0])\n",
    "    y16.append(0.45*np.sin(3*states16[i][0])+0.55)\n",
    "\n",
    "animation(x1,y1,50)\n",
    "print(len(states1))\n",
    "animation(x8,y8,50)\n",
    "print(len(states8))\n",
    "animation(x16,y16,50)\n",
    "print(len(states16))\n"
   ]
  },
  {
   "cell_type": "markdown",
   "metadata": {},
   "source": [
    "4. Which value of $n$ results in faster learning? Why?\n",
    "> Answer\n",
    "As you can see in the plot above,for n=16, 8 and 1 the algorithm finds the optimal pulicy after 5 , 10  and 20 episodes respectively. So n=16 is faster than others. because by increasing n,in each step more w are updated. So the algorithm find the optimal q function faster. "
   ]
  },
  {
   "cell_type": "code",
   "execution_count": null,
   "metadata": {},
   "outputs": [],
   "source": []
  }
 ],
 "metadata": {
  "kernelspec": {
   "display_name": "Python 3",
   "language": "python",
   "name": "python3"
  },
  "language_info": {
   "codemirror_mode": {
    "name": "ipython",
    "version": 3
   },
   "file_extension": ".py",
   "mimetype": "text/x-python",
   "name": "python",
   "nbconvert_exporter": "python",
   "pygments_lexer": "ipython3",
   "version": "3.6.9"
  }
 },
 "nbformat": 4,
 "nbformat_minor": 2
}
