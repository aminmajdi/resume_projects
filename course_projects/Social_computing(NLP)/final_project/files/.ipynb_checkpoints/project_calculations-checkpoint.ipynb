{
 "cells": [
  {
   "cell_type": "code",
   "execution_count": 1,
   "id": "c9c6246b",
   "metadata": {},
   "outputs": [],
   "source": [
    "import json \n",
    "import ijson\n",
    "import pandas as pd\n",
    "import re, os"
   ]
  },
  {
   "cell_type": "code",
   "execution_count": 2,
   "id": "f183e722",
   "metadata": {},
   "outputs": [],
   "source": [
    " \n",
    "country_code_df= pd.read_csv('database/country_code.csv' ,sep = ',')\n",
    "country_code = country_code_df.values.tolist()\n",
    "#if \"iran\" in country_code_df.values:\n",
    "#    index_row = [country_code.index(row) for row in country_code if \"iran\" in row]\n",
    "#    print(country_code[index_row[0]][1])\n",
    "\n",
    "domain_df= pd.read_csv('database/domain.csv' ,sep = '.')\n",
    "domain_code = domain_df.values.tolist()\n",
    "#print(domain_code)\n",
    "#if \"ae\" in domain_df.values:\n",
    "#    index_row = [domain_code.index(row) for row in domain_code if \"ae\" in row]\n",
    "#    print(domain_code[index_row[0]][1])\n",
    "\n",
    "    \n",
    "flags_df= pd.read_csv('database/flags_new.csv' ,sep = ',')\n",
    "flags = flags_df.values.tolist()\n",
    "#print(flags)\n",
    "#if '🇧🇭' in flags_df.values:\n",
    "#    index_row = [flags.index(row) for row in flags if '🇧🇭' in row]\n",
    "#    print(flags[index_row[0]][1])\n",
    "\n",
    "\n",
    "language_code_df= pd.read_csv('database/language_code.csv' ,sep = ':')\n",
    "language_code = language_code_df.values.tolist()\n",
    "#print(language_code)\n",
    "#if 'fa' in language_code_df.values:\n",
    "#    index_row = [language_code.index(row) for row in language_code if \"fa\" in row]\n",
    "#    print(index_row)\n",
    "#    print(language_code[index_row[0]][0])\n",
    "    \n",
    "cities_df= pd.read_csv('database/worldcities.csv' ,sep = ',')\n",
    "cities = cities_df.values.tolist()\n",
    "#if 'addis' in cities_df.values:\n",
    "#    index_row = [cities.index(row) for row in cities if \"addis\" in row]\n",
    "#    print(cities[index_row[0]][5])\n",
    "\n",
    "country_to_code = [row[1] for row in country_code]\n",
    "country_class = { name: k+1 for k,name in enumerate(country_to_code) }\n",
    "#print(country_class[\"af\"])"
   ]
  },
  {
   "cell_type": "code",
   "execution_count": 6,
   "id": "6219d47f",
   "metadata": {},
   "outputs": [
    {
     "name": "stdout",
     "output_type": "stream",
     "text": [
      "True 18\n"
     ]
    }
   ],
   "source": [
    "def tokenize(s): return re.sub('([^A-Za-z0-9 ]+)', ' \\\\1 ', s).split()  # add space around anything not alphanum\n",
    "def sanify(s): return s.replace(':',';').replace('|','/')\n",
    "def writeToVWFile(filename, examples):\n",
    "    with open(filename, 'w') as h:\n",
    "        for ex in examples:\n",
    "            h.write(ex.strip()+'\\n')\n",
    "def pop_2(tokens):# \n",
    "    pop_list =[]\n",
    "    for ii in tokens:\n",
    "        if len(ii)<=2:\n",
    "            pop_list.append(ii)\n",
    "    for ii in pop_list:\n",
    "        tokens.remove(ii)\n",
    "    return tokens\n",
    "    \n",
    "def check_flag(tokens,flags,flags_df):\n",
    "    labeled = False\n",
    "    label = None\n",
    "    #tokens = pop_2(tokens)\n",
    "    for token in tokens: #check for countries with one part\n",
    "        if token in flags_df.values:\n",
    "            index_row = [flags.index(row) for row in flags if token in row[0]]\n",
    "            if index_row:\n",
    "                label_char =flags[index_row[0]][1]\n",
    "                label_char =str(label_char).lower()\n",
    "                label = country_class[label_char]\n",
    "                labeled =True\n",
    "                break\n",
    "    return labeled , label\n",
    "\n",
    "def city_country_check(place,country_code,country_code_df,cities,cities_df):\n",
    "    is_labeled = False\n",
    "    label = None\n",
    "    for token in place: #check for countries with one part\n",
    "        if token in country_code_df.values:\n",
    "            index_row = [country_code.index(row) for row in country_code if token in row[0]]\n",
    "            label_char =country_code[index_row[0]][1]\n",
    "            label_char =str(label_char).lower()\n",
    "            label = country_class[label_char]\n",
    "            is_labeled= True\n",
    "            break\n",
    "    if not is_labeled:\n",
    "        for k in range(len(place)-1): #for cities like new york or mexico city\n",
    "            token ='%s %s' % (place[k],place[k+1])\n",
    "            token = str(token).lower()\n",
    "            #print(token)\n",
    "            if token in cities_df.values:\n",
    "                index_row = [cities.index(row) for row in cities if token in row]\n",
    "                label_char =cities[index_row[0]][5]\n",
    "                label_char =str(label_char).lower()\n",
    "                label = country_class[label_char]\n",
    "                is_labeled= True\n",
    "                break\n",
    "    if not is_labeled:\n",
    "        for token in place: #check for cities with one part\n",
    "            if token in cities_df.values:\n",
    "                index_row = [cities.index(row) for row in cities if token in row]\n",
    "                label_char=cities[index_row[0]][5]\n",
    "                label_char =str(label_char).lower()\n",
    "                label = country_class[label_char]\n",
    "                is_labeled= True\n",
    "                break\n",
    "    return is_labeled , label\n",
    "\n",
    "\n",
    "labeled_ , label_ = check_flag(['🇧🇭'],flags,flags_df)\n",
    "print(labeled_ , label_)"
   ]
  },
  {
   "cell_type": "code",
   "execution_count": 7,
   "id": "7d8ec0c0",
   "metadata": {},
   "outputs": [
    {
     "name": "stdout",
     "output_type": "stream",
     "text": [
      "['cdd', 'vdd']\n"
     ]
    }
   ],
   "source": [
    "asa =tokenize (\"a,cdd,vdd,tx\")\n",
    "\n",
    "print(pop_2(asa))"
   ]
  },
  {
   "cell_type": "code",
   "execution_count": 8,
   "id": "3615904c",
   "metadata": {},
   "outputs": [
    {
     "name": "stdout",
     "output_type": "stream",
     "text": [
      "addis ababa\n",
      "[249]\n",
      "et\n"
     ]
    },
    {
     "ename": "UnboundLocalError",
     "evalue": "local variable 'label_char' referenced before assignment",
     "output_type": "error",
     "traceback": [
      "\u001b[0;31m---------------------------------------------------------------------------\u001b[0m",
      "\u001b[0;31mUnboundLocalError\u001b[0m                         Traceback (most recent call last)",
      "\u001b[0;32m<ipython-input-8-6cde7911ab07>\u001b[0m in \u001b[0;36m<module>\u001b[0;34m()\u001b[0m\n\u001b[1;32m     25\u001b[0m             \u001b[0mnamespaces\u001b[0m\u001b[0;34m[\u001b[0m\u001b[0;34m'l'\u001b[0m\u001b[0;34m]\u001b[0m \u001b[0;34m=\u001b[0m \u001b[0mtext\u001b[0m\u001b[0;34m\u001b[0m\u001b[0;34m\u001b[0m\u001b[0m\n\u001b[1;32m     26\u001b[0m             \u001b[0;32mif\u001b[0m \u001b[0;32mnot\u001b[0m \u001b[0mis_labeled\u001b[0m\u001b[0;34m:\u001b[0m\u001b[0;34m\u001b[0m\u001b[0;34m\u001b[0m\u001b[0m\n\u001b[0;32m---> 27\u001b[0;31m                 \u001b[0mis_labeled\u001b[0m \u001b[0;34m,\u001b[0m \u001b[0mlabel\u001b[0m \u001b[0;34m=\u001b[0m\u001b[0mcity_country_check\u001b[0m\u001b[0;34m(\u001b[0m\u001b[0mplace\u001b[0m\u001b[0;34m,\u001b[0m\u001b[0mcountry_code\u001b[0m\u001b[0;34m,\u001b[0m\u001b[0mcountry_code_df\u001b[0m\u001b[0;34m,\u001b[0m\u001b[0mcities\u001b[0m\u001b[0;34m,\u001b[0m\u001b[0mcities_df\u001b[0m\u001b[0;34m)\u001b[0m\u001b[0;34m\u001b[0m\u001b[0;34m\u001b[0m\u001b[0m\n\u001b[0m\u001b[1;32m     28\u001b[0m \u001b[0;34m\u001b[0m\u001b[0m\n\u001b[1;32m     29\u001b[0m         \u001b[0;32mif\u001b[0m \u001b[0mdata\u001b[0m\u001b[0;34m[\u001b[0m\u001b[0mi\u001b[0m\u001b[0;34m]\u001b[0m\u001b[0;34m[\u001b[0m\u001b[0;34m\"user\"\u001b[0m\u001b[0;34m]\u001b[0m\u001b[0;34m[\u001b[0m\u001b[0;34m\"name\"\u001b[0m\u001b[0;34m]\u001b[0m \u001b[0;34m!=\u001b[0m \u001b[0;34m\"\"\u001b[0m\u001b[0;34m:\u001b[0m\u001b[0;34m\u001b[0m\u001b[0;34m\u001b[0m\u001b[0m\n",
      "\u001b[0;32m<ipython-input-6-4ff40381f7df>\u001b[0m in \u001b[0;36mcity_country_check\u001b[0;34m(place, country_code, country_code_df, cities, cities_df)\u001b[0m\n\u001b[1;32m     60\u001b[0m                 \u001b[0mindex_row\u001b[0m \u001b[0;34m=\u001b[0m \u001b[0;34m[\u001b[0m\u001b[0mcities\u001b[0m\u001b[0;34m.\u001b[0m\u001b[0mindex\u001b[0m\u001b[0;34m(\u001b[0m\u001b[0mrow\u001b[0m\u001b[0;34m)\u001b[0m \u001b[0;32mfor\u001b[0m \u001b[0mrow\u001b[0m \u001b[0;32min\u001b[0m \u001b[0mcities\u001b[0m \u001b[0;32mif\u001b[0m \u001b[0mtoken\u001b[0m \u001b[0;32min\u001b[0m \u001b[0mrow\u001b[0m\u001b[0;34m]\u001b[0m\u001b[0;34m\u001b[0m\u001b[0;34m\u001b[0m\u001b[0m\n\u001b[1;32m     61\u001b[0m                 \u001b[0mlabel_cha\u001b[0m\u001b[0;34m=\u001b[0m\u001b[0mcities\u001b[0m\u001b[0;34m[\u001b[0m\u001b[0mindex_row\u001b[0m\u001b[0;34m[\u001b[0m\u001b[0;36m0\u001b[0m\u001b[0;34m]\u001b[0m\u001b[0;34m]\u001b[0m\u001b[0;34m[\u001b[0m\u001b[0;36m5\u001b[0m\u001b[0;34m]\u001b[0m\u001b[0;34m\u001b[0m\u001b[0;34m\u001b[0m\u001b[0m\n\u001b[0;32m---> 62\u001b[0;31m                 \u001b[0mlabel_char\u001b[0m \u001b[0;34m=\u001b[0m\u001b[0mstr\u001b[0m\u001b[0;34m(\u001b[0m\u001b[0mlabel_char\u001b[0m\u001b[0;34m)\u001b[0m\u001b[0;34m.\u001b[0m\u001b[0mlower\u001b[0m\u001b[0;34m(\u001b[0m\u001b[0;34m)\u001b[0m\u001b[0;34m\u001b[0m\u001b[0;34m\u001b[0m\u001b[0m\n\u001b[0m\u001b[1;32m     63\u001b[0m                 \u001b[0mlabel\u001b[0m \u001b[0;34m=\u001b[0m \u001b[0mcountry_class\u001b[0m\u001b[0;34m[\u001b[0m\u001b[0mlabel_char\u001b[0m\u001b[0;34m]\u001b[0m\u001b[0;34m\u001b[0m\u001b[0;34m\u001b[0m\u001b[0m\n\u001b[1;32m     64\u001b[0m                 \u001b[0mis_labeled\u001b[0m\u001b[0;34m=\u001b[0m \u001b[0;32mTrue\u001b[0m\u001b[0;34m\u001b[0m\u001b[0;34m\u001b[0m\u001b[0m\n",
      "\u001b[0;31mUnboundLocalError\u001b[0m: local variable 'label_char' referenced before assignment"
     ]
    }
   ],
   "source": [
    "with open(\"easter_sample.json\",\"r\") as f:\n",
    "    data=json.load(f)\n",
    "examples = []\n",
    "with open(\"easter_sample.txt\", 'w') as h:\n",
    "    for i in range(len(data)):\n",
    "        label = None\n",
    "        namespaces = {}\n",
    "        is_labeled= False\n",
    "        \n",
    "        if data[i][\"place\"] != None:\n",
    "            #print(data[i][\"place\"])\n",
    "            label_char = data[i][\"place\"]['country_code']\n",
    "            #print(label_char)\n",
    "            label_char =str(label_char).lower()\n",
    "            namespaces['p'] = label_char\n",
    "            label = country_class[label_char]\n",
    "            is_labeled= True\n",
    "            \n",
    "        if data[i][\"user\"][\"location\"] != \"\":\n",
    "            place= tokenize(data[i][\"user\"][\"location\"].strip())\n",
    "            place=pop_2(place)\n",
    "            text = []\n",
    "            text += place\n",
    "            #print(place)\n",
    "            namespaces['l'] = text\n",
    "            if not is_labeled:\n",
    "                is_labeled , label =city_country_check(place,country_code,country_code_df,cities,cities_df)\n",
    "                            \n",
    "        if data[i][\"user\"][\"name\"] != \"\":\n",
    "            user_name= tokenize(data[i][\"user\"][\"name\"].strip())\n",
    "            namespaces['n'] = user_name\n",
    "            if not is_labeled:\n",
    "                labeled_ , label_ = check_flag(user_name,flags,flags_df)\n",
    "                if labeled_:\n",
    "                    label = label_\n",
    "                    is_labeled= True\n",
    "        if data[i][\"user\"][\"screen_name\"] != \"\":\n",
    "            screen_name= tokenize(data[i][\"user\"][\"screen_name\"].strip())\n",
    "            namespaces['s'] = screen_name\n",
    "            if not is_labeled:\n",
    "                labeled_ , label_ = check_flag(screen_name,flags,flags_df)\n",
    "                if labeled_:\n",
    "                    label = label_\n",
    "                    is_labeled= True\n",
    "        if data[i][\"user\"][\"description\"] != \"\":\n",
    "            description= tokenize(data[i][\"user\"][\"description\"].strip())\n",
    "            namespaces['d'] = description\n",
    "            if not is_labeled:\n",
    "                labeled_ , label_ = check_flag(description,flags,flags_df)\n",
    "                if labeled_:\n",
    "                    label = label_\n",
    "                    is_labeled= True\n",
    "        if data[i][\"full_text\"] != \"\":\n",
    "            full_text= tokenize(data[i][\"full_text\"].strip())\n",
    "            namespaces['f'] = full_text\n",
    "            if not is_labeled:\n",
    "                labeled_ , label_ = check_flag(full_text,flags,flags_df)\n",
    "                if labeled_:\n",
    "                    label = label_\n",
    "                    is_labeled= True\n",
    "        if not is_labeled:\n",
    "            if 'url' in data[i][\"user\"][\"entities\"]:\n",
    "                if 'display_url' in data[i][\"user\"][\"entities\"]['url']['urls'][0]:\n",
    "                    if data[i][\"user\"][\"entities\"]['url']['urls'][0]['display_url'] != 'None':\n",
    "                        url = data[i][\"user\"][\"entities\"]['url']['urls'][0]['display_url']\n",
    "                        #print(url)\n",
    "                        x = re.search(\"(\\.[^c][^o]($|\\W))\", url)\n",
    "                        #print(x)\n",
    "                        if x!=None:\n",
    "                            x = re.search(\"(\\w\\w)\", x[0])\n",
    "                            if x!=None:\n",
    "                                if x[0] in country_code_df.values:\n",
    "                                    namespaces['m'] = x[0] \n",
    "        if data[i][\"lang\"] != \"\":\n",
    "            lang= tokenize(data[i][\"lang\"].strip())\n",
    "            #print(lang)\n",
    "            if lang[0] in language_code_df.values:\n",
    "                index_row = [language_code.index(row) for row in language_code if lang[0] in row]\n",
    "                #print(language_code[index_row[0]][0])\n",
    "                namespaces['g'] = language_code[index_row[0]][0]\n",
    "            \n",
    "            \n",
    "        if label!=None:\n",
    "            ex = str(label)\n",
    "            for ns,words in namespaces.items():\n",
    "                ex += ' |%s %s' % (ns, ' '.join(map(sanify,words[:5000])))\n",
    "            examples += [ex]\n",
    "    \n",
    "    #random.seed(9999)\n",
    "    #random.shuffle(examples)\n",
    "    for ex in examples:\n",
    "            h.write(ex.strip()+'\\n')\n",
    "\n",
    "            \n",
    "            "
   ]
  },
  {
   "cell_type": "code",
   "execution_count": 19,
   "id": "b1987d06",
   "metadata": {},
   "outputs": [
    {
     "ename": "ValueError",
     "evalue": "2 is not in list",
     "output_type": "error",
     "traceback": [
      "\u001b[0;31m---------------------------------------------------------------------------\u001b[0m",
      "\u001b[0;31mValueError\u001b[0m                                Traceback (most recent call last)",
      "\u001b[0;32m<ipython-input-19-1130f3410a57>\u001b[0m in \u001b[0;36m<module>\u001b[0;34m()\u001b[0m\n\u001b[1;32m      1\u001b[0m \u001b[0mff\u001b[0m \u001b[0;34m=\u001b[0m \u001b[0;34m[\u001b[0m\u001b[0;34m[\u001b[0m\u001b[0;36m2\u001b[0m\u001b[0;34m,\u001b[0m\u001b[0;36m3\u001b[0m\u001b[0;34m]\u001b[0m\u001b[0;34m,\u001b[0m\u001b[0;34m[\u001b[0m\u001b[0;36m4\u001b[0m\u001b[0;34m,\u001b[0m\u001b[0;36m5\u001b[0m\u001b[0;34m]\u001b[0m\u001b[0;34m]\u001b[0m\u001b[0;34m\u001b[0m\u001b[0;34m\u001b[0m\u001b[0m\n\u001b[0;32m----> 2\u001b[0;31m \u001b[0mprint\u001b[0m\u001b[0;34m(\u001b[0m\u001b[0mff\u001b[0m\u001b[0;34m.\u001b[0m\u001b[0mindex\u001b[0m\u001b[0;34m(\u001b[0m\u001b[0;36m2\u001b[0m\u001b[0;34m)\u001b[0m\u001b[0;34m)\u001b[0m\u001b[0;34m\u001b[0m\u001b[0;34m\u001b[0m\u001b[0m\n\u001b[0m",
      "\u001b[0;31mValueError\u001b[0m: 2 is not in list"
     ]
    }
   ],
   "source": [
    "ff = [[2,3],[4,5]]\n",
    "print(ff.index(2))"
   ]
  },
  {
   "cell_type": "code",
   "execution_count": 18,
   "id": "b6a74381",
   "metadata": {},
   "outputs": [
    {
     "ename": "JSONDecodeError",
     "evalue": "Expecting property name enclosed in double quotes: line 2 column 1 (char 3)",
     "output_type": "error",
     "traceback": [
      "\u001b[0;31m---------------------------------------------------------------------------\u001b[0m",
      "\u001b[0;31mJSONDecodeError\u001b[0m                           Traceback (most recent call last)",
      "\u001b[0;32m<ipython-input-18-6c9fb396f66d>\u001b[0m in \u001b[0;36m<module>\u001b[0;34m()\u001b[0m\n\u001b[1;32m      1\u001b[0m \u001b[0mtweets\u001b[0m \u001b[0;34m=\u001b[0m \u001b[0;34m[\u001b[0m\u001b[0;34m]\u001b[0m\u001b[0;34m\u001b[0m\u001b[0;34m\u001b[0m\u001b[0m\n\u001b[1;32m      2\u001b[0m \u001b[0;32mfor\u001b[0m \u001b[0mline\u001b[0m \u001b[0;32min\u001b[0m \u001b[0mopen\u001b[0m\u001b[0;34m(\u001b[0m\u001b[0;34m'a.json'\u001b[0m\u001b[0;34m,\u001b[0m \u001b[0;34m'r'\u001b[0m\u001b[0;34m)\u001b[0m\u001b[0;34m:\u001b[0m\u001b[0;34m\u001b[0m\u001b[0;34m\u001b[0m\u001b[0m\n\u001b[0;32m----> 3\u001b[0;31m     \u001b[0mtweets\u001b[0m\u001b[0;34m.\u001b[0m\u001b[0mappend\u001b[0m\u001b[0;34m(\u001b[0m\u001b[0mjson\u001b[0m\u001b[0;34m.\u001b[0m\u001b[0mloads\u001b[0m\u001b[0;34m(\u001b[0m\u001b[0mline\u001b[0m\u001b[0;34m)\u001b[0m\u001b[0;34m)\u001b[0m\u001b[0;34m\u001b[0m\u001b[0;34m\u001b[0m\u001b[0m\n\u001b[0m",
      "\u001b[0;32m/usr/lib/python3.6/json/__init__.py\u001b[0m in \u001b[0;36mloads\u001b[0;34m(s, encoding, cls, object_hook, parse_float, parse_int, parse_constant, object_pairs_hook, **kw)\u001b[0m\n\u001b[1;32m    352\u001b[0m             \u001b[0mparse_int\u001b[0m \u001b[0;32mis\u001b[0m \u001b[0;32mNone\u001b[0m \u001b[0;32mand\u001b[0m \u001b[0mparse_float\u001b[0m \u001b[0;32mis\u001b[0m \u001b[0;32mNone\u001b[0m \u001b[0;32mand\u001b[0m\u001b[0;34m\u001b[0m\u001b[0;34m\u001b[0m\u001b[0m\n\u001b[1;32m    353\u001b[0m             parse_constant is None and object_pairs_hook is None and not kw):\n\u001b[0;32m--> 354\u001b[0;31m         \u001b[0;32mreturn\u001b[0m \u001b[0m_default_decoder\u001b[0m\u001b[0;34m.\u001b[0m\u001b[0mdecode\u001b[0m\u001b[0;34m(\u001b[0m\u001b[0ms\u001b[0m\u001b[0;34m)\u001b[0m\u001b[0;34m\u001b[0m\u001b[0;34m\u001b[0m\u001b[0m\n\u001b[0m\u001b[1;32m    355\u001b[0m     \u001b[0;32mif\u001b[0m \u001b[0mcls\u001b[0m \u001b[0;32mis\u001b[0m \u001b[0;32mNone\u001b[0m\u001b[0;34m:\u001b[0m\u001b[0;34m\u001b[0m\u001b[0;34m\u001b[0m\u001b[0m\n\u001b[1;32m    356\u001b[0m         \u001b[0mcls\u001b[0m \u001b[0;34m=\u001b[0m \u001b[0mJSONDecoder\u001b[0m\u001b[0;34m\u001b[0m\u001b[0;34m\u001b[0m\u001b[0m\n",
      "\u001b[0;32m/usr/lib/python3.6/json/decoder.py\u001b[0m in \u001b[0;36mdecode\u001b[0;34m(self, s, _w)\u001b[0m\n\u001b[1;32m    337\u001b[0m \u001b[0;34m\u001b[0m\u001b[0m\n\u001b[1;32m    338\u001b[0m         \"\"\"\n\u001b[0;32m--> 339\u001b[0;31m         \u001b[0mobj\u001b[0m\u001b[0;34m,\u001b[0m \u001b[0mend\u001b[0m \u001b[0;34m=\u001b[0m \u001b[0mself\u001b[0m\u001b[0;34m.\u001b[0m\u001b[0mraw_decode\u001b[0m\u001b[0;34m(\u001b[0m\u001b[0ms\u001b[0m\u001b[0;34m,\u001b[0m \u001b[0midx\u001b[0m\u001b[0;34m=\u001b[0m\u001b[0m_w\u001b[0m\u001b[0;34m(\u001b[0m\u001b[0ms\u001b[0m\u001b[0;34m,\u001b[0m \u001b[0;36m0\u001b[0m\u001b[0;34m)\u001b[0m\u001b[0;34m.\u001b[0m\u001b[0mend\u001b[0m\u001b[0;34m(\u001b[0m\u001b[0;34m)\u001b[0m\u001b[0;34m)\u001b[0m\u001b[0;34m\u001b[0m\u001b[0;34m\u001b[0m\u001b[0m\n\u001b[0m\u001b[1;32m    340\u001b[0m         \u001b[0mend\u001b[0m \u001b[0;34m=\u001b[0m \u001b[0m_w\u001b[0m\u001b[0;34m(\u001b[0m\u001b[0ms\u001b[0m\u001b[0;34m,\u001b[0m \u001b[0mend\u001b[0m\u001b[0;34m)\u001b[0m\u001b[0;34m.\u001b[0m\u001b[0mend\u001b[0m\u001b[0;34m(\u001b[0m\u001b[0;34m)\u001b[0m\u001b[0;34m\u001b[0m\u001b[0;34m\u001b[0m\u001b[0m\n\u001b[1;32m    341\u001b[0m         \u001b[0;32mif\u001b[0m \u001b[0mend\u001b[0m \u001b[0;34m!=\u001b[0m \u001b[0mlen\u001b[0m\u001b[0;34m(\u001b[0m\u001b[0ms\u001b[0m\u001b[0;34m)\u001b[0m\u001b[0;34m:\u001b[0m\u001b[0;34m\u001b[0m\u001b[0;34m\u001b[0m\u001b[0m\n",
      "\u001b[0;32m/usr/lib/python3.6/json/decoder.py\u001b[0m in \u001b[0;36mraw_decode\u001b[0;34m(self, s, idx)\u001b[0m\n\u001b[1;32m    353\u001b[0m         \"\"\"\n\u001b[1;32m    354\u001b[0m         \u001b[0;32mtry\u001b[0m\u001b[0;34m:\u001b[0m\u001b[0;34m\u001b[0m\u001b[0;34m\u001b[0m\u001b[0m\n\u001b[0;32m--> 355\u001b[0;31m             \u001b[0mobj\u001b[0m\u001b[0;34m,\u001b[0m \u001b[0mend\u001b[0m \u001b[0;34m=\u001b[0m \u001b[0mself\u001b[0m\u001b[0;34m.\u001b[0m\u001b[0mscan_once\u001b[0m\u001b[0;34m(\u001b[0m\u001b[0ms\u001b[0m\u001b[0;34m,\u001b[0m \u001b[0midx\u001b[0m\u001b[0;34m)\u001b[0m\u001b[0;34m\u001b[0m\u001b[0;34m\u001b[0m\u001b[0m\n\u001b[0m\u001b[1;32m    356\u001b[0m         \u001b[0;32mexcept\u001b[0m \u001b[0mStopIteration\u001b[0m \u001b[0;32mas\u001b[0m \u001b[0merr\u001b[0m\u001b[0;34m:\u001b[0m\u001b[0;34m\u001b[0m\u001b[0;34m\u001b[0m\u001b[0m\n\u001b[1;32m    357\u001b[0m             \u001b[0;32mraise\u001b[0m \u001b[0mJSONDecodeError\u001b[0m\u001b[0;34m(\u001b[0m\u001b[0;34m\"Expecting value\"\u001b[0m\u001b[0;34m,\u001b[0m \u001b[0ms\u001b[0m\u001b[0;34m,\u001b[0m \u001b[0merr\u001b[0m\u001b[0;34m.\u001b[0m\u001b[0mvalue\u001b[0m\u001b[0;34m)\u001b[0m \u001b[0;32mfrom\u001b[0m \u001b[0;32mNone\u001b[0m\u001b[0;34m\u001b[0m\u001b[0;34m\u001b[0m\u001b[0m\n",
      "\u001b[0;31mJSONDecodeError\u001b[0m: Expecting property name enclosed in double quotes: line 2 column 1 (char 3)"
     ]
    }
   ],
   "source": [
    "tweets = []\n",
    "for line in open('a.json', 'r'):\n",
    "    tweets.append(json.loads(line))"
   ]
  },
  {
   "cell_type": "code",
   "execution_count": 4,
   "id": "c4098cfc",
   "metadata": {},
   "outputs": [
    {
     "name": "stdout",
     "output_type": "stream",
     "text": [
      "Empty DataFrame\n",
      "Columns: [a, v, b]\n",
      "Index: []\n"
     ]
    }
   ],
   "source": [
    "print(df)"
   ]
  },
  {
   "cell_type": "code",
   "execution_count": null,
   "id": "c5b1f1ce",
   "metadata": {},
   "outputs": [],
   "source": []
  },
  {
   "cell_type": "code",
   "execution_count": null,
   "id": "7f3f2d8e",
   "metadata": {},
   "outputs": [],
   "source": []
  }
 ],
 "metadata": {
  "kernelspec": {
   "display_name": "Python 3",
   "language": "python",
   "name": "python3"
  },
  "language_info": {
   "codemirror_mode": {
    "name": "ipython",
    "version": 3
   },
   "file_extension": ".py",
   "mimetype": "text/x-python",
   "name": "python",
   "nbconvert_exporter": "python",
   "pygments_lexer": "ipython3",
   "version": "3.6.9"
  }
 },
 "nbformat": 4,
 "nbformat_minor": 5
}
