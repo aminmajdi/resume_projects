{
 "cells": [
  {
   "cell_type": "markdown",
   "metadata": {},
   "source": [
    "<center>\n",
    "    COMP4600/5300 - Reinforcement Learning\n",
    "\n",
    "# Homework 6 - On-policy Control with Approximation\n",
    "\n",
    "### Due: Wednesday, November 11th 11:59 pm\n",
    "    \n",
    "</center>"
   ]
  },
  {
   "cell_type": "markdown",
   "metadata": {},
   "source": [
    "Student Name: ______________________ "
   ]
  },
  {
   "cell_type": "markdown",
   "metadata": {},
   "source": [
    "The purpose of this project is to study different properties of Function Approximation with on-policy control methods.  "
   ]
  },
  {
   "cell_type": "code",
   "execution_count": 1,
   "metadata": {},
   "outputs": [
    {
     "name": "stdout",
     "output_type": "stream",
     "text": [
      "pygame 1.9.6\n",
      "Hello from the pygame community. https://www.pygame.org/contribute.html\n"
     ]
    }
   ],
   "source": [
    "# You are allowed to use the following modules\n",
    "import numpy as np\n",
    "import matplotlib.pyplot as plt\n",
    "from mountain_car import MountainCar\n",
    "import pygame as pg\n",
    "from pygame import gfxdraw"
   ]
  },
  {
   "attachments": {
    "mc.png": {
     "image/png": "[encoded data removed]"
    }
   },
   "cell_type": "markdown",
   "metadata": {},
   "source": [
    "## Task description\n",
    "Consider the task of driving an underpowered car up a steep mountain road, as suggested by the diagram in the upper left of the following figure. The difficulty is that gravity is stronger than the car's engine, and even at full throttle the car cannot accelerate up the steep slope. The only solution is to first move away from the goal and up the opposite slope on the left. Then by applying full throttle the car can build up enough inertia to carry it up the steep slope even though it is slowing down the whole way.\n",
    "\n",
    "\n",
    "![mc.png](attachment:mc.png)\n",
    "\n",
    "\n",
    "This is a continuous control task where things have to get worse in a sense (farther from the goal) before they can get better. The reward in this problem is -1 on all time steps until the car moves past its goal position at the top of the mountain, which ends the episode. There are three possible actions: full throttle forward (+1), full throttle reverse (-1), and zero throttle (0). The car moves according to a simplified physics. Its position $x_t$ and velocity $\\dot{x}_t$ are updated by\n",
    "\n",
    "$x_{t+1} \\doteq \\text{bound}[x_t + \\dot{x}_{t+1}]$\n",
    "\n",
    "$\\dot{x}_{t+1} \\doteq \\text{bound}[\\dot{x}_t + 0.001 A_t - 0.0025 \\cos(3x_t)]$\n",
    "\n",
    "\n",
    "where the \\textit{bound} operation enforces $-1.2 \\le x_{t+1} \\le 0.5$ and $-0.07 \\le \\dot{x}_{t+1} \\le 0.07$. In addition, when $x_{t+1}$ reached the left bound, $\\dot{x}_{t+1}$ was reset to zero. When it reached the right bound, the goal was reached and the episode was terminated. Each episode starts from a random position $x_t \\in [-0.6, -0.4)$ and zero velocity.\n"
   ]
  },
  {
   "cell_type": "markdown",
   "metadata": {},
   "source": [
    "## Part I\n",
    "\n",
    "You have been given a simple implementation of the Mountain Car task. \n",
    "\n",
    "1. Your first task is to check and confirm that the given code simulates the above formulae and task description. Then write a function that generates random episodes for this task. You should use the given code for the Mountain Car task. \n"
   ]
  },
  {
   "cell_type": "code",
   "execution_count": 2,
   "metadata": {},
   "outputs": [
    {
     "name": "stdout",
     "output_type": "stream",
     "text": [
      "-0.2679015803161316\n",
      "-0.0009549083026736507\n",
      "-1.0\n",
      "False\n",
      "100001\n"
     ]
    }
   ],
   "source": [
    "# Your code here\n",
    "def check_validity():\n",
    "    xp= -0.5\n",
    "    vp= 0 \n",
    "    goal_reached=False\n",
    "    car = MountainCar()\n",
    "    counter = 0\n",
    "    while  not goal_reached:\n",
    "        counter +=1\n",
    "        xp, vp, r, goal_reached = car.move(xp, vp, 1)\n",
    "        if counter> 100000:\n",
    "            print(xp)\n",
    "            print(vp)\n",
    "            print(r)\n",
    "            print(goal_reached)\n",
    "            print (counter)\n",
    "            goal_reached = True\n",
    "check_validity()"
   ]
  },
  {
   "cell_type": "raw",
   "metadata": {},
   "source": [
    "#### Explanation\n",
    "As you can see, in the chech_validity function I used full throttle forward (+1) with the initial velocity equal to zero.Even after 100k steps it doesent reach the goal so it is clear that the car's engine does not have enough power to overcome the gravity and reach the goal. \n",
    "####"
   ]
  },
  {
   "cell_type": "code",
   "execution_count": 3,
   "metadata": {},
   "outputs": [
    {
     "name": "stdout",
     "output_type": "stream",
     "text": [
      "38643\n"
     ]
    }
   ],
   "source": [
    "def play():\n",
    "    xp=(np.random.rand()*0.2)-0.6 #[-0.6,-0.4)\n",
    "    vp=0\n",
    "    goal_reached=False\n",
    "    car = MountainCar()\n",
    "    counter = 0\n",
    "    x=[]\n",
    "    y=[]\n",
    "    while  not goal_reached:\n",
    "        counter +=1\n",
    "        xp, vp, r, goal_reached = car.move(xp, vp, np.random.choice([-1,0,1]))\n",
    "        x.append(xp)\n",
    "        c=0.45*np.sin(3*xp)+0.55\n",
    "        y.append(c)\n",
    "        #print(xp)\n",
    "        #print(vp)\n",
    "        #print(r)\n",
    "        #print(goal_reached)\n",
    "        if goal_reached:\n",
    "            print (counter)\n",
    "    return x , y\n",
    "            \n",
    "xp,yp = play()\n"
   ]
  },
  {
   "cell_type": "markdown",
   "metadata": {},
   "source": [
    "2. Use the Pygame library to develop a simple function that animates a given episode/trajectory. The equation for the mountain is $y = 0.45\\sin(3x) + 0.55$. Use a randomly generated episode from the function you developed above and pass it to your animation function, then plot the results."
   ]
  },
  {
   "cell_type": "code",
   "execution_count": 38,
   "metadata": {},
   "outputs": [],
   "source": [
    "def animation(xp,yp):\n",
    "    xp*=100\n",
    "    xp+=135\n",
    "    yp*=-100\n",
    "    \n",
    "\n",
    "    for i in range(len(xp)):\n",
    "        xp[i]=int(xp[i]*100)+135\n",
    "        yp[i]=100 - yp[i]*100\n",
    "\n",
    "    x= np.linspace(-120, 50, 171)\n",
    "    y=[]\n",
    "    for i in x:\n",
    "        c=0.45*np.sin(3*i/100)+0.55\n",
    "        y.append(int(100-100*c))\n",
    "    x = np.linspace(15, 185, 171)\n",
    "    \n",
    "    pg.init()\n",
    "\n",
    "    win_x = 200\n",
    "    win_y = 100\n",
    "    win = pg.display.set_mode((win_x, win_y))\n",
    "    pg.display.set_caption(\"mountain car\")\n",
    "    clock = pg.time.Clock()\n",
    "    win.fill((0, 0, 0))\n",
    "    for i in range(len(x)):\n",
    "        pg.gfxdraw.pixel(win,int(x[i]),y[i],(255,255,255))\n",
    "    pg.display.update()\n",
    "\n",
    "    for k in range(len(xp)):\n",
    "        clock.tick(100)\n",
    "        for event in pg.event.get():\n",
    "            if event.type == pg.QUIT:\n",
    "                break\n",
    "        win.fill((0, 0, 0))\n",
    "        for i in range(len(x)):\n",
    "            pg.gfxdraw.pixel(win,int(x[i]),y[i],(255,255,255))\n",
    "        pg.draw.rect(win, (255,255,0), (xp[k]-5, yp[k]-2, 10, 4))\n",
    "        pg.display.update()\n",
    "    pg.quit()\n",
    "\n",
    "#animation(xp,yp)"
   ]
  },
  {
   "cell_type": "markdown",
   "metadata": {},
   "source": [
    "## Part II\n",
    "\n",
    "Develop a function approximation procedure based on either **Polynomials** or **Fourier basis** (recommended). Given the current $\\bar{w}$, the developed function approximation method should return the value for each specific state."
   ]
  },
  {
   "cell_type": "code",
   "execution_count": 14,
   "metadata": {},
   "outputs": [],
   "source": [
    "# Your code here\n",
    "def scale(s_):\n",
    "    a=s_[0]\n",
    "    b=s_[1]\n",
    "    d=[(a+1.2)*(1/1.7),(b+0.07)*(1/0.14)]\n",
    "    return d\n",
    "\n",
    "def fourier_basis(w,s):\n",
    "    state=scale(s)\n",
    "    k=len(state)\n",
    "    n=int(np.power(len(w),1/k)-1)\n",
    "    c=[[] for j in range(k)]\n",
    "    for i in range(k):\n",
    "        for j in range(int(np.power(n+1,i))):\n",
    "            for p in range(n+1):\n",
    "                for r in range(int(np.power(n+1,k-i-1))):\n",
    "                    c[i].append(p)\n",
    "    x_i=[]\n",
    "    for i in range(int(np.power(n+1,k))):\n",
    "        angle=0\n",
    "        for j in range(k):\n",
    "            angle +=np.pi*state[j]*c[j][i]\n",
    "        x_i.append(np.cos(angle))\n",
    "    q=0\n",
    "    for i in range(int(np.power(n+1,k))):\n",
    "        q+=w[i]*x_i[i]\n",
    "    return q , x_i\n",
    "\n",
    "\n"
   ]
  },
  {
   "cell_type": "markdown",
   "metadata": {},
   "source": [
    "## Part III\n",
    "\n",
    "1. Implement the **Episodic Semi-gradient $n$-step SARSA** (pp. 247)."
   ]
  },
  {
   "cell_type": "code",
   "execution_count": 41,
   "metadata": {},
   "outputs": [],
   "source": [
    "# Your code here\n",
    "def create_alpha_i(k,n,alpha):\n",
    "    c=[[] for j in range(k)]\n",
    "    alpha_vector=[]\n",
    "    for i in range(k):\n",
    "        for j in range(int(np.power(n+1,i))):\n",
    "            for p in range(n+1):\n",
    "                for r in range(int(np.power(n+1,k-i-1))):\n",
    "                    c[i].append(p)\n",
    "    \n",
    "    for i in range(int(np.power(n+1,k))):\n",
    "        sum_=0\n",
    "        for j in range(k):\n",
    "            sum_+=np.power(c[j][i],2)\n",
    "        if sum_==0:\n",
    "            alpha_vector.append(alpha)\n",
    "        else:\n",
    "            alpha_vector.append(alpha/np.sqrt(sum_))\n",
    "    return alpha_vector\n",
    "        \n",
    "\n",
    "def Episodic_Semi_gradient_n_step_SARSA(n,alpha,n_order,gamma,epsilon):\n",
    "    k=2 #number of states\n",
    "    number_of_actions=3\n",
    "    w = [[0 for i in range(int(np.power(n_order+1,k)))] for i in range(number_of_actions)]\n",
    "    act_vector=[-1,0,1]\n",
    "    alpha_v=create_alpha_i(k,n_order,alpha)# alpha vector\n",
    "    episode=0\n",
    "    step=[]\n",
    "    while episode!=500:\n",
    "        episode+=1\n",
    "        if episode>1:\n",
    "            epsilon=epsilon*0.1\n",
    "        car1 = MountainCar()\n",
    "        t=0\n",
    "        s=[[0,0]]\n",
    "        s[0]=[(np.random.rand()*0.2)-0.6,0]#[x,v] initialize\n",
    "        action=[]\n",
    "        \n",
    "        left_value,_=fourier_basis(w[0],s[t])\n",
    "        stop_value,_=fourier_basis(w[1],s[t])\n",
    "        right_value,_=fourier_basis(w[2],s[t])\n",
    "        q_all_action=[left_value,stop_value,right_value]\n",
    "        if np.random.rand(1)> epsilon:\n",
    "            max_list_index=np.argwhere(q_all_action == np.amax(q_all_action))\n",
    "            first_action=act_vector[np.random.choice(max_list_index.flatten().tolist())]\n",
    "        else:\n",
    "            first_action=np.random.choice(act_vector)\n",
    "        action.append(first_action)\n",
    "        #action.append(np.random.choice(act_vector))\n",
    "        reward=[0]\n",
    "        \n",
    "        T=np.inf\n",
    "        loop=True\n",
    "        #goal_reached=False\n",
    "        while loop:\n",
    "            if t<T:\n",
    "                next_pos, next_vel, r_next, goal_reached = car1.move(s[t][0], s[t][1], action[t])                \n",
    "                reward.append(r_next)\n",
    "                s.append([next_pos,next_vel])\n",
    "\n",
    "                if goal_reached:\n",
    "                    T=t+1\n",
    "                else:\n",
    "                    next_t=t+1\n",
    "                    left_value,_=fourier_basis(w[0],s[next_t])\n",
    "                    stop_value,_=fourier_basis(w[1],s[next_t])\n",
    "                    right_value,_=fourier_basis(w[2],s[next_t])\n",
    "                    q_all_action=[left_value,stop_value,right_value]\n",
    "                    if np.random.rand(1)> epsilon:\n",
    "                        max_list_index=np.argwhere(q_all_action == np.amax(q_all_action))\n",
    "                        next_action=act_vector[np.random.choice(max_list_index.flatten().tolist())]\n",
    "\n",
    "                    else:\n",
    "                        next_action=np.random.choice(act_vector)\n",
    "                    action.append(next_action)\n",
    "            taw=t-n+1\n",
    "            if taw>=0:\n",
    "                G=0\n",
    "                for i in range(taw+1,1+min(taw+n,T)):\n",
    "                    G+=np.power(gamma,i-taw-1)*reward[i]\n",
    "                if taw+n <T:\n",
    "                    q_,_=fourier_basis(w[action[taw+n]+1],s[taw+n])#act_value+1 === action index : [-1,0,1]+1===[0,1,2]\n",
    "                    G+=np.power(gamma,n)*q_\n",
    "                q,x_i=fourier_basis(w[action[taw]+1],s[taw])\n",
    "                for i in range(len(w[0])):\n",
    "                    w[action[taw]+1][i]+=alpha_v[i]*(G-q)*x_i[i]\n",
    "            t+=1\n",
    "            if taw==T-1:\n",
    "                loop=False\n",
    "            #print(w)\n",
    "            #print(\"#############\")\n",
    "        step.append(T)\n",
    "        print(episode)\n",
    "    return step , s , w\n",
    "            \n"
   ]
  },
  {
   "cell_type": "code",
   "execution_count": 57,
   "metadata": {},
   "outputs": [
    {
     "name": "stdout",
     "output_type": "stream",
     "text": [
      "1\n",
      "2\n",
      "3\n",
      "4\n",
      "5\n",
      "6\n",
      "7\n",
      "8\n",
      "9\n",
      "10\n",
      "11\n",
      "12\n",
      "13\n",
      "14\n"
     ]
    },
    {
     "ename": "KeyboardInterrupt",
     "evalue": "",
     "output_type": "error",
     "traceback": [
      "\u001b[0;31m---------------------------------------------------------------------------\u001b[0m",
      "\u001b[0;31mKeyboardInterrupt\u001b[0m                         Traceback (most recent call last)",
      "\u001b[0;32m<ipython-input-57-8d5948ef4309>\u001b[0m in \u001b[0;36m<module>\u001b[0;34m\u001b[0m\n\u001b[0;32m----> 1\u001b[0;31m \u001b[0mstep\u001b[0m\u001b[0;34m,\u001b[0m\u001b[0mstates\u001b[0m\u001b[0;34m,\u001b[0m\u001b[0mw\u001b[0m\u001b[0;34m=\u001b[0m\u001b[0mEpisodic_Semi_gradient_n_step_SARSA\u001b[0m\u001b[0;34m(\u001b[0m\u001b[0;36m1\u001b[0m\u001b[0;34m,\u001b[0m\u001b[0;36m0.00001\u001b[0m\u001b[0;34m,\u001b[0m\u001b[0;36m3\u001b[0m\u001b[0;34m,\u001b[0m\u001b[0;36m1\u001b[0m\u001b[0;34m,\u001b[0m\u001b[0;36m0.1\u001b[0m\u001b[0;34m)\u001b[0m\u001b[0;34m\u001b[0m\u001b[0;34m\u001b[0m\u001b[0m\n\u001b[0m",
      "\u001b[0;32m<ipython-input-41-a528c9e116d9>\u001b[0m in \u001b[0;36mEpisodic_Semi_gradient_n_step_SARSA\u001b[0;34m(n, alpha, n_order, gamma, epsilon)\u001b[0m\n\u001b[1;32m     83\u001b[0m                     \u001b[0mq_\u001b[0m\u001b[0;34m,\u001b[0m\u001b[0m_\u001b[0m\u001b[0;34m=\u001b[0m\u001b[0mfourier_basis\u001b[0m\u001b[0;34m(\u001b[0m\u001b[0mw\u001b[0m\u001b[0;34m[\u001b[0m\u001b[0maction\u001b[0m\u001b[0;34m[\u001b[0m\u001b[0mtaw\u001b[0m\u001b[0;34m+\u001b[0m\u001b[0mn\u001b[0m\u001b[0;34m]\u001b[0m\u001b[0;34m+\u001b[0m\u001b[0;36m1\u001b[0m\u001b[0;34m]\u001b[0m\u001b[0;34m,\u001b[0m\u001b[0ms\u001b[0m\u001b[0;34m[\u001b[0m\u001b[0mtaw\u001b[0m\u001b[0;34m+\u001b[0m\u001b[0mn\u001b[0m\u001b[0;34m]\u001b[0m\u001b[0;34m)\u001b[0m\u001b[0;31m#act_value+1 === action index : [-1,0,1]+1===[0,1,2]\u001b[0m\u001b[0;34m\u001b[0m\u001b[0;34m\u001b[0m\u001b[0m\n\u001b[1;32m     84\u001b[0m                     \u001b[0mG\u001b[0m\u001b[0;34m+=\u001b[0m\u001b[0mnp\u001b[0m\u001b[0;34m.\u001b[0m\u001b[0mpower\u001b[0m\u001b[0;34m(\u001b[0m\u001b[0mgamma\u001b[0m\u001b[0;34m,\u001b[0m\u001b[0mn\u001b[0m\u001b[0;34m)\u001b[0m\u001b[0;34m*\u001b[0m\u001b[0mq_\u001b[0m\u001b[0;34m\u001b[0m\u001b[0;34m\u001b[0m\u001b[0m\n\u001b[0;32m---> 85\u001b[0;31m                 \u001b[0mq\u001b[0m\u001b[0;34m,\u001b[0m\u001b[0mx_i\u001b[0m\u001b[0;34m=\u001b[0m\u001b[0mfourier_basis\u001b[0m\u001b[0;34m(\u001b[0m\u001b[0mw\u001b[0m\u001b[0;34m[\u001b[0m\u001b[0maction\u001b[0m\u001b[0;34m[\u001b[0m\u001b[0mtaw\u001b[0m\u001b[0;34m]\u001b[0m\u001b[0;34m+\u001b[0m\u001b[0;36m1\u001b[0m\u001b[0;34m]\u001b[0m\u001b[0;34m,\u001b[0m\u001b[0ms\u001b[0m\u001b[0;34m[\u001b[0m\u001b[0mtaw\u001b[0m\u001b[0;34m]\u001b[0m\u001b[0;34m)\u001b[0m\u001b[0;34m\u001b[0m\u001b[0;34m\u001b[0m\u001b[0m\n\u001b[0m\u001b[1;32m     86\u001b[0m                 \u001b[0;32mfor\u001b[0m \u001b[0mi\u001b[0m \u001b[0;32min\u001b[0m \u001b[0mrange\u001b[0m\u001b[0;34m(\u001b[0m\u001b[0mlen\u001b[0m\u001b[0;34m(\u001b[0m\u001b[0mw\u001b[0m\u001b[0;34m[\u001b[0m\u001b[0;36m0\u001b[0m\u001b[0;34m]\u001b[0m\u001b[0;34m)\u001b[0m\u001b[0;34m)\u001b[0m\u001b[0;34m:\u001b[0m\u001b[0;34m\u001b[0m\u001b[0;34m\u001b[0m\u001b[0m\n\u001b[1;32m     87\u001b[0m                     \u001b[0mw\u001b[0m\u001b[0;34m[\u001b[0m\u001b[0maction\u001b[0m\u001b[0;34m[\u001b[0m\u001b[0mtaw\u001b[0m\u001b[0;34m]\u001b[0m\u001b[0;34m+\u001b[0m\u001b[0;36m1\u001b[0m\u001b[0;34m]\u001b[0m\u001b[0;34m[\u001b[0m\u001b[0mi\u001b[0m\u001b[0;34m]\u001b[0m\u001b[0;34m+=\u001b[0m\u001b[0malpha_v\u001b[0m\u001b[0;34m[\u001b[0m\u001b[0mi\u001b[0m\u001b[0;34m]\u001b[0m\u001b[0;34m*\u001b[0m\u001b[0;34m(\u001b[0m\u001b[0mG\u001b[0m\u001b[0;34m-\u001b[0m\u001b[0mq\u001b[0m\u001b[0;34m)\u001b[0m\u001b[0;34m*\u001b[0m\u001b[0mx_i\u001b[0m\u001b[0;34m[\u001b[0m\u001b[0mi\u001b[0m\u001b[0;34m]\u001b[0m\u001b[0;34m\u001b[0m\u001b[0;34m\u001b[0m\u001b[0m\n",
      "\u001b[0;32m<ipython-input-14-13b5d4616999>\u001b[0m in \u001b[0;36mfourier_basis\u001b[0;34m(w, s)\u001b[0m\n\u001b[1;32m     15\u001b[0m             \u001b[0;32mfor\u001b[0m \u001b[0mp\u001b[0m \u001b[0;32min\u001b[0m \u001b[0mrange\u001b[0m\u001b[0;34m(\u001b[0m\u001b[0mn\u001b[0m\u001b[0;34m+\u001b[0m\u001b[0;36m1\u001b[0m\u001b[0;34m)\u001b[0m\u001b[0;34m:\u001b[0m\u001b[0;34m\u001b[0m\u001b[0;34m\u001b[0m\u001b[0m\n\u001b[1;32m     16\u001b[0m                 \u001b[0;32mfor\u001b[0m \u001b[0mr\u001b[0m \u001b[0;32min\u001b[0m \u001b[0mrange\u001b[0m\u001b[0;34m(\u001b[0m\u001b[0mint\u001b[0m\u001b[0;34m(\u001b[0m\u001b[0mnp\u001b[0m\u001b[0;34m.\u001b[0m\u001b[0mpower\u001b[0m\u001b[0;34m(\u001b[0m\u001b[0mn\u001b[0m\u001b[0;34m+\u001b[0m\u001b[0;36m1\u001b[0m\u001b[0;34m,\u001b[0m\u001b[0mk\u001b[0m\u001b[0;34m-\u001b[0m\u001b[0mi\u001b[0m\u001b[0;34m-\u001b[0m\u001b[0;36m1\u001b[0m\u001b[0;34m)\u001b[0m\u001b[0;34m)\u001b[0m\u001b[0;34m)\u001b[0m\u001b[0;34m:\u001b[0m\u001b[0;34m\u001b[0m\u001b[0;34m\u001b[0m\u001b[0m\n\u001b[0;32m---> 17\u001b[0;31m                     \u001b[0mc\u001b[0m\u001b[0;34m[\u001b[0m\u001b[0mi\u001b[0m\u001b[0;34m]\u001b[0m\u001b[0;34m.\u001b[0m\u001b[0mappend\u001b[0m\u001b[0;34m(\u001b[0m\u001b[0mp\u001b[0m\u001b[0;34m)\u001b[0m\u001b[0;34m\u001b[0m\u001b[0;34m\u001b[0m\u001b[0m\n\u001b[0m\u001b[1;32m     18\u001b[0m     \u001b[0mx_i\u001b[0m\u001b[0;34m=\u001b[0m\u001b[0;34m[\u001b[0m\u001b[0;34m]\u001b[0m\u001b[0;34m\u001b[0m\u001b[0;34m\u001b[0m\u001b[0m\n\u001b[1;32m     19\u001b[0m     \u001b[0;32mfor\u001b[0m \u001b[0mi\u001b[0m \u001b[0;32min\u001b[0m \u001b[0mrange\u001b[0m\u001b[0;34m(\u001b[0m\u001b[0mint\u001b[0m\u001b[0;34m(\u001b[0m\u001b[0mnp\u001b[0m\u001b[0;34m.\u001b[0m\u001b[0mpower\u001b[0m\u001b[0;34m(\u001b[0m\u001b[0mn\u001b[0m\u001b[0;34m+\u001b[0m\u001b[0;36m1\u001b[0m\u001b[0;34m,\u001b[0m\u001b[0mk\u001b[0m\u001b[0;34m)\u001b[0m\u001b[0;34m)\u001b[0m\u001b[0;34m)\u001b[0m\u001b[0;34m:\u001b[0m\u001b[0;34m\u001b[0m\u001b[0;34m\u001b[0m\u001b[0m\n",
      "\u001b[0;31mKeyboardInterrupt\u001b[0m: "
     ]
    }
   ],
   "source": [
    "step,states,w=Episodic_Semi_gradient_n_step_SARSA(1,0.000001,3,1,0.1)"
   ]
  },
  {
   "cell_type": "code",
   "execution_count": 56,
   "metadata": {
    "scrolled": true
   },
   "outputs": [
    {
     "name": "stdout",
     "output_type": "stream",
     "text": [
      "[16739, 7561, 5871, 6657, 8502, 6512, 10287, 3264, 8130, 1703, 5143, 3453, 2202, 1488, 3814, 5178, 3126, 1952, 5993, 3227, 3023, 3604, 3451, 2323, 2824, 1483, 2210, 2280, 1247, 2976, 2346, 5126, 2957, 1723, 2179, 2688, 1802, 1267, 3570, 1676, 2426, 1998, 3021, 1730, 1266, 2569, 1932, 1836, 745, 2484, 659, 2883, 2102, 1703, 810, 2902, 2087, 3120, 1321, 1516, 886, 1318, 1746, 2306, 1354, 1874, 976, 1387, 2855, 1058, 1646, 2661, 482, 2512, 93, 1262, 2577, 1860, 521, 1586, 1344, 517, 1225, 878, 1926, 1533, 2000, 1278, 623, 939, 1566, 1033, 622, 1875, 1278, 1127, 1161, 1284, 2342, 1052, 1087, 663, 1456, 1010, 1658, 1327, 977, 487, 1360, 742, 1170, 1602, 834, 674, 895, 629, 386, 1798, 774, 866, 1812, 1485, 905, 538, 1707, 842, 658, 967, 1059, 1151, 1110, 527, 1009, 503, 556, 1224, 371, 1212, 774, 841, 839, 518, 966, 746, 922, 922, 669, 622, 1591, 1081, 1209, 473, 1092, 127, 1900, 329, 841, 883, 1327, 1275, 161, 735, 865, 918, 631, 1010, 1126, 326, 752, 1274, 350, 1161, 861, 897, 670, 1093, 89, 1036, 697, 310, 418, 866, 426, 871, 464, 187, 1816, 1003, 428, 752, 387, 121, 1422, 1276, 531, 597, 499, 115, 2271, 1486, 663, 263, 703, 1261, 727, 580, 486, 650, 628, 749, 582, 115, 342, 1405, 237, 829, 614, 958, 694, 127, 1005, 338, 490, 541, 415, 694, 110, 1092, 198, 1289, 1001, 116, 708, 385, 367, 584, 619, 270, 1326, 999, 249, 666, 567, 566, 109, 941, 497, 762, 191, 1165, 192, 249, 1707, 467, 511, 869, 370, 360, 506, 541, 649, 691, 108, 795, 534, 128, 353, 686, 795, 723, 347, 757, 318, 280, 823, 212, 238, 450, 1813, 573, 523, 174, 209, 288, 498, 198, 1678, 385, 202, 1034, 121, 548, 771, 201, 225, 1091, 447, 217, 491, 219, 510, 418, 763, 206, 346, 400, 333, 357, 984, 288, 440, 868, 227, 89, 548, 1244, 212, 217, 527, 820, 607, 561, 168, 373, 444, 667, 236, 606, 390, 917, 809, 952, 122, 695, 104, 597, 1053, 344, 139, 268, 803, 237, 673, 345, 114, 239, 628, 290, 416, 434, 448, 676, 158, 403, 976, 661, 267, 501, 228, 274, 572, 467, 301, 449, 151, 240, 842, 256, 653, 183, 310, 720, 118, 1076, 108, 211, 206, 522, 293, 371, 345, 488, 367, 456, 609, 553, 230, 100, 282, 641, 202, 708, 259, 730, 108, 330, 316, 309, 107, 892, 357, 213, 454, 1018, 189, 253, 259, 334, 215, 760, 169, 227, 523, 434, 209, 291, 468, 354, 138, 196, 125, 271, 467, 193, 189, 709, 269, 578, 179, 260, 439, 205, 224, 212, 350, 189, 250, 295, 115, 403, 573, 199, 222, 339, 121, 248, 210, 365, 442, 315, 216, 185, 186, 597, 227, 397, 247, 443, 232, 202, 340, 230, 233, 768, 265, 328, 849, 86, 241, 263, 450, 235, 214, 150, 270, 636, 246, 103, 511, 219, 287, 461, 111, 282, 207, 257, 298, 665, 600, 133, 177, 197, 212, 159, 346, 219, 811, 212, 304, 136]\n"
     ]
    }
   ],
   "source": [
    "print(step)\n",
    "x=[]\n",
    "y=[]\n",
    "for i in range(len(states)):\n",
    "    x.append(states[i][0])\n",
    "    y.append(0.45*np.sin(3*states[i][0])+0.55)\n",
    "\n",
    "\n",
    "\n",
    "animation(x,y)"
   ]
  },
  {
   "cell_type": "code",
   "execution_count": 51,
   "metadata": {},
   "outputs": [
    {
     "data": {
      "image/png": "[encoded data removed]",
      "text/plain": [
       "<Figure size 432x288 with 1 Axes>"
      ]
     },
     "metadata": {
      "needs_background": "light"
     },
     "output_type": "display_data"
    }
   ],
   "source": [
    "plt.plot(step)\n",
    "plt.yscale(\"log\")"
   ]
  },
  {
   "cell_type": "code",
   "execution_count": 58,
   "metadata": {
    "scrolled": true
   },
   "outputs": [
    {
     "name": "stdout",
     "output_type": "stream",
     "text": [
      "[[-24.457469752597987, -0.5253378114467874, 6.755787916981043, 0.17329065655909978, -5.9862576117396085, 10.9718255426904, 1.419859741306379, -0.8174186486156594, 4.440966384742459, 2.126275713563289, -0.7507725848118395, 0.05594871709765387, 0.9500380172724879, -0.14834294004276033, 0.13585837522158575, -0.2913233823861152], [-24.456045864630248, -0.5284367781573844, 6.756741712115043, 0.17240308577449895, -5.981947363631614, 10.97395520494842, 1.4212132460861004, -0.8143727161105395, 4.439732867690366, 2.12504773354031, -0.7514873853386934, 0.05524551324361213, 0.9503163100649008, -0.14884903750950057, 0.134980127313633, -0.29017219699675517], [-24.43280565976545, -0.5519479489924425, 6.7629875197626745, 0.16242650282666257, -6.0044483946504315, 10.997611285877682, 1.4283487179027061, -0.8132335364252463, 4.45035129562912, 2.0917478653323442, -0.7393115492848071, 0.05309968012341375, 0.9561770844531907, -0.14548305964704167, 0.1309788427992616, -0.2884347511444722]]\n"
     ]
    }
   ],
   "source": [
    "print(w)"
   ]
  },
  {
   "cell_type": "markdown",
   "metadata": {},
   "source": [
    "2. Use the algorithm to learn the Mountain Car task with $n \\in \\{1, 8, 16\\}$. Tune the step-size parameter ($\\alpha$), select a proper Function Approximation order, discount factor ($\\gamma$), exploration probability ($\\varepsilon$). Plot step-per-episode (in log scale) vs. number of episodes. This plot should be averaged over 50-100 runs.    "
   ]
  },
  {
   "cell_type": "code",
   "execution_count": 6,
   "metadata": {},
   "outputs": [],
   "source": [
    "# Your code here"
   ]
  },
  {
   "cell_type": "markdown",
   "metadata": {},
   "source": [
    "3. Show an animation of the task for each $n$."
   ]
  },
  {
   "cell_type": "code",
   "execution_count": 7,
   "metadata": {},
   "outputs": [],
   "source": [
    "# Your code here"
   ]
  },
  {
   "cell_type": "markdown",
   "metadata": {},
   "source": [
    "4. Which value of $n$ results in faster learning? Why?\n",
    "> Answer"
   ]
  }
 ],
 "metadata": {
  "kernelspec": {
   "display_name": "Python 3",
   "language": "python",
   "name": "python3"
  },
  "language_info": {
   "codemirror_mode": {
    "name": "ipython",
    "version": 3
   },
   "file_extension": ".py",
   "mimetype": "text/x-python",
   "name": "python",
   "nbconvert_exporter": "python",
   "pygments_lexer": "ipython3",
   "version": "3.6.9"
  }
 },
 "nbformat": 4,
 "nbformat_minor": 2
}
