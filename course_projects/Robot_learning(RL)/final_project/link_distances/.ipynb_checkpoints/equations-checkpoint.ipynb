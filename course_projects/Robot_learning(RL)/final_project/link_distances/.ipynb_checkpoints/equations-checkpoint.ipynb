{
 "cells": [
  {
   "cell_type": "markdown",
   "metadata": {},
   "source": [
    "Distance between two frame in two embodiment:\n",
    "$$d(s_i,\\hat{s}_j) = \\alpha_{tr}d_{tr} ~+~ \\alpha_{rot}d_{rot} ~+~ \\alpha_vd_v ~+~ \\alpha_{\\omega}d_{\\omega} ,  which$$\n",
    "$$s_i = (T_i,\\nu_i) and \\hat{s}_j = (\\hat{T}_j,\\hat{\\nu}_j)$$ \n",
    "Translation distance:\n",
    "$$d_{tr}=||p_i-\\hat{p}_j||$$\n",
    "Rotational distance:\n",
    "$$d_{rot}=\\frac{\\pi}{2}(1-e_x^i.\\hat{e}_{x}^{j})$$\n",
    "velocity distance:\n",
    "$$d_v=||\\dot{p_i} - \\dot{\\hat{p}_j}||$$\n",
    "Angular velocity distance:\n",
    "$$d_\\omega = ||\\omega_i^s -\\hat{\\omega}_j^s||$$\n",
    "Distance matrix between tow embodiment:\n",
    "$$D^{'}(s,\\hat{s}) = \\sum_{i=1}^n \\sum_{j=1}^{\\hat{n}}d(s_i,\\hat{s}_j)$$\n",
    "Modified distance matrix with correspondence matrix:\n",
    "$$D=D^{'}(s,\\hat{s}) \\circ W(s,\\hat{s})$$\n",
    "The scalar distance measure between tow embodiment's:\n",
    "$$\\bar{D}=\\frac{\\sum_{i=1}^n \\sum_{j=1}^{\\hat{n}}D_{n\\times\\hat{n}}}{n\\hat{n}}$$"
   ]
  },
  {
   "cell_type": "code",
   "execution_count": null,
   "metadata": {},
   "outputs": [],
   "source": []
  }
 ],
 "metadata": {
  "kernelspec": {
   "display_name": "Python 3",
   "language": "python",
   "name": "python3"
  },
  "language_info": {
   "codemirror_mode": {
    "name": "ipython",
    "version": 3
   },
   "file_extension": ".py",
   "mimetype": "text/x-python",
   "name": "python",
   "nbconvert_exporter": "python",
   "pygments_lexer": "ipython3",
   "version": "3.6.9"
  }
 },
 "nbformat": 4,
 "nbformat_minor": 4
}
