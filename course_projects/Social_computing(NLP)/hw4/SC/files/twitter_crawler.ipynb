{
 "cells": [
  {
   "cell_type": "markdown",
   "metadata": {},
   "source": [
    "# Twitter Crawler\n",
    "\n",
    "The first thing you need to do is to create an application:\n",
    "\n",
    "[Twitter Apps](https://apps.twitter.com/) Select the **Create New App** button and follow instructions to the end.\n",
    "\n",
    "and obtain the following keys/tokens for authentication:\n",
    "\n",
    "* consumer_key\n",
    "* consumer_secre\n",
    "* access_token\n",
    "* access_token_secret\n",
    "\n",
    "**Note** Generating Twitter API keys can take anywhere from minutes to weeks "
   ]
  },
  {
   "cell_type": "markdown",
   "metadata": {},
   "source": [
    "# **Tweepy**\n",
    "\n",
    "> Tweepy is one of the best packages for working with twiter APIs [More](https://www.tweepy.org/)"
   ]
  },
  {
   "cell_type": "code",
   "execution_count": null,
   "metadata": {},
   "outputs": [],
   "source": [
    "import tweepy\n",
    "from columnar import columnar\n",
    "\n",
    "#First update below varibales with your own information\n",
    "consumer_key = \"\"\n",
    "consumer_secret = \"\"\n",
    "access_token = \"\"\n",
    "access_token_secret = \"\"\n",
    "\n",
    "\n",
    "# Setting up Tweepy authorization\n",
    "auth = tweepy.OAuthHandler(consumer_key, consumer_secret)\n",
    "auth.set_access_token(access_token, access_token_secret)\n",
    "api = tweepy.API(auth, wait_on_rate_limit=True)"
   ]
  },
  {
   "cell_type": "markdown",
   "metadata": {},
   "source": [
    "**Getting user’s Tweets**\n",
    ">Main parameters:\n",
    "> * id – Specifies the ID or screen name of the user.\n",
    "> * count – Max amount of most recent tweets of user. <br>\n",
    "> * [More Details](\"https://tweepy.readthedocs.io/en/latest/api.html#API.user_timeline/\")"
   ]
  },
  {
   "cell_type": "code",
   "execution_count": null,
   "metadata": {},
   "outputs": [],
   "source": [
    "import json\n",
    "\n",
    "username = 'boredbengio'\n",
    "count = 5\n",
    "\n",
    "# Only iterate through the first n statuses\n",
    "tweets = tweepy.Cursor(api.user_timeline,\n",
    "                       id=username).items(count)\n",
    "\n",
    "\n",
    "# Pulling information from tweets iterable object\n",
    "tweets_list = [[tweet.id, tweet.created_at, tweet.text] for tweet in tweets]\n",
    "\n",
    "\n",
    "#print tweets\n",
    "headers = ['id', ' created_at','text']\n",
    "table = columnar(tweets_list, headers, no_borders=True)\n",
    "print(table)\n",
    "\n",
    "\n",
    "# what are the current attributes/tags in a tweet?\n",
    "# https://jsoneditoronline.org/\n",
    "tweet = api.get_status('1420646753863225349')\n",
    "print(json.dumps(tweet._json))\n",
    "\n",
    "\n"
   ]
  },
  {
   "cell_type": "markdown",
   "metadata": {},
   "source": [
    "**Pagination**\n",
    ">Main parameters:\n",
    "> * count – Max number of pages. <br>\n",
    "> * [More Details](\"https://docs.tweepy.org/en/stable/pagination.html\")"
   ]
  },
  {
   "cell_type": "code",
   "execution_count": null,
   "metadata": {},
   "outputs": [],
   "source": [
    "\n",
    "# pagination.. iterate through pages\n",
    "count = 1\n",
    "for page in tweepy.Cursor(api.user_timeline,id=username).pages(count):\n",
    "    searched_tweets = [status for status in page]\n",
    "    ids_texts = [(json_obj.id, json_obj.text) for json_obj in searched_tweets]\n",
    "    for id, text in ids_texts:\n",
    "        print(id, text[:30])\n",
    "    # searched_tweets = [status._json for status in page]\n",
    "    #json_strings = [json.dumps(json_obj) for json_obj in searched_tweets]  \n",
    "    #print(json_strings[0])\n",
    "    \n"
   ]
  },
  {
   "cell_type": "markdown",
   "metadata": {},
   "source": [
    "**Getting a user's followers**\n",
    ">Main parameters:\n",
    "> * user_id – Specifies the ID of the user.\n",
    "> * [More Details](\"http://docs.tweepy.org/en/v3.5.0/api.html#API.followers_ids\")\n"
   ]
  },
  {
   "cell_type": "code",
   "execution_count": null,
   "metadata": {},
   "outputs": [],
   "source": [
    "\n",
    "user_id='14861663'\n",
    "count = 5\n",
    "\n",
    "followers = tweepy.Cursor(api.followers_ids,\n",
    "                          user_id=user_id).items(count)\n",
    "\n",
    "user_list = [[user] for user in followers]\n",
    "\n",
    "headers = ['user_id']\n",
    "table = columnar(user_list, headers, no_borders=True)\n",
    "print(table) "
   ]
  },
  {
   "cell_type": "markdown",
   "metadata": {},
   "source": [
    "**Getting user's followees**\n",
    ">Main parameters:\n",
    "> * user_id – Specifies the ID of the user.\n",
    "> * [More Details](\"http://docs.tweepy.org/en/v3.5.0/api.html#API.friends_ids\")"
   ]
  },
  {
   "cell_type": "code",
   "execution_count": null,
   "metadata": {},
   "outputs": [],
   "source": [
    "user_id='14861663'\n",
    "count = 5\n",
    "    \n",
    "friends = tweepy.Cursor(api.friends,\n",
    "                        user_id=user_id).items(count)\n",
    "    \n",
    "# Pulling information from tweets iterable object\n",
    "user_list = [[user.id,  user.screen_name, user.created_at] for user in friends]\n",
    "\n",
    "#print users\n",
    "headers = ['user_id', ' screen_name','created_at']\n",
    "table = columnar(user_list, headers, no_borders=True)\n",
    "print(table)   \n"
   ]
  },
  {
   "cell_type": "markdown",
   "metadata": {},
   "source": [
    "\n",
    "**Getting tweet with specific id**\n",
    "> helpful when you only have tweet ids and would like to get the corresponding attributes such as text.\n"
   ]
  },
  {
   "cell_type": "code",
   "execution_count": null,
   "metadata": {
    "scrolled": true
   },
   "outputs": [],
   "source": [
    "import json \n",
    "\n",
    "tweet_id='1255894886051713030'\n",
    "\n",
    "tweet = api.get_status(tweet_id)\n",
    "\n",
    "tweet_list = [tweet.text, tweet.favorite_count, tweet.retweet_count]\n",
    "print(tweet_list)\n",
    "\n",
    "json_tweet = json.dumps(tweet._json)\n",
    "\n",
    "print( json_tweet)"
   ]
  },
  {
   "cell_type": "markdown",
   "metadata": {},
   "source": [
    "**Twitter Search**\n",
    " > To search Twitter for recent tweets, we will define search terms and a start date of for search. [More Details](http://docs.tweepy.org/en/latest/api.html#API.search)<br>\n",
    " > - For creating complex queries please see [Building standard queries](https://developer.twitter.com/en/docs/twitter-api/v1/rules-and-filtering/overview/standard-operators)\n",
    " > - Twitter API only allows you to access the past few weeks of tweets, so you cannot dig into the history too far.\n"
   ]
  },
  {
   "cell_type": "code",
   "execution_count": null,
   "metadata": {},
   "outputs": [],
   "source": [
    "# Define the search term and the date_since date\n",
    "\n",
    "search_words = \"#disneyland -filter:retweets\"\n",
    "\n",
    "# Collect tweets\n",
    "tweets = tweepy.Cursor(api.search,\n",
    "                       q=search_words,\n",
    "                       lang=\"en\").items(5)\n",
    "\n",
    "# Pulling information from tweets iterable object\n",
    "tweets_list = [[tweet.id, tweet.created_at, tweet.text] for tweet in tweets]\n",
    "\n",
    "#print tweets\n",
    "headers = ['id', ' created_at','text']\n",
    "table = columnar(tweets_list, headers, no_borders=True)\n",
    "print(table)\n"
   ]
  },
  {
   "cell_type": "markdown",
   "metadata": {},
   "source": [
    "**Twitter Streaming API**\n",
    "> The Twitter streaming API is used to download twitter messages in real time. In Tweepy, an instance of tweepy.Stream establishes a streaming session and routes messages to StreamListener instance. The on_data method of a stream listener receives all messages and calls functions according to the message type.<br>\n",
    "> Using the streaming api has three steps: \n",
    "> - Create a class inheriting from StreamListener\n",
    "> - Using that class create a Stream object\n",
    "> - Connect to the Twitter API using the Stream.\n",
    "[More Details](https://docs.tweepy.org/en/v3.5.0/streaming_how_to.html)\n",
    "\n",
    "*What kinds of filters can be used?*: [see here](https://developer.twitter.com/en/docs/twitter-api/v1/tweets/filter-realtime/api-reference/post-statuses-filter)\n",
    "\n",
    "*What are the error codes and how to handel them*: [see here](https://developer.twitter.com/en/docs/twitter-api/v1/tweets/filter-realtime/guides/streaming-message-types)"
   ]
  },
  {
   "cell_type": "code",
   "execution_count": null,
   "metadata": {},
   "outputs": [],
   "source": [
    "\n",
    "# Creating a StreamListener\n",
    "class MyStreamListener(tweepy.StreamListener):\n",
    "\n",
    "    #override tweepy.StreamListener to add logic to on_status\n",
    "    def on_status(self, status):\n",
    "        print('{}\\t{}\\n'.format(status.created_at,status.text))\n",
    "        \n",
    "# Creating a Stream\n",
    "myStreamListener = MyStreamListener()\n",
    "myStream = tweepy.Stream(auth = api.auth, listener=myStreamListener)        \n",
    "\n",
    "# Starting a Stream\n",
    "\n",
    "# we will use filter to stream all tweets containing the hashtag '#covid19' and the query 'apple'\n",
    "myStream.filter(track=['#covid19','apple'])\n",
    "\n",
    "\n"
   ]
  },
  {
   "cell_type": "code",
   "execution_count": null,
   "metadata": {},
   "outputs": [],
   "source": [
    "consumer_key = \"**\"\n",
    "consumer_secret = \"**\"\n",
    "access_token = \"**\"\n",
    "access_token_secret = \"**\""
   ]
  },
  {
   "cell_type": "code",
   "execution_count": null,
   "metadata": {},
   "outputs": [],
   "source": []
  }
 ],
 "metadata": {
  "kernelspec": {
   "display_name": "Python 3",
   "language": "python",
   "name": "python3"
  },
  "language_info": {
   "codemirror_mode": {
    "name": "ipython",
    "version": 3
   },
   "file_extension": ".py",
   "mimetype": "text/x-python",
   "name": "python",
   "nbconvert_exporter": "python",
   "pygments_lexer": "ipython3",
   "version": "3.8.2"
  }
 },
 "nbformat": 4,
 "nbformat_minor": 4
}
