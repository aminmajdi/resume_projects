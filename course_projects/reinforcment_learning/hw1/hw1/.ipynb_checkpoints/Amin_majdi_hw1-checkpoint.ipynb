{
 "cells": [
  {
   "cell_type": "markdown",
   "metadata": {},
   "source": [
    "<center>\n",
    "    COMP4600/5300 - Reinforcement Learning\n",
    "\n",
    "# Homework 1 - K-armed Bandit Algorithms\n",
    "\n",
    "### Due: Monday, September 14th 11:59 pm\n",
    "    \n",
    "</center>"
   ]
  },
  {
   "cell_type": "markdown",
   "metadata": {},
   "source": [
    "Student Name: Amin Majdi "
   ]
  },
  {
   "cell_type": "markdown",
   "metadata": {},
   "source": [
    "The purpose of this homework is to study different properties of multi-armed bandit algorithms."
   ]
  },
  {
   "cell_type": "code",
   "execution_count": 1,
   "metadata": {},
   "outputs": [],
   "source": [
    "# You are allowed to use the following modules\n",
    "import numpy as np\n",
    "import matplotlib.pyplot as plt "
   ]
  },
  {
   "cell_type": "markdown",
   "metadata": {},
   "source": [
    "## Part 1 \n",
    "\n",
    "Build a testbed by generating 500 randomly selected k-armed bandit problems with $k = 7$.\n",
    "For each bandit problem, select the true action values from a Gaussian distribution with mean 0 and variance 1.0. For each action $a$, select an actual reward value from a normal distribution with mean $Q^*(a)$ and variance 1.0. For an algorithm, one run includes playing a single bandit problem for 1000 time steps. The algorithm's behavior will be evaluated by averaging its performance over 500 bandit problems."
   ]
  },
  {
   "cell_type": "code",
   "execution_count": 2,
   "metadata": {},
   "outputs": [],
   "source": [
    "# Write a function that generates one k-armed bandit problem\n",
    "# that returns Q*(a) for that problem\n",
    "\n",
    "# Your code here\n",
    "def k_armed_bandit():\n",
    "    Q_star=[np.random.normal(0,1,num_arms)for i in range(num_runs)]\n",
    "    return Q_star #it a Q*=[num_arms*num_runs] for all runs \n",
    "    \n",
    "\n"
   ]
  },
  {
   "cell_type": "markdown",
   "metadata": {},
   "source": [
    "## Part 2\n",
    "\n",
    "Implement the sample-average algorithm and run it on the testbed you developed in previous part according to the following settings:\n",
    "1. Using greedy action selection\n",
    "2. Using $\\varepsilon$-greedy action selection with $\\varepsilon=0.01$ and $\\varepsilon=0.1$\n",
    "3. Using upper-confidence bound action selection with $c=1$ and $c=2$\n"
   ]
  },
  {
   "cell_type": "code",
   "execution_count": 3,
   "metadata": {},
   "outputs": [],
   "source": [
    "# Write a function that plays a given k-armed bandit problem\n",
    "# this function should include greedy, epsilon-greedy and UCB action selection strategies.\n",
    "# You can include all strategies in one function or write two functions (one for epsilon-greedy and another for UCB)\n",
    "# your implementation should return the selected action and the reward gained by selecting that action\n",
    "\n",
    "# Your code here\n",
    "def play_k_armed_bandit(e,c,Q_star):\n",
    "    optimal_value_index=np.empty(shape=(num_runs,1),dtype='object')\n",
    "    reward = np.empty(shape=(num_runs,num_timesteps),dtype='object')\n",
    "    is_optimal=np.empty(shape=(num_runs,num_timesteps),dtype='object')\n",
    "    \n",
    "    for i in range(num_runs):\n",
    "        q=Q_star[i][:]\n",
    "        optimal_value_index[i]=np.argmax(q)\n",
    "        Q_t=[0]*num_arms\n",
    "        action_counter=[0]*num_arms # how many times the action is selected\n",
    "        \n",
    "        for j in range(num_timesteps):\n",
    "            if c == 0:\n",
    "                if np.random.rand(1)> e:\n",
    "                    action_index=np.argmax(Q_t)                    \n",
    "                else:\n",
    "                    action_index=Q_t.index(np.random.choice(Q_t))\n",
    "                    \n",
    "            elif c!=0:\n",
    "                if j<num_arms:\n",
    "                    for x in range(num_arms):\n",
    "                        if action_counter[x]==0:\n",
    "                            action_index=x\n",
    "                            break                           \n",
    "                        else: \n",
    "                            continue\n",
    "                            \n",
    "                else:\n",
    "                    Q_c=[0]*num_arms\n",
    "                    for ii in range(num_arms):\n",
    "                        Q_c[ii]=Q_t[ii]+c*np.sqrt(np.log(j)/action_counter[ii])\n",
    "                        \n",
    "                    action_index=np.argmax(Q_c)\n",
    "                    \n",
    "            action_counter[action_index]+=1 \n",
    "            reward[i][j]=np.random.normal(q[action_index],1)\n",
    "            Q_t[action_index]=Q_t[action_index]+(1/action_counter[action_index])*(reward[i][j]-Q_t[action_index])\n",
    "            \n",
    "            if action_index ==optimal_value_index[i]:\n",
    "                is_optimal[i][j]=1\n",
    "                \n",
    "            else:\n",
    "                is_optimal[i][j]=0\n",
    "                \n",
    "    return(reward,is_optimal)  \n",
    "    \n"
   ]
  },
  {
   "cell_type": "code",
   "execution_count": 4,
   "metadata": {},
   "outputs": [],
   "source": [
    "# Write a function that plays all the games asked in the question\n",
    "# your implementation should loop over all strategies, all runs, and all time steps\n",
    "# and should output the collected rewards and number of best action selections for each strategy\n",
    "\n",
    "# Your code here\n",
    "\n",
    "def play():\n",
    "        results = np.empty(shape=(num_strategies,2),dtype='object')\n",
    "        Q_star=k_armed_bandit()# we want the same Q_star for all 5 method.\n",
    "        for s in range(num_strategies):\n",
    "            if s ==0:\n",
    "                results[0,0],results[0,1]=play_k_armed_bandit(0,0,Q_star)\n",
    "            if s ==1:\n",
    "                results[1,0],results[1,1]=play_k_armed_bandit(0.1,0,Q_star)\n",
    "            if s ==2:\n",
    "                results[2,0],results[2,1]=play_k_armed_bandit(0.01,0,Q_star)\n",
    "            if s ==3:\n",
    "                results[3,0],results[3,1]=play_k_armed_bandit(0,1,Q_star)\n",
    "            if s ==4:\n",
    "                results[4,0],results[4,1]=play_k_armed_bandit(0,2,Q_star) \n",
    "                \n",
    "        return results\n"
   ]
  },
  {
   "cell_type": "code",
   "execution_count": 5,
   "metadata": {},
   "outputs": [],
   "source": [
    "# Use the previous function with actual values to run the experiments\n",
    "\n",
    "\n",
    "# Your code here\n",
    "num_arms = 7\n",
    "num_strategies = 5\n",
    "num_runs = 500\n",
    "num_timesteps = 1000\n",
    "\n",
    "results=play()# all rewards and optimal averages are stored in result\n"
   ]
  },
  {
   "cell_type": "markdown",
   "metadata": {},
   "source": [
    "For all three settings, plot the **average reward** and **%optimal action** graphs."
   ]
  },
  {
   "cell_type": "code",
   "execution_count": 6,
   "metadata": {},
   "outputs": [
    {
     "data": {
      "text/plain": [
       "<matplotlib.legend.Legend at 0x7f6cd764bd68>"
      ]
     },
     "execution_count": 6,
     "metadata": {},
     "output_type": "execute_result"
    },
    {
     "data": {
      "image/png": "[encoded data removed]",
      "text/plain": [
       "<Figure size 432x288 with 2 Axes>"
      ]
     },
     "metadata": {
      "needs_background": "light"
     },
     "output_type": "display_data"
    }
   ],
   "source": [
    "# Average the rewards and number of best action selections over all runs\n",
    "# then plot (a) average reward, (b) %optimal action over all time steps\n",
    "# you should plot two subplots (a and b) each showing all strategies\n",
    "\n",
    "# Your code here\n",
    "def average(reward,is_optimal):\n",
    "    average_reward=[0]*num_timesteps\n",
    "    optimal_average=[0]*num_timesteps\n",
    "    for i in range(num_timesteps):\n",
    "        average_reward[i]=(np.sum(reward[:,i]))/len(reward[:,i])\n",
    "        optimal_average[i]=(np.sum(is_optimal[:,i])/len(is_optimal[:,i]))*100\n",
    "        \n",
    "    return(average_reward,optimal_average)\n",
    "\n",
    "reward_greedy,optimal_average_greedy=average(results[0,0],results[0,1])\n",
    "reward_egreedy_1,optimal_average_egreedy_1=average(results[1,0],results[1,1])\n",
    "reward_egreedy_01,optimal_average_egreedy_01=average(results[2,0],results[2,1])\n",
    "reward_UCB_1,optimal_average_UCB_1=average(results[3,0],results[3,1])\n",
    "reward_UCB_2,optimal_average_UCB_2=average(results[4,0],results[4,1])\n",
    "\n",
    "fig=plt.figure()\n",
    "\n",
    "plt.subplot(1,2,1)\n",
    "plt.xlabel(\"time_step\")\n",
    "plt.ylabel(\"average_reward\")\n",
    "plt.plot(range(num_timesteps),reward_greedy,label='greedy')\n",
    "plt.plot(range(num_timesteps),reward_egreedy_1,label='e=0.1')\n",
    "plt.plot(range(num_timesteps),reward_egreedy_01,label='e=0.01')\n",
    "plt.plot(range(num_timesteps),reward_UCB_1,label='UCB_1')\n",
    "plt.plot(range(num_timesteps),reward_UCB_2,label='UCB_2')\n",
    "plt.legend()\n",
    "\n",
    "plt.subplot(1,2,2)\n",
    "plt.xlabel(\"time_step\")\n",
    "plt.ylabel(\"optimal_average\")\n",
    "plt.plot(range(num_timesteps),optimal_average_greedy,label='greedy')\n",
    "plt.plot(range(num_timesteps),optimal_average_egreedy_1,label='e=0.1')\n",
    "plt.plot(range(num_timesteps),optimal_average_egreedy_01,label='e=0.01')\n",
    "plt.plot(range(num_timesteps),optimal_average_UCB_1,label='UCB_1')\n",
    "plt.plot(range(num_timesteps),optimal_average_UCB_2,label='UCB_2')\n",
    "plt.legend()"
   ]
  },
  {
   "cell_type": "markdown",
   "metadata": {},
   "source": [
    "Answer the following questions:"
   ]
  },
  {
   "cell_type": "markdown",
   "metadata": {},
   "source": [
    "1. which action selection method performs worse than others? Why?\n",
    ">Answer:Greedy. Because in this method action selection is based on the available rewards and does not explore enough. "
   ]
  },
  {
   "cell_type": "markdown",
   "metadata": {},
   "source": [
    "2. Which $\\varepsilon$ value improves faster? What is the best average reward value?\n",
    ">Answer:The larger e_value. because the larger portion of choices are random at first. the best average value is ~1.2 \n",
    "\n"
   ]
  },
  {
   "cell_type": "markdown",
   "metadata": {},
   "source": [
    "3. Which $\\varepsilon$ value will perform best in the long run in terms of cumulative reward and probability of selecting the best action? How much better will it be?\n",
    ">Answer:The smaller one. In the long run, the chance to select the best action is equal to (1-e)+(e/k). in this case the chance for e = 0.1 is 91.42% and for e=0.01 is 99.14%. \n",
    "\n"
   ]
  },
  {
   "cell_type": "markdown",
   "metadata": {},
   "source": [
    "4. What is the difference between results from $c=1$ and $c=2$? Why?\n",
    ">Answer:\n",
    "C=1 has a better optimal_average and receives a better reward. The sqrt term is an amount that is added to Q_t and every time an action is not selected,it's coresponding term increases .So the very low initial 'Q_t's with the higher c have a good chance to increase faster and their chance to be picked goes up. As C=1 is less than c=2 ,the chance for electing the machin with the very low first Q_t drops. So the switch occurs only between machines with high 'Q_t's.So the waisted picks is less and this way the chance to exploite the optimal action is better.\n"
   ]
  },
  {
   "cell_type": "markdown",
   "metadata": {},
   "source": [
    "5. Why is there a performance spike on the 8th step for the UCB method?\n",
    ">Answer:\n",
    "because in the first 7 step, the algorithm plays all machines and all of them has a initial value and the next action selection is much more valid, because all the initial values are somehow around their true values.  \n"
   ]
  },
  {
   "cell_type": "markdown",
   "metadata": {},
   "source": [
    "## Part 3*\n",
    "\n",
    "Implement the Gradient Bandit algorithm and plot the **average reward** and **%optimal action** graphs for the testbed you developed according to the following settings:\n",
    "1. Using $\\alpha=0.01$, $\\alpha=0.1$, and $\\alpha=0.5$\n",
    "2. Using no reward baseline, reward baseline of +5, reward baseline of +10\n"
   ]
  },
  {
   "cell_type": "code",
   "execution_count": 19,
   "metadata": {},
   "outputs": [],
   "source": [
    "# Your code here\n"
   ]
  },
  {
   "cell_type": "markdown",
   "metadata": {},
   "source": [
    "Answer the following questions:\n"
   ]
  },
  {
   "cell_type": "markdown",
   "metadata": {},
   "source": [
    "1. How do you compare the effect of reward baseline (discuss all scenarios)?\n",
    ">Answer:\n",
    "\n"
   ]
  },
  {
   "cell_type": "markdown",
   "metadata": {},
   "source": [
    "2. How do you compare the effect of step size (discuss all scenarios)?\n",
    ">Answer:\n",
    "\n"
   ]
  },
  {
   "cell_type": "code",
   "execution_count": null,
   "metadata": {},
   "outputs": [],
   "source": []
  },
  {
   "cell_type": "code",
   "execution_count": null,
   "metadata": {},
   "outputs": [],
   "source": []
  },
  {
   "cell_type": "code",
   "execution_count": null,
   "metadata": {},
   "outputs": [],
   "source": []
  },
  {
   "cell_type": "code",
   "execution_count": null,
   "metadata": {},
   "outputs": [],
   "source": []
  },
  {
   "cell_type": "code",
   "execution_count": null,
   "metadata": {},
   "outputs": [],
   "source": []
  },
  {
   "cell_type": "code",
   "execution_count": null,
   "metadata": {},
   "outputs": [],
   "source": []
  },
  {
   "cell_type": "code",
   "execution_count": null,
   "metadata": {},
   "outputs": [],
   "source": []
  },
  {
   "cell_type": "code",
   "execution_count": null,
   "metadata": {},
   "outputs": [],
   "source": []
  },
  {
   "cell_type": "code",
   "execution_count": null,
   "metadata": {},
   "outputs": [],
   "source": []
  },
  {
   "cell_type": "code",
   "execution_count": null,
   "metadata": {},
   "outputs": [],
   "source": []
  },
  {
   "cell_type": "code",
   "execution_count": null,
   "metadata": {},
   "outputs": [],
   "source": []
  },
  {
   "cell_type": "code",
   "execution_count": null,
   "metadata": {},
   "outputs": [],
   "source": []
  },
  {
   "cell_type": "code",
   "execution_count": null,
   "metadata": {},
   "outputs": [],
   "source": []
  },
  {
   "cell_type": "code",
   "execution_count": null,
   "metadata": {},
   "outputs": [],
   "source": []
  }
 ],
 "metadata": {
  "kernelspec": {
   "display_name": "Python 3 (ipykernel)",
   "language": "python",
   "name": "python3"
  },
  "language_info": {
   "codemirror_mode": {
    "name": "ipython",
    "version": 3
   },
   "file_extension": ".py",
   "mimetype": "text/x-python",
   "name": "python",
   "nbconvert_exporter": "python",
   "pygments_lexer": "ipython3",
   "version": "3.9.12"
  }
 },
 "nbformat": 4,
 "nbformat_minor": 4
}
